{
 "cells": [
  {
   "cell_type": "markdown",
   "id": "87bc0edf",
   "metadata": {},
   "source": [
    "# ANALISIS MULTITEMPORAL MAATE"
   ]
  },
  {
   "cell_type": "markdown",
   "id": "45a81077",
   "metadata": {},
   "source": [
    "El presente Notebook tiene una serie de scripts que se pueden utilizar para seguir con la misma metodología para el análisis de la variación de uso de suelo. Existen dos fuentes de información fundamentales: La capa de cobertura de uso de suelo Nacional proporcionada por el MAATE en el SUIA (Sistema Único de Información Ambiental) y la división geopolítica. Esta información se analiza en capas de formato shapefile."
   ]
  },
  {
   "cell_type": "code",
   "execution_count": 6,
   "id": "4973145f",
   "metadata": {},
   "outputs": [
    {
     "name": "stdout",
     "output_type": "stream",
     "text": [
      "Requirement already satisfied: geopandas in c:\\users\\nacho\\miniforge3\\envs\\geo_env\\lib\\site-packages (1.1.1)\n",
      "Collecting rtree\n",
      "  Downloading rtree-1.4.1-py3-none-win_amd64.whl.metadata (2.2 kB)\n",
      "Requirement already satisfied: mapclassify in c:\\users\\nacho\\miniforge3\\envs\\geo_env\\lib\\site-packages (2.10.0)\n",
      "Requirement already satisfied: numpy>=1.24 in c:\\users\\nacho\\miniforge3\\envs\\geo_env\\lib\\site-packages (from geopandas) (2.3.3)\n",
      "Requirement already satisfied: pyogrio>=0.7.2 in c:\\users\\nacho\\miniforge3\\envs\\geo_env\\lib\\site-packages (from geopandas) (0.11.1)\n",
      "Requirement already satisfied: packaging in c:\\users\\nacho\\miniforge3\\envs\\geo_env\\lib\\site-packages (from geopandas) (25.0)\n",
      "Requirement already satisfied: pandas>=2.0.0 in c:\\users\\nacho\\miniforge3\\envs\\geo_env\\lib\\site-packages (from geopandas) (2.3.2)\n",
      "Requirement already satisfied: pyproj>=3.5.0 in c:\\users\\nacho\\miniforge3\\envs\\geo_env\\lib\\site-packages (from geopandas) (3.7.2)\n",
      "Requirement already satisfied: shapely>=2.0.0 in c:\\users\\nacho\\miniforge3\\envs\\geo_env\\lib\\site-packages (from geopandas) (2.1.1)\n",
      "Requirement already satisfied: networkx>=3.2 in c:\\users\\nacho\\miniforge3\\envs\\geo_env\\lib\\site-packages (from mapclassify) (3.5)\n",
      "Requirement already satisfied: scikit-learn>=1.4 in c:\\users\\nacho\\miniforge3\\envs\\geo_env\\lib\\site-packages (from mapclassify) (1.7.2)\n",
      "Requirement already satisfied: scipy>=1.12 in c:\\users\\nacho\\miniforge3\\envs\\geo_env\\lib\\site-packages (from mapclassify) (1.16.2)\n",
      "Requirement already satisfied: python-dateutil>=2.8.2 in c:\\users\\nacho\\miniforge3\\envs\\geo_env\\lib\\site-packages (from pandas>=2.0.0->geopandas) (2.9.0.post0)\n",
      "Requirement already satisfied: pytz>=2020.1 in c:\\users\\nacho\\miniforge3\\envs\\geo_env\\lib\\site-packages (from pandas>=2.0.0->geopandas) (2025.2)\n",
      "Requirement already satisfied: tzdata>=2022.7 in c:\\users\\nacho\\miniforge3\\envs\\geo_env\\lib\\site-packages (from pandas>=2.0.0->geopandas) (2025.2)\n",
      "Requirement already satisfied: certifi in c:\\users\\nacho\\miniforge3\\envs\\geo_env\\lib\\site-packages (from pyogrio>=0.7.2->geopandas) (2025.8.3)\n",
      "Requirement already satisfied: six>=1.5 in c:\\users\\nacho\\miniforge3\\envs\\geo_env\\lib\\site-packages (from python-dateutil>=2.8.2->pandas>=2.0.0->geopandas) (1.17.0)\n",
      "Requirement already satisfied: joblib>=1.2.0 in c:\\users\\nacho\\miniforge3\\envs\\geo_env\\lib\\site-packages (from scikit-learn>=1.4->mapclassify) (1.5.2)\n",
      "Requirement already satisfied: threadpoolctl>=3.1.0 in c:\\users\\nacho\\miniforge3\\envs\\geo_env\\lib\\site-packages (from scikit-learn>=1.4->mapclassify) (3.6.0)\n",
      "Downloading rtree-1.4.1-py3-none-win_amd64.whl (389 kB)\n",
      "Installing collected packages: rtree\n",
      "Successfully installed rtree-1.4.1\n",
      "Collecting openpyxl\n",
      "  Downloading openpyxl-3.1.5-py2.py3-none-any.whl.metadata (2.5 kB)\n",
      "Collecting et-xmlfile (from openpyxl)\n",
      "  Downloading et_xmlfile-2.0.0-py3-none-any.whl.metadata (2.7 kB)\n",
      "Downloading openpyxl-3.1.5-py2.py3-none-any.whl (250 kB)\n",
      "Downloading et_xmlfile-2.0.0-py3-none-any.whl (18 kB)\n",
      "Installing collected packages: et-xmlfile, openpyxl\n",
      "\n",
      "   -------------------- ------------------- 1/2 [openpyxl]\n",
      "   -------------------- ------------------- 1/2 [openpyxl]\n",
      "   -------------------- ------------------- 1/2 [openpyxl]\n",
      "   -------------------- ------------------- 1/2 [openpyxl]\n",
      "   ---------------------------------------- 2/2 [openpyxl]\n",
      "\n",
      "Successfully installed et-xmlfile-2.0.0 openpyxl-3.1.5\n"
     ]
    }
   ],
   "source": [
    "!pip install geopandas rtree mapclassify \n",
    "!pip install openpyxl"
   ]
  },
  {
   "cell_type": "code",
   "execution_count": null,
   "id": "38f55274",
   "metadata": {},
   "outputs": [
    {
     "name": "stdout",
     "output_type": "stream",
     "text": [
      "Importando librerías necesarias...\n",
      "Librerías importadas correctamente. ✅\n",
      "\n",
      "Cargando capas de división geopolítica...\n",
      "Capas geopolíticas cargadas exitosamente. 🗺️\n",
      "\n",
      "--- INICIANDO PROCESO DE ANÁLISIS ESPACIAL ---\n",
      "\n",
      "==================================================\n",
      "Procesando Área de Estudio: 16_abril\n",
      "==================================================\n",
      "\n",
      "   Procesando cobertura del año: 2018\n",
      "     1/5: Cortando capa de uso de suelo...\n",
      "     2/5: Calculando área en hectáreas...\n",
      "     3/5: Asignando información geopolítica...\n",
      "     4/5: Estandarizando tabla de atributos...\n",
      "     5/5: Guardando resultado en: cob2018_16_abril.shp\n",
      "     -> Archivo guardado con éxito. ✨\n",
      "\n",
      "   Procesando cobertura del año: 2020\n",
      "     1/5: Cortando capa de uso de suelo...\n",
      "     2/5: Calculando área en hectáreas...\n",
      "     3/5: Asignando información geopolítica...\n",
      "     4/5: Estandarizando tabla de atributos...\n",
      "     5/5: Guardando resultado en: cob2020_16_abril.shp\n",
      "     -> Archivo guardado con éxito. ✨\n",
      "\n",
      "   Procesando cobertura del año: 2022\n"
     ]
    },
    {
     "name": "stderr",
     "output_type": "stream",
     "text": [
      "c:\\Users\\nacho\\miniforge3\\envs\\geo_env\\Lib\\site-packages\\geopandas\\geodataframe.py:1968: SettingWithCopyWarning: \n",
      "A value is trying to be set on a copy of a slice from a DataFrame.\n",
      "Try using .loc[row_indexer,col_indexer] = value instead\n",
      "\n",
      "See the caveats in the documentation: https://pandas.pydata.org/pandas-docs/stable/user_guide/indexing.html#returning-a-view-versus-a-copy\n",
      "  super().__setitem__(key, value)\n"
     ]
    },
    {
     "name": "stdout",
     "output_type": "stream",
     "text": [
      "     1/5: Cortando capa de uso de suelo...\n",
      "     2/5: Calculando área en hectáreas...\n",
      "     3/5: Asignando información geopolítica...\n",
      "     4/5: Estandarizando tabla de atributos...\n",
      "     5/5: Guardando resultado en: cob2022_16_abril.shp\n",
      "     -> Archivo guardado con éxito. ✨\n",
      "\n",
      "==================================================\n",
      "Procesando Área de Estudio: 24_mayo\n",
      "==================================================\n",
      "\n",
      "   Procesando cobertura del año: 2018\n"
     ]
    },
    {
     "name": "stderr",
     "output_type": "stream",
     "text": [
      "c:\\Users\\nacho\\miniforge3\\envs\\geo_env\\Lib\\site-packages\\geopandas\\geodataframe.py:1968: SettingWithCopyWarning: \n",
      "A value is trying to be set on a copy of a slice from a DataFrame.\n",
      "Try using .loc[row_indexer,col_indexer] = value instead\n",
      "\n",
      "See the caveats in the documentation: https://pandas.pydata.org/pandas-docs/stable/user_guide/indexing.html#returning-a-view-versus-a-copy\n",
      "  super().__setitem__(key, value)\n"
     ]
    },
    {
     "name": "stdout",
     "output_type": "stream",
     "text": [
      "     1/5: Cortando capa de uso de suelo...\n",
      "     2/5: Calculando área en hectáreas...\n",
      "     3/5: Asignando información geopolítica...\n",
      "     4/5: Estandarizando tabla de atributos...\n",
      "     5/5: Guardando resultado en: cob2018_24_mayo.shp\n",
      "     -> Archivo guardado con éxito. ✨\n",
      "\n",
      "   Procesando cobertura del año: 2020\n",
      "     1/5: Cortando capa de uso de suelo...\n",
      "     2/5: Calculando área en hectáreas...\n",
      "     3/5: Asignando información geopolítica...\n",
      "     4/5: Estandarizando tabla de atributos...\n",
      "     5/5: Guardando resultado en: cob2020_24_mayo.shp\n",
      "     -> Archivo guardado con éxito. ✨\n",
      "\n",
      "   Procesando cobertura del año: 2022\n"
     ]
    },
    {
     "name": "stderr",
     "output_type": "stream",
     "text": [
      "c:\\Users\\nacho\\miniforge3\\envs\\geo_env\\Lib\\site-packages\\geopandas\\geodataframe.py:1968: SettingWithCopyWarning: \n",
      "A value is trying to be set on a copy of a slice from a DataFrame.\n",
      "Try using .loc[row_indexer,col_indexer] = value instead\n",
      "\n",
      "See the caveats in the documentation: https://pandas.pydata.org/pandas-docs/stable/user_guide/indexing.html#returning-a-view-versus-a-copy\n",
      "  super().__setitem__(key, value)\n"
     ]
    },
    {
     "name": "stdout",
     "output_type": "stream",
     "text": [
      "     1/5: Cortando capa de uso de suelo...\n",
      "     2/5: Calculando área en hectáreas...\n",
      "     3/5: Asignando información geopolítica...\n",
      "     4/5: Estandarizando tabla de atributos...\n",
      "     5/5: Guardando resultado en: cob2022_24_mayo.shp\n",
      "     -> Archivo guardado con éxito. ✨\n",
      "\n",
      "==================================================\n",
      "Procesando Área de Estudio: 28_marzo\n",
      "==================================================\n",
      "\n",
      "   Procesando cobertura del año: 2018\n"
     ]
    },
    {
     "name": "stderr",
     "output_type": "stream",
     "text": [
      "c:\\Users\\nacho\\miniforge3\\envs\\geo_env\\Lib\\site-packages\\geopandas\\geodataframe.py:1968: SettingWithCopyWarning: \n",
      "A value is trying to be set on a copy of a slice from a DataFrame.\n",
      "Try using .loc[row_indexer,col_indexer] = value instead\n",
      "\n",
      "See the caveats in the documentation: https://pandas.pydata.org/pandas-docs/stable/user_guide/indexing.html#returning-a-view-versus-a-copy\n",
      "  super().__setitem__(key, value)\n"
     ]
    },
    {
     "name": "stdout",
     "output_type": "stream",
     "text": [
      "     1/5: Cortando capa de uso de suelo...\n",
      "     2/5: Calculando área en hectáreas...\n",
      "     3/5: Asignando información geopolítica...\n",
      "     4/5: Estandarizando tabla de atributos...\n",
      "     5/5: Guardando resultado en: cob2018_28_marzo.shp\n",
      "     -> Archivo guardado con éxito. ✨\n",
      "\n",
      "   Procesando cobertura del año: 2020\n",
      "     1/5: Cortando capa de uso de suelo...\n",
      "     2/5: Calculando área en hectáreas...\n",
      "     3/5: Asignando información geopolítica...\n",
      "     4/5: Estandarizando tabla de atributos...\n",
      "     5/5: Guardando resultado en: cob2020_28_marzo.shp\n",
      "     -> Archivo guardado con éxito. ✨\n",
      "\n",
      "   Procesando cobertura del año: 2022\n"
     ]
    },
    {
     "name": "stderr",
     "output_type": "stream",
     "text": [
      "c:\\Users\\nacho\\miniforge3\\envs\\geo_env\\Lib\\site-packages\\geopandas\\geodataframe.py:1968: SettingWithCopyWarning: \n",
      "A value is trying to be set on a copy of a slice from a DataFrame.\n",
      "Try using .loc[row_indexer,col_indexer] = value instead\n",
      "\n",
      "See the caveats in the documentation: https://pandas.pydata.org/pandas-docs/stable/user_guide/indexing.html#returning-a-view-versus-a-copy\n",
      "  super().__setitem__(key, value)\n"
     ]
    },
    {
     "name": "stdout",
     "output_type": "stream",
     "text": [
      "     1/5: Cortando capa de uso de suelo...\n",
      "     2/5: Calculando área en hectáreas...\n",
      "     3/5: Asignando información geopolítica...\n",
      "     4/5: Estandarizando tabla de atributos...\n",
      "     5/5: Guardando resultado en: cob2022_28_marzo.shp\n",
      "     -> Archivo guardado con éxito. ✨\n",
      "\n",
      "==================================================\n",
      "Procesando Área de Estudio: 29_marzo\n",
      "==================================================\n",
      "\n",
      "   Procesando cobertura del año: 2018\n"
     ]
    },
    {
     "name": "stderr",
     "output_type": "stream",
     "text": [
      "c:\\Users\\nacho\\miniforge3\\envs\\geo_env\\Lib\\site-packages\\geopandas\\geodataframe.py:1968: SettingWithCopyWarning: \n",
      "A value is trying to be set on a copy of a slice from a DataFrame.\n",
      "Try using .loc[row_indexer,col_indexer] = value instead\n",
      "\n",
      "See the caveats in the documentation: https://pandas.pydata.org/pandas-docs/stable/user_guide/indexing.html#returning-a-view-versus-a-copy\n",
      "  super().__setitem__(key, value)\n"
     ]
    },
    {
     "name": "stdout",
     "output_type": "stream",
     "text": [
      "     1/5: Cortando capa de uso de suelo...\n",
      "     2/5: Calculando área en hectáreas...\n",
      "     3/5: Asignando información geopolítica...\n",
      "     4/5: Estandarizando tabla de atributos...\n",
      "     5/5: Guardando resultado en: cob2018_29_marzo.shp\n",
      "     -> Archivo guardado con éxito. ✨\n",
      "\n",
      "   Procesando cobertura del año: 2020\n",
      "     1/5: Cortando capa de uso de suelo...\n",
      "     2/5: Calculando área en hectáreas...\n",
      "     3/5: Asignando información geopolítica...\n",
      "     4/5: Estandarizando tabla de atributos...\n",
      "     5/5: Guardando resultado en: cob2020_29_marzo.shp\n",
      "     -> Archivo guardado con éxito. ✨\n",
      "\n",
      "   Procesando cobertura del año: 2022\n"
     ]
    },
    {
     "name": "stderr",
     "output_type": "stream",
     "text": [
      "c:\\Users\\nacho\\miniforge3\\envs\\geo_env\\Lib\\site-packages\\geopandas\\geodataframe.py:1968: SettingWithCopyWarning: \n",
      "A value is trying to be set on a copy of a slice from a DataFrame.\n",
      "Try using .loc[row_indexer,col_indexer] = value instead\n",
      "\n",
      "See the caveats in the documentation: https://pandas.pydata.org/pandas-docs/stable/user_guide/indexing.html#returning-a-view-versus-a-copy\n",
      "  super().__setitem__(key, value)\n"
     ]
    },
    {
     "name": "stdout",
     "output_type": "stream",
     "text": [
      "     1/5: Cortando capa de uso de suelo...\n",
      "     2/5: Calculando área en hectáreas...\n",
      "     3/5: Asignando información geopolítica...\n",
      "     4/5: Estandarizando tabla de atributos...\n",
      "     5/5: Guardando resultado en: cob2022_29_marzo.shp\n",
      "     -> Archivo guardado con éxito. ✨\n",
      "\n",
      "==================================================\n",
      "Procesando Área de Estudio: 6_junio\n",
      "==================================================\n",
      "\n",
      "   Procesando cobertura del año: 2018\n"
     ]
    },
    {
     "name": "stderr",
     "output_type": "stream",
     "text": [
      "c:\\Users\\nacho\\miniforge3\\envs\\geo_env\\Lib\\site-packages\\geopandas\\geodataframe.py:1968: SettingWithCopyWarning: \n",
      "A value is trying to be set on a copy of a slice from a DataFrame.\n",
      "Try using .loc[row_indexer,col_indexer] = value instead\n",
      "\n",
      "See the caveats in the documentation: https://pandas.pydata.org/pandas-docs/stable/user_guide/indexing.html#returning-a-view-versus-a-copy\n",
      "  super().__setitem__(key, value)\n"
     ]
    },
    {
     "name": "stdout",
     "output_type": "stream",
     "text": [
      "     1/5: Cortando capa de uso de suelo...\n",
      "     2/5: Calculando área en hectáreas...\n",
      "     3/5: Asignando información geopolítica...\n",
      "     4/5: Estandarizando tabla de atributos...\n",
      "     5/5: Guardando resultado en: cob2018_6_junio.shp\n",
      "     -> Archivo guardado con éxito. ✨\n",
      "\n",
      "   Procesando cobertura del año: 2020\n",
      "     1/5: Cortando capa de uso de suelo...\n",
      "     2/5: Calculando área en hectáreas...\n",
      "     3/5: Asignando información geopolítica...\n",
      "     4/5: Estandarizando tabla de atributos...\n",
      "     5/5: Guardando resultado en: cob2020_6_junio.shp\n",
      "     -> Archivo guardado con éxito. ✨\n",
      "\n",
      "   Procesando cobertura del año: 2022\n"
     ]
    },
    {
     "name": "stderr",
     "output_type": "stream",
     "text": [
      "c:\\Users\\nacho\\miniforge3\\envs\\geo_env\\Lib\\site-packages\\geopandas\\geodataframe.py:1968: SettingWithCopyWarning: \n",
      "A value is trying to be set on a copy of a slice from a DataFrame.\n",
      "Try using .loc[row_indexer,col_indexer] = value instead\n",
      "\n",
      "See the caveats in the documentation: https://pandas.pydata.org/pandas-docs/stable/user_guide/indexing.html#returning-a-view-versus-a-copy\n",
      "  super().__setitem__(key, value)\n"
     ]
    },
    {
     "name": "stdout",
     "output_type": "stream",
     "text": [
      "     1/5: Cortando capa de uso de suelo...\n",
      "     2/5: Calculando área en hectáreas...\n",
      "     3/5: Asignando información geopolítica...\n",
      "     4/5: Estandarizando tabla de atributos...\n",
      "     5/5: Guardando resultado en: cob2022_6_junio.shp\n",
      "     -> Archivo guardado con éxito. ✨\n",
      "\n",
      "==================================================\n",
      "Procesando Área de Estudio: 9_de_marzo\n",
      "==================================================\n",
      "\n",
      "   Procesando cobertura del año: 2018\n"
     ]
    },
    {
     "name": "stderr",
     "output_type": "stream",
     "text": [
      "c:\\Users\\nacho\\miniforge3\\envs\\geo_env\\Lib\\site-packages\\geopandas\\geodataframe.py:1968: SettingWithCopyWarning: \n",
      "A value is trying to be set on a copy of a slice from a DataFrame.\n",
      "Try using .loc[row_indexer,col_indexer] = value instead\n",
      "\n",
      "See the caveats in the documentation: https://pandas.pydata.org/pandas-docs/stable/user_guide/indexing.html#returning-a-view-versus-a-copy\n",
      "  super().__setitem__(key, value)\n"
     ]
    },
    {
     "name": "stdout",
     "output_type": "stream",
     "text": [
      "     1/5: Cortando capa de uso de suelo...\n",
      "     2/5: Calculando área en hectáreas...\n",
      "     3/5: Asignando información geopolítica...\n",
      "     4/5: Estandarizando tabla de atributos...\n",
      "     5/5: Guardando resultado en: cob2018_9_de_marzo.shp\n",
      "     -> Archivo guardado con éxito. ✨\n",
      "\n",
      "   Procesando cobertura del año: 2020\n",
      "     1/5: Cortando capa de uso de suelo...\n",
      "     2/5: Calculando área en hectáreas...\n",
      "     3/5: Asignando información geopolítica...\n",
      "     4/5: Estandarizando tabla de atributos...\n",
      "     5/5: Guardando resultado en: cob2020_9_de_marzo.shp\n",
      "     -> Archivo guardado con éxito. ✨\n",
      "\n",
      "   Procesando cobertura del año: 2022\n"
     ]
    },
    {
     "name": "stderr",
     "output_type": "stream",
     "text": [
      "c:\\Users\\nacho\\miniforge3\\envs\\geo_env\\Lib\\site-packages\\geopandas\\geodataframe.py:1968: SettingWithCopyWarning: \n",
      "A value is trying to be set on a copy of a slice from a DataFrame.\n",
      "Try using .loc[row_indexer,col_indexer] = value instead\n",
      "\n",
      "See the caveats in the documentation: https://pandas.pydata.org/pandas-docs/stable/user_guide/indexing.html#returning-a-view-versus-a-copy\n",
      "  super().__setitem__(key, value)\n"
     ]
    },
    {
     "name": "stdout",
     "output_type": "stream",
     "text": [
      "     1/5: Cortando capa de uso de suelo...\n",
      "     2/5: Calculando área en hectáreas...\n",
      "     3/5: Asignando información geopolítica...\n",
      "     4/5: Estandarizando tabla de atributos...\n",
      "     5/5: Guardando resultado en: cob2022_9_de_marzo.shp\n",
      "     -> Archivo guardado con éxito. ✨\n",
      "\n",
      "==================================================\n",
      "Procesando Área de Estudio: alto_huino\n",
      "==================================================\n",
      "\n",
      "   Procesando cobertura del año: 2018\n"
     ]
    },
    {
     "name": "stderr",
     "output_type": "stream",
     "text": [
      "c:\\Users\\nacho\\miniforge3\\envs\\geo_env\\Lib\\site-packages\\geopandas\\geodataframe.py:1968: SettingWithCopyWarning: \n",
      "A value is trying to be set on a copy of a slice from a DataFrame.\n",
      "Try using .loc[row_indexer,col_indexer] = value instead\n",
      "\n",
      "See the caveats in the documentation: https://pandas.pydata.org/pandas-docs/stable/user_guide/indexing.html#returning-a-view-versus-a-copy\n",
      "  super().__setitem__(key, value)\n"
     ]
    },
    {
     "name": "stdout",
     "output_type": "stream",
     "text": [
      "     1/5: Cortando capa de uso de suelo...\n",
      "     2/5: Calculando área en hectáreas...\n",
      "     3/5: Asignando información geopolítica...\n",
      "     4/5: Estandarizando tabla de atributos...\n",
      "     5/5: Guardando resultado en: cob2018_alto_huino.shp\n",
      "     -> Archivo guardado con éxito. ✨\n",
      "\n",
      "   Procesando cobertura del año: 2020\n",
      "     1/5: Cortando capa de uso de suelo...\n",
      "     2/5: Calculando área en hectáreas...\n",
      "     3/5: Asignando información geopolítica...\n",
      "     4/5: Estandarizando tabla de atributos...\n",
      "     5/5: Guardando resultado en: cob2020_alto_huino.shp\n",
      "     -> Archivo guardado con éxito. ✨\n",
      "\n",
      "   Procesando cobertura del año: 2022\n"
     ]
    },
    {
     "name": "stderr",
     "output_type": "stream",
     "text": [
      "c:\\Users\\nacho\\miniforge3\\envs\\geo_env\\Lib\\site-packages\\geopandas\\geodataframe.py:1968: SettingWithCopyWarning: \n",
      "A value is trying to be set on a copy of a slice from a DataFrame.\n",
      "Try using .loc[row_indexer,col_indexer] = value instead\n",
      "\n",
      "See the caveats in the documentation: https://pandas.pydata.org/pandas-docs/stable/user_guide/indexing.html#returning-a-view-versus-a-copy\n",
      "  super().__setitem__(key, value)\n"
     ]
    },
    {
     "name": "stdout",
     "output_type": "stream",
     "text": [
      "     1/5: Cortando capa de uso de suelo...\n",
      "     2/5: Calculando área en hectáreas...\n",
      "     3/5: Asignando información geopolítica...\n",
      "     4/5: Estandarizando tabla de atributos...\n",
      "     5/5: Guardando resultado en: cob2022_alto_huino.shp\n",
      "     -> Archivo guardado con éxito. ✨\n",
      "\n",
      "==================================================\n",
      "Procesando Área de Estudio: amazonas\n",
      "==================================================\n",
      "\n",
      "   Procesando cobertura del año: 2018\n"
     ]
    },
    {
     "name": "stderr",
     "output_type": "stream",
     "text": [
      "c:\\Users\\nacho\\miniforge3\\envs\\geo_env\\Lib\\site-packages\\geopandas\\geodataframe.py:1968: SettingWithCopyWarning: \n",
      "A value is trying to be set on a copy of a slice from a DataFrame.\n",
      "Try using .loc[row_indexer,col_indexer] = value instead\n",
      "\n",
      "See the caveats in the documentation: https://pandas.pydata.org/pandas-docs/stable/user_guide/indexing.html#returning-a-view-versus-a-copy\n",
      "  super().__setitem__(key, value)\n"
     ]
    },
    {
     "name": "stdout",
     "output_type": "stream",
     "text": [
      "     1/5: Cortando capa de uso de suelo...\n",
      "     2/5: Calculando área en hectáreas...\n",
      "     3/5: Asignando información geopolítica...\n",
      "     4/5: Estandarizando tabla de atributos...\n",
      "     5/5: Guardando resultado en: cob2018_amazonas.shp\n",
      "     -> Archivo guardado con éxito. ✨\n",
      "\n",
      "   Procesando cobertura del año: 2020\n",
      "     1/5: Cortando capa de uso de suelo...\n",
      "     2/5: Calculando área en hectáreas...\n",
      "     3/5: Asignando información geopolítica...\n",
      "     4/5: Estandarizando tabla de atributos...\n",
      "     5/5: Guardando resultado en: cob2020_amazonas.shp\n",
      "     -> Archivo guardado con éxito. ✨\n",
      "\n",
      "   Procesando cobertura del año: 2022\n"
     ]
    },
    {
     "name": "stderr",
     "output_type": "stream",
     "text": [
      "c:\\Users\\nacho\\miniforge3\\envs\\geo_env\\Lib\\site-packages\\geopandas\\geodataframe.py:1968: SettingWithCopyWarning: \n",
      "A value is trying to be set on a copy of a slice from a DataFrame.\n",
      "Try using .loc[row_indexer,col_indexer] = value instead\n",
      "\n",
      "See the caveats in the documentation: https://pandas.pydata.org/pandas-docs/stable/user_guide/indexing.html#returning-a-view-versus-a-copy\n",
      "  super().__setitem__(key, value)\n"
     ]
    },
    {
     "name": "stdout",
     "output_type": "stream",
     "text": [
      "     1/5: Cortando capa de uso de suelo...\n",
      "     2/5: Calculando área en hectáreas...\n",
      "     3/5: Asignando información geopolítica...\n",
      "     4/5: Estandarizando tabla de atributos...\n",
      "     5/5: Guardando resultado en: cob2022_amazonas.shp\n",
      "     -> Archivo guardado con éxito. ✨\n",
      "\n",
      "==================================================\n",
      "Procesando Área de Estudio: angeles\n",
      "==================================================\n",
      "\n",
      "   Procesando cobertura del año: 2018\n"
     ]
    },
    {
     "name": "stderr",
     "output_type": "stream",
     "text": [
      "c:\\Users\\nacho\\miniforge3\\envs\\geo_env\\Lib\\site-packages\\geopandas\\geodataframe.py:1968: SettingWithCopyWarning: \n",
      "A value is trying to be set on a copy of a slice from a DataFrame.\n",
      "Try using .loc[row_indexer,col_indexer] = value instead\n",
      "\n",
      "See the caveats in the documentation: https://pandas.pydata.org/pandas-docs/stable/user_guide/indexing.html#returning-a-view-versus-a-copy\n",
      "  super().__setitem__(key, value)\n"
     ]
    },
    {
     "name": "stdout",
     "output_type": "stream",
     "text": [
      "     1/5: Cortando capa de uso de suelo...\n",
      "     2/5: Calculando área en hectáreas...\n",
      "     3/5: Asignando información geopolítica...\n"
     ]
    },
    {
     "name": "stderr",
     "output_type": "stream",
     "text": [
      "c:\\Users\\nacho\\miniforge3\\envs\\geo_env\\Lib\\site-packages\\geopandas\\tools\\overlay.py:358: UserWarning: `keep_geom_type=True` in overlay resulted in 55 dropped geometries of different geometry types than df1 has. Set `keep_geom_type=False` to retain all geometries\n",
      "  result = _collection_extract(result, geom_type, keep_geom_type_warning)\n",
      "c:\\Users\\nacho\\miniforge3\\envs\\geo_env\\Lib\\site-packages\\geopandas\\tools\\overlay.py:358: UserWarning: `keep_geom_type=True` in overlay resulted in 55 dropped geometries of different geometry types than df1 has. Set `keep_geom_type=False` to retain all geometries\n",
      "  result = _collection_extract(result, geom_type, keep_geom_type_warning)\n",
      "c:\\Users\\nacho\\miniforge3\\envs\\geo_env\\Lib\\site-packages\\geopandas\\tools\\overlay.py:358: UserWarning: `keep_geom_type=True` in overlay resulted in 519 dropped geometries of different geometry types than df1 has. Set `keep_geom_type=False` to retain all geometries\n",
      "  result = _collection_extract(result, geom_type, keep_geom_type_warning)\n"
     ]
    },
    {
     "name": "stdout",
     "output_type": "stream",
     "text": [
      "     4/5: Estandarizando tabla de atributos...\n",
      "     5/5: Guardando resultado en: cob2018_angeles.shp\n",
      "     -> Archivo guardado con éxito. ✨\n",
      "\n",
      "   Procesando cobertura del año: 2020\n",
      "     1/5: Cortando capa de uso de suelo...\n",
      "     2/5: Calculando área en hectáreas...\n",
      "     3/5: Asignando información geopolítica...\n"
     ]
    },
    {
     "name": "stderr",
     "output_type": "stream",
     "text": [
      "c:\\Users\\nacho\\miniforge3\\envs\\geo_env\\Lib\\site-packages\\geopandas\\tools\\overlay.py:358: UserWarning: `keep_geom_type=True` in overlay resulted in 55 dropped geometries of different geometry types than df1 has. Set `keep_geom_type=False` to retain all geometries\n",
      "  result = _collection_extract(result, geom_type, keep_geom_type_warning)\n",
      "c:\\Users\\nacho\\miniforge3\\envs\\geo_env\\Lib\\site-packages\\geopandas\\tools\\overlay.py:358: UserWarning: `keep_geom_type=True` in overlay resulted in 55 dropped geometries of different geometry types than df1 has. Set `keep_geom_type=False` to retain all geometries\n",
      "  result = _collection_extract(result, geom_type, keep_geom_type_warning)\n",
      "c:\\Users\\nacho\\miniforge3\\envs\\geo_env\\Lib\\site-packages\\geopandas\\tools\\overlay.py:358: UserWarning: `keep_geom_type=True` in overlay resulted in 501 dropped geometries of different geometry types than df1 has. Set `keep_geom_type=False` to retain all geometries\n",
      "  result = _collection_extract(result, geom_type, keep_geom_type_warning)\n",
      "c:\\Users\\nacho\\miniforge3\\envs\\geo_env\\Lib\\site-packages\\geopandas\\geodataframe.py:1968: SettingWithCopyWarning: \n",
      "A value is trying to be set on a copy of a slice from a DataFrame.\n",
      "Try using .loc[row_indexer,col_indexer] = value instead\n",
      "\n",
      "See the caveats in the documentation: https://pandas.pydata.org/pandas-docs/stable/user_guide/indexing.html#returning-a-view-versus-a-copy\n",
      "  super().__setitem__(key, value)\n"
     ]
    },
    {
     "name": "stdout",
     "output_type": "stream",
     "text": [
      "     4/5: Estandarizando tabla de atributos...\n",
      "     5/5: Guardando resultado en: cob2020_angeles.shp\n",
      "     -> Archivo guardado con éxito. ✨\n",
      "\n",
      "   Procesando cobertura del año: 2022\n",
      "     1/5: Cortando capa de uso de suelo...\n",
      "     2/5: Calculando área en hectáreas...\n",
      "     3/5: Asignando información geopolítica...\n"
     ]
    },
    {
     "name": "stderr",
     "output_type": "stream",
     "text": [
      "c:\\Users\\nacho\\miniforge3\\envs\\geo_env\\Lib\\site-packages\\geopandas\\tools\\overlay.py:358: UserWarning: `keep_geom_type=True` in overlay resulted in 53 dropped geometries of different geometry types than df1 has. Set `keep_geom_type=False` to retain all geometries\n",
      "  result = _collection_extract(result, geom_type, keep_geom_type_warning)\n",
      "c:\\Users\\nacho\\miniforge3\\envs\\geo_env\\Lib\\site-packages\\geopandas\\tools\\overlay.py:358: UserWarning: `keep_geom_type=True` in overlay resulted in 82 dropped geometries of different geometry types than df1 has. Set `keep_geom_type=False` to retain all geometries\n",
      "  result = _collection_extract(result, geom_type, keep_geom_type_warning)\n",
      "c:\\Users\\nacho\\miniforge3\\envs\\geo_env\\Lib\\site-packages\\geopandas\\tools\\overlay.py:358: UserWarning: `keep_geom_type=True` in overlay resulted in 218 dropped geometries of different geometry types than df1 has. Set `keep_geom_type=False` to retain all geometries\n",
      "  result = _collection_extract(result, geom_type, keep_geom_type_warning)\n",
      "c:\\Users\\nacho\\miniforge3\\envs\\geo_env\\Lib\\site-packages\\geopandas\\geodataframe.py:1968: SettingWithCopyWarning: \n",
      "A value is trying to be set on a copy of a slice from a DataFrame.\n",
      "Try using .loc[row_indexer,col_indexer] = value instead\n",
      "\n",
      "See the caveats in the documentation: https://pandas.pydata.org/pandas-docs/stable/user_guide/indexing.html#returning-a-view-versus-a-copy\n",
      "  super().__setitem__(key, value)\n"
     ]
    },
    {
     "name": "stdout",
     "output_type": "stream",
     "text": [
      "     4/5: Estandarizando tabla de atributos...\n",
      "     5/5: Guardando resultado en: cob2022_angeles.shp\n",
      "     -> Archivo guardado con éxito. ✨\n",
      "\n",
      "==================================================\n",
      "Procesando Área de Estudio: arapino\n",
      "==================================================\n",
      "\n",
      "   Procesando cobertura del año: 2018\n",
      "     1/5: Cortando capa de uso de suelo...\n",
      "     2/5: Calculando área en hectáreas...\n",
      "     3/5: Asignando información geopolítica...\n",
      "     4/5: Estandarizando tabla de atributos...\n",
      "     5/5: Guardando resultado en: cob2018_arapino.shp\n",
      "     -> Archivo guardado con éxito. ✨\n",
      "\n",
      "   Procesando cobertura del año: 2020\n",
      "     1/5: Cortando capa de uso de suelo...\n",
      "     2/5: Calculando área en hectáreas...\n",
      "     3/5: Asignando información geopolítica...\n",
      "     4/5: Estandarizando tabla de atributos...\n",
      "     5/5: Guardando resultado en: cob2020_arapino.shp\n",
      "     -> Archivo guardado con éxito. ✨\n",
      "\n",
      "   Procesando cobertura del año: 2022\n"
     ]
    },
    {
     "name": "stderr",
     "output_type": "stream",
     "text": [
      "c:\\Users\\nacho\\miniforge3\\envs\\geo_env\\Lib\\site-packages\\geopandas\\geodataframe.py:1968: SettingWithCopyWarning: \n",
      "A value is trying to be set on a copy of a slice from a DataFrame.\n",
      "Try using .loc[row_indexer,col_indexer] = value instead\n",
      "\n",
      "See the caveats in the documentation: https://pandas.pydata.org/pandas-docs/stable/user_guide/indexing.html#returning-a-view-versus-a-copy\n",
      "  super().__setitem__(key, value)\n"
     ]
    },
    {
     "name": "stdout",
     "output_type": "stream",
     "text": [
      "     1/5: Cortando capa de uso de suelo...\n",
      "     2/5: Calculando área en hectáreas...\n",
      "     3/5: Asignando información geopolítica...\n",
      "     4/5: Estandarizando tabla de atributos...\n",
      "     5/5: Guardando resultado en: cob2022_arapino.shp\n",
      "     -> Archivo guardado con éxito. ✨\n",
      "\n",
      "==================================================\n",
      "Procesando Área de Estudio: aromacacao_a\n",
      "==================================================\n",
      "\n",
      "   Procesando cobertura del año: 2018\n"
     ]
    },
    {
     "name": "stderr",
     "output_type": "stream",
     "text": [
      "c:\\Users\\nacho\\miniforge3\\envs\\geo_env\\Lib\\site-packages\\geopandas\\geodataframe.py:1968: SettingWithCopyWarning: \n",
      "A value is trying to be set on a copy of a slice from a DataFrame.\n",
      "Try using .loc[row_indexer,col_indexer] = value instead\n",
      "\n",
      "See the caveats in the documentation: https://pandas.pydata.org/pandas-docs/stable/user_guide/indexing.html#returning-a-view-versus-a-copy\n",
      "  super().__setitem__(key, value)\n"
     ]
    },
    {
     "name": "stdout",
     "output_type": "stream",
     "text": [
      "     1/5: Cortando capa de uso de suelo...\n",
      "     2/5: Calculando área en hectáreas...\n",
      "     3/5: Asignando información geopolítica...\n",
      "     4/5: Estandarizando tabla de atributos...\n",
      "     5/5: Guardando resultado en: cob2018_aromacacao_a.shp\n",
      "     -> Archivo guardado con éxito. ✨\n",
      "\n",
      "   Procesando cobertura del año: 2020\n",
      "     1/5: Cortando capa de uso de suelo...\n",
      "     2/5: Calculando área en hectáreas...\n",
      "     3/5: Asignando información geopolítica...\n",
      "     4/5: Estandarizando tabla de atributos...\n",
      "     5/5: Guardando resultado en: cob2020_aromacacao_a.shp\n",
      "     -> Archivo guardado con éxito. ✨\n",
      "\n",
      "   Procesando cobertura del año: 2022\n"
     ]
    },
    {
     "name": "stderr",
     "output_type": "stream",
     "text": [
      "c:\\Users\\nacho\\miniforge3\\envs\\geo_env\\Lib\\site-packages\\geopandas\\geodataframe.py:1968: SettingWithCopyWarning: \n",
      "A value is trying to be set on a copy of a slice from a DataFrame.\n",
      "Try using .loc[row_indexer,col_indexer] = value instead\n",
      "\n",
      "See the caveats in the documentation: https://pandas.pydata.org/pandas-docs/stable/user_guide/indexing.html#returning-a-view-versus-a-copy\n",
      "  super().__setitem__(key, value)\n"
     ]
    },
    {
     "name": "stdout",
     "output_type": "stream",
     "text": [
      "     1/5: Cortando capa de uso de suelo...\n",
      "     2/5: Calculando área en hectáreas...\n",
      "     3/5: Asignando información geopolítica...\n",
      "     4/5: Estandarizando tabla de atributos...\n",
      "     5/5: Guardando resultado en: cob2022_aromacacao_a.shp\n",
      "     -> Archivo guardado con éxito. ✨\n",
      "\n",
      "==================================================\n",
      "Procesando Área de Estudio: aromacacao_b\n",
      "==================================================\n",
      "\n",
      "   Procesando cobertura del año: 2018\n"
     ]
    },
    {
     "name": "stderr",
     "output_type": "stream",
     "text": [
      "c:\\Users\\nacho\\miniforge3\\envs\\geo_env\\Lib\\site-packages\\geopandas\\geodataframe.py:1968: SettingWithCopyWarning: \n",
      "A value is trying to be set on a copy of a slice from a DataFrame.\n",
      "Try using .loc[row_indexer,col_indexer] = value instead\n",
      "\n",
      "See the caveats in the documentation: https://pandas.pydata.org/pandas-docs/stable/user_guide/indexing.html#returning-a-view-versus-a-copy\n",
      "  super().__setitem__(key, value)\n"
     ]
    },
    {
     "name": "stdout",
     "output_type": "stream",
     "text": [
      "     1/5: Cortando capa de uso de suelo...\n",
      "     2/5: Calculando área en hectáreas...\n",
      "     3/5: Asignando información geopolítica...\n",
      "     4/5: Estandarizando tabla de atributos...\n",
      "     5/5: Guardando resultado en: cob2018_aromacacao_b.shp\n",
      "     -> Archivo guardado con éxito. ✨\n",
      "\n",
      "   Procesando cobertura del año: 2020\n",
      "     1/5: Cortando capa de uso de suelo...\n",
      "     2/5: Calculando área en hectáreas...\n",
      "     3/5: Asignando información geopolítica...\n",
      "     4/5: Estandarizando tabla de atributos...\n",
      "     5/5: Guardando resultado en: cob2020_aromacacao_b.shp\n",
      "     -> Archivo guardado con éxito. ✨\n",
      "\n",
      "   Procesando cobertura del año: 2022\n"
     ]
    },
    {
     "name": "stderr",
     "output_type": "stream",
     "text": [
      "c:\\Users\\nacho\\miniforge3\\envs\\geo_env\\Lib\\site-packages\\geopandas\\geodataframe.py:1968: SettingWithCopyWarning: \n",
      "A value is trying to be set on a copy of a slice from a DataFrame.\n",
      "Try using .loc[row_indexer,col_indexer] = value instead\n",
      "\n",
      "See the caveats in the documentation: https://pandas.pydata.org/pandas-docs/stable/user_guide/indexing.html#returning-a-view-versus-a-copy\n",
      "  super().__setitem__(key, value)\n"
     ]
    },
    {
     "name": "stdout",
     "output_type": "stream",
     "text": [
      "     1/5: Cortando capa de uso de suelo...\n",
      "     2/5: Calculando área en hectáreas...\n",
      "     3/5: Asignando información geopolítica...\n",
      "     4/5: Estandarizando tabla de atributos...\n",
      "     5/5: Guardando resultado en: cob2022_aromacacao_b.shp\n",
      "     -> Archivo guardado con éxito. ✨\n",
      "\n",
      "==================================================\n",
      "Procesando Área de Estudio: aromacacao_c\n",
      "==================================================\n",
      "\n",
      "   Procesando cobertura del año: 2018\n"
     ]
    },
    {
     "name": "stderr",
     "output_type": "stream",
     "text": [
      "c:\\Users\\nacho\\miniforge3\\envs\\geo_env\\Lib\\site-packages\\geopandas\\geodataframe.py:1968: SettingWithCopyWarning: \n",
      "A value is trying to be set on a copy of a slice from a DataFrame.\n",
      "Try using .loc[row_indexer,col_indexer] = value instead\n",
      "\n",
      "See the caveats in the documentation: https://pandas.pydata.org/pandas-docs/stable/user_guide/indexing.html#returning-a-view-versus-a-copy\n",
      "  super().__setitem__(key, value)\n"
     ]
    },
    {
     "name": "stdout",
     "output_type": "stream",
     "text": [
      "     1/5: Cortando capa de uso de suelo...\n",
      "     2/5: Calculando área en hectáreas...\n",
      "     3/5: Asignando información geopolítica...\n",
      "     4/5: Estandarizando tabla de atributos...\n",
      "     5/5: Guardando resultado en: cob2018_aromacacao_c.shp\n",
      "     -> Archivo guardado con éxito. ✨\n",
      "\n",
      "   Procesando cobertura del año: 2020\n",
      "     1/5: Cortando capa de uso de suelo...\n",
      "     2/5: Calculando área en hectáreas...\n",
      "     3/5: Asignando información geopolítica...\n",
      "     4/5: Estandarizando tabla de atributos...\n",
      "     5/5: Guardando resultado en: cob2020_aromacacao_c.shp\n",
      "     -> Archivo guardado con éxito. ✨\n",
      "\n",
      "   Procesando cobertura del año: 2022\n"
     ]
    },
    {
     "name": "stderr",
     "output_type": "stream",
     "text": [
      "c:\\Users\\nacho\\miniforge3\\envs\\geo_env\\Lib\\site-packages\\geopandas\\geodataframe.py:1968: SettingWithCopyWarning: \n",
      "A value is trying to be set on a copy of a slice from a DataFrame.\n",
      "Try using .loc[row_indexer,col_indexer] = value instead\n",
      "\n",
      "See the caveats in the documentation: https://pandas.pydata.org/pandas-docs/stable/user_guide/indexing.html#returning-a-view-versus-a-copy\n",
      "  super().__setitem__(key, value)\n"
     ]
    },
    {
     "name": "stdout",
     "output_type": "stream",
     "text": [
      "     1/5: Cortando capa de uso de suelo...\n",
      "     2/5: Calculando área en hectáreas...\n",
      "     3/5: Asignando información geopolítica...\n",
      "     4/5: Estandarizando tabla de atributos...\n",
      "     5/5: Guardando resultado en: cob2022_aromacacao_c.shp\n",
      "     -> Archivo guardado con éxito. ✨\n",
      "\n",
      "==================================================\n",
      "Procesando Área de Estudio: atahualpa\n",
      "==================================================\n",
      "\n",
      "   Procesando cobertura del año: 2018\n"
     ]
    },
    {
     "name": "stderr",
     "output_type": "stream",
     "text": [
      "c:\\Users\\nacho\\miniforge3\\envs\\geo_env\\Lib\\site-packages\\geopandas\\geodataframe.py:1968: SettingWithCopyWarning: \n",
      "A value is trying to be set on a copy of a slice from a DataFrame.\n",
      "Try using .loc[row_indexer,col_indexer] = value instead\n",
      "\n",
      "See the caveats in the documentation: https://pandas.pydata.org/pandas-docs/stable/user_guide/indexing.html#returning-a-view-versus-a-copy\n",
      "  super().__setitem__(key, value)\n"
     ]
    },
    {
     "name": "stdout",
     "output_type": "stream",
     "text": [
      "     1/5: Cortando capa de uso de suelo...\n",
      "     2/5: Calculando área en hectáreas...\n",
      "     3/5: Asignando información geopolítica...\n",
      "     4/5: Estandarizando tabla de atributos...\n",
      "     5/5: Guardando resultado en: cob2018_atahualpa.shp\n",
      "     -> Archivo guardado con éxito. ✨\n",
      "\n",
      "   Procesando cobertura del año: 2020\n",
      "     1/5: Cortando capa de uso de suelo...\n",
      "     2/5: Calculando área en hectáreas...\n",
      "     3/5: Asignando información geopolítica...\n",
      "     4/5: Estandarizando tabla de atributos...\n",
      "     5/5: Guardando resultado en: cob2020_atahualpa.shp\n",
      "     -> Archivo guardado con éxito. ✨\n",
      "\n",
      "   Procesando cobertura del año: 2022\n"
     ]
    },
    {
     "name": "stderr",
     "output_type": "stream",
     "text": [
      "c:\\Users\\nacho\\miniforge3\\envs\\geo_env\\Lib\\site-packages\\geopandas\\geodataframe.py:1968: SettingWithCopyWarning: \n",
      "A value is trying to be set on a copy of a slice from a DataFrame.\n",
      "Try using .loc[row_indexer,col_indexer] = value instead\n",
      "\n",
      "See the caveats in the documentation: https://pandas.pydata.org/pandas-docs/stable/user_guide/indexing.html#returning-a-view-versus-a-copy\n",
      "  super().__setitem__(key, value)\n"
     ]
    },
    {
     "name": "stdout",
     "output_type": "stream",
     "text": [
      "     1/5: Cortando capa de uso de suelo...\n",
      "     2/5: Calculando área en hectáreas...\n",
      "     3/5: Asignando información geopolítica...\n",
      "     4/5: Estandarizando tabla de atributos...\n",
      "     5/5: Guardando resultado en: cob2022_atahualpa.shp\n",
      "     -> Archivo guardado con éxito. ✨\n",
      "\n",
      "==================================================\n",
      "Procesando Área de Estudio: calapucha\n",
      "==================================================\n",
      "\n",
      "   Procesando cobertura del año: 2018\n"
     ]
    },
    {
     "name": "stderr",
     "output_type": "stream",
     "text": [
      "c:\\Users\\nacho\\miniforge3\\envs\\geo_env\\Lib\\site-packages\\geopandas\\geodataframe.py:1968: SettingWithCopyWarning: \n",
      "A value is trying to be set on a copy of a slice from a DataFrame.\n",
      "Try using .loc[row_indexer,col_indexer] = value instead\n",
      "\n",
      "See the caveats in the documentation: https://pandas.pydata.org/pandas-docs/stable/user_guide/indexing.html#returning-a-view-versus-a-copy\n",
      "  super().__setitem__(key, value)\n"
     ]
    },
    {
     "name": "stdout",
     "output_type": "stream",
     "text": [
      "     1/5: Cortando capa de uso de suelo...\n",
      "     2/5: Calculando área en hectáreas...\n",
      "     3/5: Asignando información geopolítica...\n",
      "     4/5: Estandarizando tabla de atributos...\n",
      "     5/5: Guardando resultado en: cob2018_calapucha.shp\n",
      "     -> Archivo guardado con éxito. ✨\n",
      "\n",
      "   Procesando cobertura del año: 2020\n",
      "     1/5: Cortando capa de uso de suelo...\n",
      "     2/5: Calculando área en hectáreas...\n",
      "     3/5: Asignando información geopolítica...\n",
      "     4/5: Estandarizando tabla de atributos...\n",
      "     5/5: Guardando resultado en: cob2020_calapucha.shp\n",
      "     -> Archivo guardado con éxito. ✨\n",
      "\n",
      "   Procesando cobertura del año: 2022\n"
     ]
    },
    {
     "name": "stderr",
     "output_type": "stream",
     "text": [
      "c:\\Users\\nacho\\miniforge3\\envs\\geo_env\\Lib\\site-packages\\geopandas\\geodataframe.py:1968: SettingWithCopyWarning: \n",
      "A value is trying to be set on a copy of a slice from a DataFrame.\n",
      "Try using .loc[row_indexer,col_indexer] = value instead\n",
      "\n",
      "See the caveats in the documentation: https://pandas.pydata.org/pandas-docs/stable/user_guide/indexing.html#returning-a-view-versus-a-copy\n",
      "  super().__setitem__(key, value)\n"
     ]
    },
    {
     "name": "stdout",
     "output_type": "stream",
     "text": [
      "     1/5: Cortando capa de uso de suelo...\n",
      "     2/5: Calculando área en hectáreas...\n",
      "     3/5: Asignando información geopolítica...\n",
      "     4/5: Estandarizando tabla de atributos...\n",
      "     5/5: Guardando resultado en: cob2022_calapucha.shp\n",
      "     -> Archivo guardado con éxito. ✨\n",
      "\n",
      "==================================================\n",
      "Procesando Área de Estudio: chimboracense\n",
      "==================================================\n",
      "\n",
      "   Procesando cobertura del año: 2018\n"
     ]
    },
    {
     "name": "stderr",
     "output_type": "stream",
     "text": [
      "c:\\Users\\nacho\\miniforge3\\envs\\geo_env\\Lib\\site-packages\\geopandas\\geodataframe.py:1968: SettingWithCopyWarning: \n",
      "A value is trying to be set on a copy of a slice from a DataFrame.\n",
      "Try using .loc[row_indexer,col_indexer] = value instead\n",
      "\n",
      "See the caveats in the documentation: https://pandas.pydata.org/pandas-docs/stable/user_guide/indexing.html#returning-a-view-versus-a-copy\n",
      "  super().__setitem__(key, value)\n"
     ]
    },
    {
     "name": "stdout",
     "output_type": "stream",
     "text": [
      "     1/5: Cortando capa de uso de suelo...\n",
      "     2/5: Calculando área en hectáreas...\n",
      "     3/5: Asignando información geopolítica...\n"
     ]
    },
    {
     "name": "stderr",
     "output_type": "stream",
     "text": [
      "c:\\Users\\nacho\\miniforge3\\envs\\geo_env\\Lib\\site-packages\\geopandas\\tools\\overlay.py:358: UserWarning: `keep_geom_type=True` in overlay resulted in 18 dropped geometries of different geometry types than df1 has. Set `keep_geom_type=False` to retain all geometries\n",
      "  result = _collection_extract(result, geom_type, keep_geom_type_warning)\n"
     ]
    },
    {
     "name": "stdout",
     "output_type": "stream",
     "text": [
      "     4/5: Estandarizando tabla de atributos...\n",
      "     5/5: Guardando resultado en: cob2018_chimboracense.shp\n",
      "     -> Archivo guardado con éxito. ✨\n",
      "\n",
      "   Procesando cobertura del año: 2020\n",
      "     1/5: Cortando capa de uso de suelo...\n",
      "     2/5: Calculando área en hectáreas...\n",
      "     3/5: Asignando información geopolítica...\n"
     ]
    },
    {
     "name": "stderr",
     "output_type": "stream",
     "text": [
      "c:\\Users\\nacho\\miniforge3\\envs\\geo_env\\Lib\\site-packages\\geopandas\\tools\\overlay.py:358: UserWarning: `keep_geom_type=True` in overlay resulted in 18 dropped geometries of different geometry types than df1 has. Set `keep_geom_type=False` to retain all geometries\n",
      "  result = _collection_extract(result, geom_type, keep_geom_type_warning)\n",
      "c:\\Users\\nacho\\miniforge3\\envs\\geo_env\\Lib\\site-packages\\geopandas\\geodataframe.py:1968: SettingWithCopyWarning: \n",
      "A value is trying to be set on a copy of a slice from a DataFrame.\n",
      "Try using .loc[row_indexer,col_indexer] = value instead\n",
      "\n",
      "See the caveats in the documentation: https://pandas.pydata.org/pandas-docs/stable/user_guide/indexing.html#returning-a-view-versus-a-copy\n",
      "  super().__setitem__(key, value)\n"
     ]
    },
    {
     "name": "stdout",
     "output_type": "stream",
     "text": [
      "     4/5: Estandarizando tabla de atributos...\n",
      "     5/5: Guardando resultado en: cob2020_chimboracense.shp\n",
      "     -> Archivo guardado con éxito. ✨\n",
      "\n",
      "   Procesando cobertura del año: 2022\n",
      "     1/5: Cortando capa de uso de suelo...\n",
      "     2/5: Calculando área en hectáreas...\n",
      "     3/5: Asignando información geopolítica...\n"
     ]
    },
    {
     "name": "stderr",
     "output_type": "stream",
     "text": [
      "c:\\Users\\nacho\\miniforge3\\envs\\geo_env\\Lib\\site-packages\\geopandas\\tools\\overlay.py:358: UserWarning: `keep_geom_type=True` in overlay resulted in 24 dropped geometries of different geometry types than df1 has. Set `keep_geom_type=False` to retain all geometries\n",
      "  result = _collection_extract(result, geom_type, keep_geom_type_warning)\n",
      "c:\\Users\\nacho\\miniforge3\\envs\\geo_env\\Lib\\site-packages\\geopandas\\geodataframe.py:1968: SettingWithCopyWarning: \n",
      "A value is trying to be set on a copy of a slice from a DataFrame.\n",
      "Try using .loc[row_indexer,col_indexer] = value instead\n",
      "\n",
      "See the caveats in the documentation: https://pandas.pydata.org/pandas-docs/stable/user_guide/indexing.html#returning-a-view-versus-a-copy\n",
      "  super().__setitem__(key, value)\n"
     ]
    },
    {
     "name": "stdout",
     "output_type": "stream",
     "text": [
      "     4/5: Estandarizando tabla de atributos...\n",
      "     5/5: Guardando resultado en: cob2022_chimboracense.shp\n",
      "     -> Archivo guardado con éxito. ✨\n",
      "\n",
      "==================================================\n",
      "Procesando Área de Estudio: ejcf\n",
      "==================================================\n",
      "\n",
      "   Procesando cobertura del año: 2018\n",
      "     1/5: Cortando capa de uso de suelo...\n",
      "     2/5: Calculando área en hectáreas...\n",
      "     3/5: Asignando información geopolítica...\n",
      "     4/5: Estandarizando tabla de atributos...\n",
      "     5/5: Guardando resultado en: cob2018_ejcf.shp\n",
      "     -> Archivo guardado con éxito. ✨\n",
      "\n",
      "   Procesando cobertura del año: 2020\n",
      "     1/5: Cortando capa de uso de suelo...\n",
      "     2/5: Calculando área en hectáreas...\n",
      "     3/5: Asignando información geopolítica...\n",
      "     4/5: Estandarizando tabla de atributos...\n",
      "     5/5: Guardando resultado en: cob2020_ejcf.shp\n",
      "     -> Archivo guardado con éxito. ✨\n",
      "\n",
      "   Procesando cobertura del año: 2022\n"
     ]
    },
    {
     "name": "stderr",
     "output_type": "stream",
     "text": [
      "c:\\Users\\nacho\\miniforge3\\envs\\geo_env\\Lib\\site-packages\\geopandas\\geodataframe.py:1968: SettingWithCopyWarning: \n",
      "A value is trying to be set on a copy of a slice from a DataFrame.\n",
      "Try using .loc[row_indexer,col_indexer] = value instead\n",
      "\n",
      "See the caveats in the documentation: https://pandas.pydata.org/pandas-docs/stable/user_guide/indexing.html#returning-a-view-versus-a-copy\n",
      "  super().__setitem__(key, value)\n"
     ]
    },
    {
     "name": "stdout",
     "output_type": "stream",
     "text": [
      "     1/5: Cortando capa de uso de suelo...\n",
      "     2/5: Calculando área en hectáreas...\n",
      "     3/5: Asignando información geopolítica...\n",
      "     4/5: Estandarizando tabla de atributos...\n",
      "     5/5: Guardando resultado en: cob2022_ejcf.shp\n",
      "     -> Archivo guardado con éxito. ✨\n",
      "\n",
      "==================================================\n",
      "Procesando Área de Estudio: el_inca\n",
      "==================================================\n",
      "\n",
      "   Procesando cobertura del año: 2018\n"
     ]
    },
    {
     "name": "stderr",
     "output_type": "stream",
     "text": [
      "c:\\Users\\nacho\\miniforge3\\envs\\geo_env\\Lib\\site-packages\\geopandas\\geodataframe.py:1968: SettingWithCopyWarning: \n",
      "A value is trying to be set on a copy of a slice from a DataFrame.\n",
      "Try using .loc[row_indexer,col_indexer] = value instead\n",
      "\n",
      "See the caveats in the documentation: https://pandas.pydata.org/pandas-docs/stable/user_guide/indexing.html#returning-a-view-versus-a-copy\n",
      "  super().__setitem__(key, value)\n"
     ]
    },
    {
     "name": "stdout",
     "output_type": "stream",
     "text": [
      "     1/5: Cortando capa de uso de suelo...\n",
      "     2/5: Calculando área en hectáreas...\n",
      "     3/5: Asignando información geopolítica...\n",
      "     4/5: Estandarizando tabla de atributos...\n",
      "     5/5: Guardando resultado en: cob2018_el_inca.shp\n",
      "     -> Archivo guardado con éxito. ✨\n",
      "\n",
      "   Procesando cobertura del año: 2020\n",
      "     1/5: Cortando capa de uso de suelo...\n",
      "     2/5: Calculando área en hectáreas...\n",
      "     3/5: Asignando información geopolítica...\n",
      "     4/5: Estandarizando tabla de atributos...\n",
      "     5/5: Guardando resultado en: cob2020_el_inca.shp\n",
      "     -> Archivo guardado con éxito. ✨\n",
      "\n",
      "   Procesando cobertura del año: 2022\n"
     ]
    },
    {
     "name": "stderr",
     "output_type": "stream",
     "text": [
      "c:\\Users\\nacho\\miniforge3\\envs\\geo_env\\Lib\\site-packages\\geopandas\\geodataframe.py:1968: SettingWithCopyWarning: \n",
      "A value is trying to be set on a copy of a slice from a DataFrame.\n",
      "Try using .loc[row_indexer,col_indexer] = value instead\n",
      "\n",
      "See the caveats in the documentation: https://pandas.pydata.org/pandas-docs/stable/user_guide/indexing.html#returning-a-view-versus-a-copy\n",
      "  super().__setitem__(key, value)\n"
     ]
    },
    {
     "name": "stdout",
     "output_type": "stream",
     "text": [
      "     1/5: Cortando capa de uso de suelo...\n",
      "     2/5: Calculando área en hectáreas...\n",
      "     3/5: Asignando información geopolítica...\n",
      "     4/5: Estandarizando tabla de atributos...\n",
      "     5/5: Guardando resultado en: cob2022_el_inca.shp\n",
      "     -> Archivo guardado con éxito. ✨\n",
      "\n",
      "==================================================\n",
      "Procesando Área de Estudio: fano\n",
      "==================================================\n",
      "\n",
      "   Procesando cobertura del año: 2018\n"
     ]
    },
    {
     "name": "stderr",
     "output_type": "stream",
     "text": [
      "c:\\Users\\nacho\\miniforge3\\envs\\geo_env\\Lib\\site-packages\\geopandas\\geodataframe.py:1968: SettingWithCopyWarning: \n",
      "A value is trying to be set on a copy of a slice from a DataFrame.\n",
      "Try using .loc[row_indexer,col_indexer] = value instead\n",
      "\n",
      "See the caveats in the documentation: https://pandas.pydata.org/pandas-docs/stable/user_guide/indexing.html#returning-a-view-versus-a-copy\n",
      "  super().__setitem__(key, value)\n"
     ]
    },
    {
     "name": "stdout",
     "output_type": "stream",
     "text": [
      "     1/5: Cortando capa de uso de suelo...\n",
      "     2/5: Calculando área en hectáreas...\n",
      "     3/5: Asignando información geopolítica...\n",
      "     4/5: Estandarizando tabla de atributos...\n",
      "     5/5: Guardando resultado en: cob2018_fano.shp\n",
      "     -> Archivo guardado con éxito. ✨\n",
      "\n",
      "   Procesando cobertura del año: 2020\n",
      "     1/5: Cortando capa de uso de suelo...\n",
      "     2/5: Calculando área en hectáreas...\n",
      "     3/5: Asignando información geopolítica...\n",
      "     4/5: Estandarizando tabla de atributos...\n",
      "     5/5: Guardando resultado en: cob2020_fano.shp\n",
      "     -> Archivo guardado con éxito. ✨\n",
      "\n",
      "   Procesando cobertura del año: 2022\n"
     ]
    },
    {
     "name": "stderr",
     "output_type": "stream",
     "text": [
      "c:\\Users\\nacho\\miniforge3\\envs\\geo_env\\Lib\\site-packages\\geopandas\\geodataframe.py:1968: SettingWithCopyWarning: \n",
      "A value is trying to be set on a copy of a slice from a DataFrame.\n",
      "Try using .loc[row_indexer,col_indexer] = value instead\n",
      "\n",
      "See the caveats in the documentation: https://pandas.pydata.org/pandas-docs/stable/user_guide/indexing.html#returning-a-view-versus-a-copy\n",
      "  super().__setitem__(key, value)\n"
     ]
    },
    {
     "name": "stdout",
     "output_type": "stream",
     "text": [
      "     1/5: Cortando capa de uso de suelo...\n",
      "     2/5: Calculando área en hectáreas...\n",
      "     3/5: Asignando información geopolítica...\n",
      "     4/5: Estandarizando tabla de atributos...\n",
      "     5/5: Guardando resultado en: cob2022_fano.shp\n",
      "     -> Archivo guardado con éxito. ✨\n",
      "\n",
      "==================================================\n",
      "Procesando Área de Estudio: florida\n",
      "==================================================\n",
      "\n",
      "   Procesando cobertura del año: 2018\n"
     ]
    },
    {
     "name": "stderr",
     "output_type": "stream",
     "text": [
      "c:\\Users\\nacho\\miniforge3\\envs\\geo_env\\Lib\\site-packages\\geopandas\\geodataframe.py:1968: SettingWithCopyWarning: \n",
      "A value is trying to be set on a copy of a slice from a DataFrame.\n",
      "Try using .loc[row_indexer,col_indexer] = value instead\n",
      "\n",
      "See the caveats in the documentation: https://pandas.pydata.org/pandas-docs/stable/user_guide/indexing.html#returning-a-view-versus-a-copy\n",
      "  super().__setitem__(key, value)\n"
     ]
    },
    {
     "name": "stdout",
     "output_type": "stream",
     "text": [
      "     1/5: Cortando capa de uso de suelo...\n",
      "       -> Advirtiendo: CRS no coincide. Reproyectando área de estudio al CRS de cobertura (EPSG:32717)\n",
      "     2/5: Calculando área en hectáreas...\n",
      "     3/5: Asignando información geopolítica...\n",
      "     4/5: Estandarizando tabla de atributos...\n",
      "     5/5: Guardando resultado en: cob2018_florida.shp\n",
      "     -> Archivo guardado con éxito. ✨\n",
      "\n",
      "   Procesando cobertura del año: 2020\n",
      "     1/5: Cortando capa de uso de suelo...\n",
      "     2/5: Calculando área en hectáreas...\n",
      "     3/5: Asignando información geopolítica...\n",
      "     4/5: Estandarizando tabla de atributos...\n",
      "     5/5: Guardando resultado en: cob2020_florida.shp\n",
      "     -> Archivo guardado con éxito. ✨\n",
      "\n",
      "   Procesando cobertura del año: 2022\n"
     ]
    },
    {
     "name": "stderr",
     "output_type": "stream",
     "text": [
      "c:\\Users\\nacho\\miniforge3\\envs\\geo_env\\Lib\\site-packages\\geopandas\\geodataframe.py:1968: SettingWithCopyWarning: \n",
      "A value is trying to be set on a copy of a slice from a DataFrame.\n",
      "Try using .loc[row_indexer,col_indexer] = value instead\n",
      "\n",
      "See the caveats in the documentation: https://pandas.pydata.org/pandas-docs/stable/user_guide/indexing.html#returning-a-view-versus-a-copy\n",
      "  super().__setitem__(key, value)\n"
     ]
    },
    {
     "name": "stdout",
     "output_type": "stream",
     "text": [
      "     1/5: Cortando capa de uso de suelo...\n",
      "     2/5: Calculando área en hectáreas...\n",
      "     3/5: Asignando información geopolítica...\n",
      "     4/5: Estandarizando tabla de atributos...\n",
      "     5/5: Guardando resultado en: cob2022_florida.shp\n",
      "     -> Archivo guardado con éxito. ✨\n",
      "\n",
      "==================================================\n",
      "Procesando Área de Estudio: las_palmas\n",
      "==================================================\n",
      "\n",
      "   Procesando cobertura del año: 2018\n"
     ]
    },
    {
     "name": "stderr",
     "output_type": "stream",
     "text": [
      "c:\\Users\\nacho\\miniforge3\\envs\\geo_env\\Lib\\site-packages\\geopandas\\geodataframe.py:1968: SettingWithCopyWarning: \n",
      "A value is trying to be set on a copy of a slice from a DataFrame.\n",
      "Try using .loc[row_indexer,col_indexer] = value instead\n",
      "\n",
      "See the caveats in the documentation: https://pandas.pydata.org/pandas-docs/stable/user_guide/indexing.html#returning-a-view-versus-a-copy\n",
      "  super().__setitem__(key, value)\n"
     ]
    },
    {
     "name": "stdout",
     "output_type": "stream",
     "text": [
      "     1/5: Cortando capa de uso de suelo...\n",
      "     2/5: Calculando área en hectáreas...\n",
      "     3/5: Asignando información geopolítica...\n",
      "     4/5: Estandarizando tabla de atributos...\n",
      "     5/5: Guardando resultado en: cob2018_las_palmas.shp\n",
      "     -> Archivo guardado con éxito. ✨\n",
      "\n",
      "   Procesando cobertura del año: 2020\n",
      "     1/5: Cortando capa de uso de suelo...\n",
      "     2/5: Calculando área en hectáreas...\n",
      "     3/5: Asignando información geopolítica...\n",
      "     4/5: Estandarizando tabla de atributos...\n",
      "     5/5: Guardando resultado en: cob2020_las_palmas.shp\n",
      "     -> Archivo guardado con éxito. ✨\n",
      "\n",
      "   Procesando cobertura del año: 2022\n"
     ]
    },
    {
     "name": "stderr",
     "output_type": "stream",
     "text": [
      "c:\\Users\\nacho\\miniforge3\\envs\\geo_env\\Lib\\site-packages\\geopandas\\geodataframe.py:1968: SettingWithCopyWarning: \n",
      "A value is trying to be set on a copy of a slice from a DataFrame.\n",
      "Try using .loc[row_indexer,col_indexer] = value instead\n",
      "\n",
      "See the caveats in the documentation: https://pandas.pydata.org/pandas-docs/stable/user_guide/indexing.html#returning-a-view-versus-a-copy\n",
      "  super().__setitem__(key, value)\n"
     ]
    },
    {
     "name": "stdout",
     "output_type": "stream",
     "text": [
      "     1/5: Cortando capa de uso de suelo...\n",
      "     2/5: Calculando área en hectáreas...\n",
      "     3/5: Asignando información geopolítica...\n",
      "     4/5: Estandarizando tabla de atributos...\n",
      "     5/5: Guardando resultado en: cob2022_las_palmas.shp\n",
      "     -> Archivo guardado con éxito. ✨\n",
      "\n",
      "==================================================\n",
      "Procesando Área de Estudio: marianita_miguel\n",
      "==================================================\n",
      "\n",
      "   Procesando cobertura del año: 2018\n"
     ]
    },
    {
     "name": "stderr",
     "output_type": "stream",
     "text": [
      "c:\\Users\\nacho\\miniforge3\\envs\\geo_env\\Lib\\site-packages\\geopandas\\geodataframe.py:1968: SettingWithCopyWarning: \n",
      "A value is trying to be set on a copy of a slice from a DataFrame.\n",
      "Try using .loc[row_indexer,col_indexer] = value instead\n",
      "\n",
      "See the caveats in the documentation: https://pandas.pydata.org/pandas-docs/stable/user_guide/indexing.html#returning-a-view-versus-a-copy\n",
      "  super().__setitem__(key, value)\n"
     ]
    },
    {
     "name": "stdout",
     "output_type": "stream",
     "text": [
      "     1/5: Cortando capa de uso de suelo...\n",
      "     2/5: Calculando área en hectáreas...\n",
      "     3/5: Asignando información geopolítica...\n",
      "     4/5: Estandarizando tabla de atributos...\n",
      "     5/5: Guardando resultado en: cob2018_marianita_miguel.shp\n",
      "     -> Archivo guardado con éxito. ✨\n",
      "\n",
      "   Procesando cobertura del año: 2020\n",
      "     1/5: Cortando capa de uso de suelo...\n",
      "     2/5: Calculando área en hectáreas...\n",
      "     3/5: Asignando información geopolítica...\n",
      "     4/5: Estandarizando tabla de atributos...\n",
      "     5/5: Guardando resultado en: cob2020_marianita_miguel.shp\n",
      "     -> Archivo guardado con éxito. ✨\n",
      "\n",
      "   Procesando cobertura del año: 2022\n"
     ]
    },
    {
     "name": "stderr",
     "output_type": "stream",
     "text": [
      "c:\\Users\\nacho\\miniforge3\\envs\\geo_env\\Lib\\site-packages\\geopandas\\geodataframe.py:1968: SettingWithCopyWarning: \n",
      "A value is trying to be set on a copy of a slice from a DataFrame.\n",
      "Try using .loc[row_indexer,col_indexer] = value instead\n",
      "\n",
      "See the caveats in the documentation: https://pandas.pydata.org/pandas-docs/stable/user_guide/indexing.html#returning-a-view-versus-a-copy\n",
      "  super().__setitem__(key, value)\n"
     ]
    },
    {
     "name": "stdout",
     "output_type": "stream",
     "text": [
      "     1/5: Cortando capa de uso de suelo...\n",
      "     2/5: Calculando área en hectáreas...\n",
      "     3/5: Asignando información geopolítica...\n",
      "     4/5: Estandarizando tabla de atributos...\n",
      "     5/5: Guardando resultado en: cob2022_marianita_miguel.shp\n",
      "     -> Archivo guardado con éxito. ✨\n",
      "\n",
      "==================================================\n",
      "Procesando Área de Estudio: parcelas_7_julio\n",
      "==================================================\n",
      "\n",
      "   Procesando cobertura del año: 2018\n"
     ]
    },
    {
     "name": "stderr",
     "output_type": "stream",
     "text": [
      "c:\\Users\\nacho\\miniforge3\\envs\\geo_env\\Lib\\site-packages\\geopandas\\geodataframe.py:1968: SettingWithCopyWarning: \n",
      "A value is trying to be set on a copy of a slice from a DataFrame.\n",
      "Try using .loc[row_indexer,col_indexer] = value instead\n",
      "\n",
      "See the caveats in the documentation: https://pandas.pydata.org/pandas-docs/stable/user_guide/indexing.html#returning-a-view-versus-a-copy\n",
      "  super().__setitem__(key, value)\n"
     ]
    },
    {
     "name": "stdout",
     "output_type": "stream",
     "text": [
      "     1/5: Cortando capa de uso de suelo...\n",
      "     2/5: Calculando área en hectáreas...\n",
      "     3/5: Asignando información geopolítica...\n",
      "     4/5: Estandarizando tabla de atributos...\n",
      "     5/5: Guardando resultado en: cob2018_parcelas_7_julio.shp\n",
      "     -> Archivo guardado con éxito. ✨\n",
      "\n",
      "   Procesando cobertura del año: 2020\n",
      "     1/5: Cortando capa de uso de suelo...\n",
      "     2/5: Calculando área en hectáreas...\n",
      "     3/5: Asignando información geopolítica...\n",
      "     4/5: Estandarizando tabla de atributos...\n",
      "     5/5: Guardando resultado en: cob2020_parcelas_7_julio.shp\n",
      "     -> Archivo guardado con éxito. ✨\n",
      "\n",
      "   Procesando cobertura del año: 2022\n"
     ]
    },
    {
     "name": "stderr",
     "output_type": "stream",
     "text": [
      "c:\\Users\\nacho\\miniforge3\\envs\\geo_env\\Lib\\site-packages\\geopandas\\geodataframe.py:1968: SettingWithCopyWarning: \n",
      "A value is trying to be set on a copy of a slice from a DataFrame.\n",
      "Try using .loc[row_indexer,col_indexer] = value instead\n",
      "\n",
      "See the caveats in the documentation: https://pandas.pydata.org/pandas-docs/stable/user_guide/indexing.html#returning-a-view-versus-a-copy\n",
      "  super().__setitem__(key, value)\n"
     ]
    },
    {
     "name": "stdout",
     "output_type": "stream",
     "text": [
      "     1/5: Cortando capa de uso de suelo...\n",
      "     2/5: Calculando área en hectáreas...\n",
      "     3/5: Asignando información geopolítica...\n",
      "     4/5: Estandarizando tabla de atributos...\n",
      "     5/5: Guardando resultado en: cob2022_parcelas_7_julio.shp\n",
      "     -> Archivo guardado con éxito. ✨\n",
      "\n",
      "==================================================\n",
      "Procesando Área de Estudio: parcelas_shushufindi\n",
      "==================================================\n",
      "\n",
      "   Procesando cobertura del año: 2018\n"
     ]
    },
    {
     "name": "stderr",
     "output_type": "stream",
     "text": [
      "c:\\Users\\nacho\\miniforge3\\envs\\geo_env\\Lib\\site-packages\\geopandas\\geodataframe.py:1968: SettingWithCopyWarning: \n",
      "A value is trying to be set on a copy of a slice from a DataFrame.\n",
      "Try using .loc[row_indexer,col_indexer] = value instead\n",
      "\n",
      "See the caveats in the documentation: https://pandas.pydata.org/pandas-docs/stable/user_guide/indexing.html#returning-a-view-versus-a-copy\n",
      "  super().__setitem__(key, value)\n"
     ]
    },
    {
     "name": "stdout",
     "output_type": "stream",
     "text": [
      "     1/5: Cortando capa de uso de suelo...\n",
      "     2/5: Calculando área en hectáreas...\n",
      "     3/5: Asignando información geopolítica...\n",
      "     4/5: Estandarizando tabla de atributos...\n",
      "     5/5: Guardando resultado en: cob2018_parcelas_shushufindi.shp\n",
      "     -> Archivo guardado con éxito. ✨\n",
      "\n",
      "   Procesando cobertura del año: 2020\n",
      "     1/5: Cortando capa de uso de suelo...\n",
      "     2/5: Calculando área en hectáreas...\n",
      "     3/5: Asignando información geopolítica...\n",
      "     4/5: Estandarizando tabla de atributos...\n",
      "     5/5: Guardando resultado en: cob2020_parcelas_shushufindi.shp\n",
      "     -> Archivo guardado con éxito. ✨\n",
      "\n",
      "   Procesando cobertura del año: 2022\n"
     ]
    },
    {
     "name": "stderr",
     "output_type": "stream",
     "text": [
      "c:\\Users\\nacho\\miniforge3\\envs\\geo_env\\Lib\\site-packages\\geopandas\\geodataframe.py:1968: SettingWithCopyWarning: \n",
      "A value is trying to be set on a copy of a slice from a DataFrame.\n",
      "Try using .loc[row_indexer,col_indexer] = value instead\n",
      "\n",
      "See the caveats in the documentation: https://pandas.pydata.org/pandas-docs/stable/user_guide/indexing.html#returning-a-view-versus-a-copy\n",
      "  super().__setitem__(key, value)\n"
     ]
    },
    {
     "name": "stdout",
     "output_type": "stream",
     "text": [
      "     1/5: Cortando capa de uso de suelo...\n",
      "     2/5: Calculando área en hectáreas...\n",
      "     3/5: Asignando información geopolítica...\n",
      "     4/5: Estandarizando tabla de atributos...\n",
      "     5/5: Guardando resultado en: cob2022_parcelas_shushufindi.shp\n",
      "     -> Archivo guardado con éxito. ✨\n",
      "\n",
      "==================================================\n",
      "Procesando Área de Estudio: parcelas_spcofanes\n",
      "==================================================\n",
      "\n",
      "   Procesando cobertura del año: 2018\n"
     ]
    },
    {
     "name": "stderr",
     "output_type": "stream",
     "text": [
      "c:\\Users\\nacho\\miniforge3\\envs\\geo_env\\Lib\\site-packages\\geopandas\\geodataframe.py:1968: SettingWithCopyWarning: \n",
      "A value is trying to be set on a copy of a slice from a DataFrame.\n",
      "Try using .loc[row_indexer,col_indexer] = value instead\n",
      "\n",
      "See the caveats in the documentation: https://pandas.pydata.org/pandas-docs/stable/user_guide/indexing.html#returning-a-view-versus-a-copy\n",
      "  super().__setitem__(key, value)\n"
     ]
    },
    {
     "name": "stdout",
     "output_type": "stream",
     "text": [
      "     1/5: Cortando capa de uso de suelo...\n",
      "     2/5: Calculando área en hectáreas...\n",
      "     3/5: Asignando información geopolítica...\n",
      "     4/5: Estandarizando tabla de atributos...\n",
      "     5/5: Guardando resultado en: cob2018_parcelas_spcofanes.shp\n",
      "     -> Archivo guardado con éxito. ✨\n",
      "\n",
      "   Procesando cobertura del año: 2020\n",
      "     1/5: Cortando capa de uso de suelo...\n",
      "     2/5: Calculando área en hectáreas...\n",
      "     3/5: Asignando información geopolítica...\n",
      "     4/5: Estandarizando tabla de atributos...\n",
      "     5/5: Guardando resultado en: cob2020_parcelas_spcofanes.shp\n",
      "     -> Archivo guardado con éxito. ✨\n",
      "\n",
      "   Procesando cobertura del año: 2022\n"
     ]
    },
    {
     "name": "stderr",
     "output_type": "stream",
     "text": [
      "c:\\Users\\nacho\\miniforge3\\envs\\geo_env\\Lib\\site-packages\\geopandas\\geodataframe.py:1968: SettingWithCopyWarning: \n",
      "A value is trying to be set on a copy of a slice from a DataFrame.\n",
      "Try using .loc[row_indexer,col_indexer] = value instead\n",
      "\n",
      "See the caveats in the documentation: https://pandas.pydata.org/pandas-docs/stable/user_guide/indexing.html#returning-a-view-versus-a-copy\n",
      "  super().__setitem__(key, value)\n"
     ]
    },
    {
     "name": "stdout",
     "output_type": "stream",
     "text": [
      "     1/5: Cortando capa de uso de suelo...\n",
      "     2/5: Calculando área en hectáreas...\n",
      "     3/5: Asignando información geopolítica...\n",
      "     4/5: Estandarizando tabla de atributos...\n",
      "     5/5: Guardando resultado en: cob2022_parcelas_spcofanes.shp\n",
      "     -> Archivo guardado con éxito. ✨\n",
      "\n",
      "==================================================\n",
      "Procesando Área de Estudio: rios_vencedores\n",
      "==================================================\n",
      "\n",
      "   Procesando cobertura del año: 2018\n"
     ]
    },
    {
     "name": "stderr",
     "output_type": "stream",
     "text": [
      "c:\\Users\\nacho\\miniforge3\\envs\\geo_env\\Lib\\site-packages\\geopandas\\geodataframe.py:1968: SettingWithCopyWarning: \n",
      "A value is trying to be set on a copy of a slice from a DataFrame.\n",
      "Try using .loc[row_indexer,col_indexer] = value instead\n",
      "\n",
      "See the caveats in the documentation: https://pandas.pydata.org/pandas-docs/stable/user_guide/indexing.html#returning-a-view-versus-a-copy\n",
      "  super().__setitem__(key, value)\n"
     ]
    },
    {
     "name": "stdout",
     "output_type": "stream",
     "text": [
      "     1/5: Cortando capa de uso de suelo...\n",
      "     2/5: Calculando área en hectáreas...\n",
      "     3/5: Asignando información geopolítica...\n",
      "     4/5: Estandarizando tabla de atributos...\n",
      "     5/5: Guardando resultado en: cob2018_rios_vencedores.shp\n",
      "     -> Archivo guardado con éxito. ✨\n",
      "\n",
      "   Procesando cobertura del año: 2020\n",
      "     1/5: Cortando capa de uso de suelo...\n",
      "     2/5: Calculando área en hectáreas...\n",
      "     3/5: Asignando información geopolítica...\n",
      "     4/5: Estandarizando tabla de atributos...\n",
      "     5/5: Guardando resultado en: cob2020_rios_vencedores.shp\n",
      "     -> Archivo guardado con éxito. ✨\n",
      "\n",
      "   Procesando cobertura del año: 2022\n"
     ]
    },
    {
     "name": "stderr",
     "output_type": "stream",
     "text": [
      "c:\\Users\\nacho\\miniforge3\\envs\\geo_env\\Lib\\site-packages\\geopandas\\geodataframe.py:1968: SettingWithCopyWarning: \n",
      "A value is trying to be set on a copy of a slice from a DataFrame.\n",
      "Try using .loc[row_indexer,col_indexer] = value instead\n",
      "\n",
      "See the caveats in the documentation: https://pandas.pydata.org/pandas-docs/stable/user_guide/indexing.html#returning-a-view-versus-a-copy\n",
      "  super().__setitem__(key, value)\n"
     ]
    },
    {
     "name": "stdout",
     "output_type": "stream",
     "text": [
      "     1/5: Cortando capa de uso de suelo...\n",
      "     2/5: Calculando área en hectáreas...\n",
      "     3/5: Asignando información geopolítica...\n",
      "     4/5: Estandarizando tabla de atributos...\n",
      "     5/5: Guardando resultado en: cob2022_rios_vencedores.shp\n",
      "     -> Archivo guardado con éxito. ✨\n",
      "\n",
      "==================================================\n",
      "Procesando Área de Estudio: rio_tiputini\n",
      "==================================================\n",
      "\n",
      "   Procesando cobertura del año: 2018\n"
     ]
    },
    {
     "name": "stderr",
     "output_type": "stream",
     "text": [
      "c:\\Users\\nacho\\miniforge3\\envs\\geo_env\\Lib\\site-packages\\geopandas\\geodataframe.py:1968: SettingWithCopyWarning: \n",
      "A value is trying to be set on a copy of a slice from a DataFrame.\n",
      "Try using .loc[row_indexer,col_indexer] = value instead\n",
      "\n",
      "See the caveats in the documentation: https://pandas.pydata.org/pandas-docs/stable/user_guide/indexing.html#returning-a-view-versus-a-copy\n",
      "  super().__setitem__(key, value)\n"
     ]
    },
    {
     "name": "stdout",
     "output_type": "stream",
     "text": [
      "     1/5: Cortando capa de uso de suelo...\n",
      "     2/5: Calculando área en hectáreas...\n",
      "     3/5: Asignando información geopolítica...\n",
      "     4/5: Estandarizando tabla de atributos...\n",
      "     5/5: Guardando resultado en: cob2018_rio_tiputini.shp\n",
      "     -> Archivo guardado con éxito. ✨\n",
      "\n",
      "   Procesando cobertura del año: 2020\n",
      "     1/5: Cortando capa de uso de suelo...\n",
      "     2/5: Calculando área en hectáreas...\n",
      "     3/5: Asignando información geopolítica...\n",
      "     4/5: Estandarizando tabla de atributos...\n",
      "     5/5: Guardando resultado en: cob2020_rio_tiputini.shp\n",
      "     -> Archivo guardado con éxito. ✨\n",
      "\n",
      "   Procesando cobertura del año: 2022\n"
     ]
    },
    {
     "name": "stderr",
     "output_type": "stream",
     "text": [
      "c:\\Users\\nacho\\miniforge3\\envs\\geo_env\\Lib\\site-packages\\geopandas\\geodataframe.py:1968: SettingWithCopyWarning: \n",
      "A value is trying to be set on a copy of a slice from a DataFrame.\n",
      "Try using .loc[row_indexer,col_indexer] = value instead\n",
      "\n",
      "See the caveats in the documentation: https://pandas.pydata.org/pandas-docs/stable/user_guide/indexing.html#returning-a-view-versus-a-copy\n",
      "  super().__setitem__(key, value)\n"
     ]
    },
    {
     "name": "stdout",
     "output_type": "stream",
     "text": [
      "     1/5: Cortando capa de uso de suelo...\n",
      "     2/5: Calculando área en hectáreas...\n",
      "     3/5: Asignando información geopolítica...\n",
      "     4/5: Estandarizando tabla de atributos...\n",
      "     5/5: Guardando resultado en: cob2022_rio_tiputini.shp\n",
      "     -> Archivo guardado con éxito. ✨\n",
      "\n",
      "==================================================\n",
      "Procesando Área de Estudio: riveras_oriente\n",
      "==================================================\n",
      "\n",
      "   Procesando cobertura del año: 2018\n"
     ]
    },
    {
     "name": "stderr",
     "output_type": "stream",
     "text": [
      "c:\\Users\\nacho\\miniforge3\\envs\\geo_env\\Lib\\site-packages\\geopandas\\geodataframe.py:1968: SettingWithCopyWarning: \n",
      "A value is trying to be set on a copy of a slice from a DataFrame.\n",
      "Try using .loc[row_indexer,col_indexer] = value instead\n",
      "\n",
      "See the caveats in the documentation: https://pandas.pydata.org/pandas-docs/stable/user_guide/indexing.html#returning-a-view-versus-a-copy\n",
      "  super().__setitem__(key, value)\n"
     ]
    },
    {
     "name": "stdout",
     "output_type": "stream",
     "text": [
      "     1/5: Cortando capa de uso de suelo...\n",
      "     2/5: Calculando área en hectáreas...\n",
      "     3/5: Asignando información geopolítica...\n",
      "     4/5: Estandarizando tabla de atributos...\n",
      "     5/5: Guardando resultado en: cob2018_riveras_oriente.shp\n",
      "     -> Archivo guardado con éxito. ✨\n",
      "\n",
      "   Procesando cobertura del año: 2020\n",
      "     1/5: Cortando capa de uso de suelo...\n",
      "     2/5: Calculando área en hectáreas...\n",
      "     3/5: Asignando información geopolítica...\n",
      "     4/5: Estandarizando tabla de atributos...\n",
      "     5/5: Guardando resultado en: cob2020_riveras_oriente.shp\n",
      "     -> Archivo guardado con éxito. ✨\n",
      "\n",
      "   Procesando cobertura del año: 2022\n"
     ]
    },
    {
     "name": "stderr",
     "output_type": "stream",
     "text": [
      "c:\\Users\\nacho\\miniforge3\\envs\\geo_env\\Lib\\site-packages\\geopandas\\geodataframe.py:1968: SettingWithCopyWarning: \n",
      "A value is trying to be set on a copy of a slice from a DataFrame.\n",
      "Try using .loc[row_indexer,col_indexer] = value instead\n",
      "\n",
      "See the caveats in the documentation: https://pandas.pydata.org/pandas-docs/stable/user_guide/indexing.html#returning-a-view-versus-a-copy\n",
      "  super().__setitem__(key, value)\n"
     ]
    },
    {
     "name": "stdout",
     "output_type": "stream",
     "text": [
      "     1/5: Cortando capa de uso de suelo...\n",
      "     2/5: Calculando área en hectáreas...\n",
      "     3/5: Asignando información geopolítica...\n",
      "     4/5: Estandarizando tabla de atributos...\n",
      "     5/5: Guardando resultado en: cob2022_riveras_oriente.shp\n",
      "     -> Archivo guardado con éxito. ✨\n",
      "\n",
      "==================================================\n",
      "Procesando Área de Estudio: rumipamba\n",
      "==================================================\n",
      "\n",
      "   Procesando cobertura del año: 2018\n"
     ]
    },
    {
     "name": "stderr",
     "output_type": "stream",
     "text": [
      "c:\\Users\\nacho\\miniforge3\\envs\\geo_env\\Lib\\site-packages\\geopandas\\geodataframe.py:1968: SettingWithCopyWarning: \n",
      "A value is trying to be set on a copy of a slice from a DataFrame.\n",
      "Try using .loc[row_indexer,col_indexer] = value instead\n",
      "\n",
      "See the caveats in the documentation: https://pandas.pydata.org/pandas-docs/stable/user_guide/indexing.html#returning-a-view-versus-a-copy\n",
      "  super().__setitem__(key, value)\n"
     ]
    },
    {
     "name": "stdout",
     "output_type": "stream",
     "text": [
      "     1/5: Cortando capa de uso de suelo...\n",
      "       -> Advirtiendo: CRS no coincide. Reproyectando área de estudio al CRS de cobertura (EPSG:32717)\n",
      "     2/5: Calculando área en hectáreas...\n",
      "     3/5: Asignando información geopolítica...\n",
      "     4/5: Estandarizando tabla de atributos...\n",
      "     5/5: Guardando resultado en: cob2018_rumipamba.shp\n",
      "     -> Archivo guardado con éxito. ✨\n",
      "\n",
      "   Procesando cobertura del año: 2020\n",
      "     1/5: Cortando capa de uso de suelo...\n",
      "     2/5: Calculando área en hectáreas...\n",
      "     3/5: Asignando información geopolítica...\n",
      "     4/5: Estandarizando tabla de atributos...\n",
      "     5/5: Guardando resultado en: cob2020_rumipamba.shp\n",
      "     -> Archivo guardado con éxito. ✨\n",
      "\n",
      "   Procesando cobertura del año: 2022\n"
     ]
    },
    {
     "name": "stderr",
     "output_type": "stream",
     "text": [
      "c:\\Users\\nacho\\miniforge3\\envs\\geo_env\\Lib\\site-packages\\geopandas\\geodataframe.py:1968: SettingWithCopyWarning: \n",
      "A value is trying to be set on a copy of a slice from a DataFrame.\n",
      "Try using .loc[row_indexer,col_indexer] = value instead\n",
      "\n",
      "See the caveats in the documentation: https://pandas.pydata.org/pandas-docs/stable/user_guide/indexing.html#returning-a-view-versus-a-copy\n",
      "  super().__setitem__(key, value)\n"
     ]
    },
    {
     "name": "stdout",
     "output_type": "stream",
     "text": [
      "     1/5: Cortando capa de uso de suelo...\n",
      "     2/5: Calculando área en hectáreas...\n",
      "     3/5: Asignando información geopolítica...\n",
      "     4/5: Estandarizando tabla de atributos...\n",
      "     5/5: Guardando resultado en: cob2022_rumipamba.shp\n",
      "     -> Archivo guardado con éxito. ✨\n",
      "\n",
      "==================================================\n",
      "Procesando Área de Estudio: r_monterrey\n",
      "==================================================\n",
      "\n",
      "   Procesando cobertura del año: 2018\n"
     ]
    },
    {
     "name": "stderr",
     "output_type": "stream",
     "text": [
      "c:\\Users\\nacho\\miniforge3\\envs\\geo_env\\Lib\\site-packages\\geopandas\\geodataframe.py:1968: SettingWithCopyWarning: \n",
      "A value is trying to be set on a copy of a slice from a DataFrame.\n",
      "Try using .loc[row_indexer,col_indexer] = value instead\n",
      "\n",
      "See the caveats in the documentation: https://pandas.pydata.org/pandas-docs/stable/user_guide/indexing.html#returning-a-view-versus-a-copy\n",
      "  super().__setitem__(key, value)\n"
     ]
    },
    {
     "name": "stdout",
     "output_type": "stream",
     "text": [
      "     1/5: Cortando capa de uso de suelo...\n",
      "     2/5: Calculando área en hectáreas...\n",
      "     3/5: Asignando información geopolítica...\n",
      "     4/5: Estandarizando tabla de atributos...\n",
      "     5/5: Guardando resultado en: cob2018_r_monterrey.shp\n",
      "     -> Archivo guardado con éxito. ✨\n",
      "\n",
      "   Procesando cobertura del año: 2020\n",
      "     1/5: Cortando capa de uso de suelo...\n",
      "     2/5: Calculando área en hectáreas...\n",
      "     3/5: Asignando información geopolítica...\n",
      "     4/5: Estandarizando tabla de atributos...\n",
      "     5/5: Guardando resultado en: cob2020_r_monterrey.shp\n",
      "     -> Archivo guardado con éxito. ✨\n",
      "\n",
      "   Procesando cobertura del año: 2022\n"
     ]
    },
    {
     "name": "stderr",
     "output_type": "stream",
     "text": [
      "c:\\Users\\nacho\\miniforge3\\envs\\geo_env\\Lib\\site-packages\\geopandas\\geodataframe.py:1968: SettingWithCopyWarning: \n",
      "A value is trying to be set on a copy of a slice from a DataFrame.\n",
      "Try using .loc[row_indexer,col_indexer] = value instead\n",
      "\n",
      "See the caveats in the documentation: https://pandas.pydata.org/pandas-docs/stable/user_guide/indexing.html#returning-a-view-versus-a-copy\n",
      "  super().__setitem__(key, value)\n"
     ]
    },
    {
     "name": "stdout",
     "output_type": "stream",
     "text": [
      "     1/5: Cortando capa de uso de suelo...\n",
      "     2/5: Calculando área en hectáreas...\n",
      "     3/5: Asignando información geopolítica...\n",
      "     4/5: Estandarizando tabla de atributos...\n",
      "     5/5: Guardando resultado en: cob2022_r_monterrey.shp\n",
      "     -> Archivo guardado con éxito. ✨\n",
      "\n",
      "==================================================\n",
      "Procesando Área de Estudio: san_antonio\n",
      "==================================================\n",
      "\n",
      "   Procesando cobertura del año: 2018\n"
     ]
    },
    {
     "name": "stderr",
     "output_type": "stream",
     "text": [
      "c:\\Users\\nacho\\miniforge3\\envs\\geo_env\\Lib\\site-packages\\geopandas\\geodataframe.py:1968: SettingWithCopyWarning: \n",
      "A value is trying to be set on a copy of a slice from a DataFrame.\n",
      "Try using .loc[row_indexer,col_indexer] = value instead\n",
      "\n",
      "See the caveats in the documentation: https://pandas.pydata.org/pandas-docs/stable/user_guide/indexing.html#returning-a-view-versus-a-copy\n",
      "  super().__setitem__(key, value)\n"
     ]
    },
    {
     "name": "stdout",
     "output_type": "stream",
     "text": [
      "     1/5: Cortando capa de uso de suelo...\n",
      "     2/5: Calculando área en hectáreas...\n",
      "     3/5: Asignando información geopolítica...\n",
      "     4/5: Estandarizando tabla de atributos...\n",
      "     5/5: Guardando resultado en: cob2018_san_antonio.shp\n",
      "     -> Archivo guardado con éxito. ✨\n",
      "\n",
      "   Procesando cobertura del año: 2020\n",
      "     1/5: Cortando capa de uso de suelo...\n",
      "     2/5: Calculando área en hectáreas...\n",
      "     3/5: Asignando información geopolítica...\n",
      "     4/5: Estandarizando tabla de atributos...\n",
      "     5/5: Guardando resultado en: cob2020_san_antonio.shp\n",
      "     -> Archivo guardado con éxito. ✨\n",
      "\n",
      "   Procesando cobertura del año: 2022\n"
     ]
    },
    {
     "name": "stderr",
     "output_type": "stream",
     "text": [
      "c:\\Users\\nacho\\miniforge3\\envs\\geo_env\\Lib\\site-packages\\geopandas\\geodataframe.py:1968: SettingWithCopyWarning: \n",
      "A value is trying to be set on a copy of a slice from a DataFrame.\n",
      "Try using .loc[row_indexer,col_indexer] = value instead\n",
      "\n",
      "See the caveats in the documentation: https://pandas.pydata.org/pandas-docs/stable/user_guide/indexing.html#returning-a-view-versus-a-copy\n",
      "  super().__setitem__(key, value)\n"
     ]
    },
    {
     "name": "stdout",
     "output_type": "stream",
     "text": [
      "     1/5: Cortando capa de uso de suelo...\n",
      "     2/5: Calculando área en hectáreas...\n",
      "     3/5: Asignando información geopolítica...\n",
      "     4/5: Estandarizando tabla de atributos...\n",
      "     5/5: Guardando resultado en: cob2022_san_antonio.shp\n",
      "     -> Archivo guardado con éxito. ✨\n",
      "\n",
      "==================================================\n",
      "Procesando Área de Estudio: san_antonio_paraiso\n",
      "==================================================\n",
      "\n",
      "   Procesando cobertura del año: 2018\n"
     ]
    },
    {
     "name": "stderr",
     "output_type": "stream",
     "text": [
      "c:\\Users\\nacho\\miniforge3\\envs\\geo_env\\Lib\\site-packages\\geopandas\\geodataframe.py:1968: SettingWithCopyWarning: \n",
      "A value is trying to be set on a copy of a slice from a DataFrame.\n",
      "Try using .loc[row_indexer,col_indexer] = value instead\n",
      "\n",
      "See the caveats in the documentation: https://pandas.pydata.org/pandas-docs/stable/user_guide/indexing.html#returning-a-view-versus-a-copy\n",
      "  super().__setitem__(key, value)\n"
     ]
    },
    {
     "name": "stdout",
     "output_type": "stream",
     "text": [
      "     1/5: Cortando capa de uso de suelo...\n",
      "     2/5: Calculando área en hectáreas...\n",
      "     3/5: Asignando información geopolítica...\n",
      "     4/5: Estandarizando tabla de atributos...\n",
      "     5/5: Guardando resultado en: cob2018_san_antonio_paraiso.shp\n",
      "     -> Archivo guardado con éxito. ✨\n",
      "\n",
      "   Procesando cobertura del año: 2020\n",
      "     1/5: Cortando capa de uso de suelo...\n",
      "     2/5: Calculando área en hectáreas...\n",
      "     3/5: Asignando información geopolítica...\n",
      "     4/5: Estandarizando tabla de atributos...\n",
      "     5/5: Guardando resultado en: cob2020_san_antonio_paraiso.shp\n",
      "     -> Archivo guardado con éxito. ✨\n",
      "\n",
      "   Procesando cobertura del año: 2022\n"
     ]
    },
    {
     "name": "stderr",
     "output_type": "stream",
     "text": [
      "c:\\Users\\nacho\\miniforge3\\envs\\geo_env\\Lib\\site-packages\\geopandas\\geodataframe.py:1968: SettingWithCopyWarning: \n",
      "A value is trying to be set on a copy of a slice from a DataFrame.\n",
      "Try using .loc[row_indexer,col_indexer] = value instead\n",
      "\n",
      "See the caveats in the documentation: https://pandas.pydata.org/pandas-docs/stable/user_guide/indexing.html#returning-a-view-versus-a-copy\n",
      "  super().__setitem__(key, value)\n"
     ]
    },
    {
     "name": "stdout",
     "output_type": "stream",
     "text": [
      "     1/5: Cortando capa de uso de suelo...\n",
      "     2/5: Calculando área en hectáreas...\n",
      "     3/5: Asignando información geopolítica...\n",
      "     4/5: Estandarizando tabla de atributos...\n",
      "     5/5: Guardando resultado en: cob2022_san_antonio_paraiso.shp\n",
      "     -> Archivo guardado con éxito. ✨\n",
      "\n",
      "==================================================\n",
      "Procesando Área de Estudio: san_carlos\n",
      "==================================================\n",
      "\n",
      "   Procesando cobertura del año: 2018\n"
     ]
    },
    {
     "name": "stderr",
     "output_type": "stream",
     "text": [
      "c:\\Users\\nacho\\miniforge3\\envs\\geo_env\\Lib\\site-packages\\geopandas\\geodataframe.py:1968: SettingWithCopyWarning: \n",
      "A value is trying to be set on a copy of a slice from a DataFrame.\n",
      "Try using .loc[row_indexer,col_indexer] = value instead\n",
      "\n",
      "See the caveats in the documentation: https://pandas.pydata.org/pandas-docs/stable/user_guide/indexing.html#returning-a-view-versus-a-copy\n",
      "  super().__setitem__(key, value)\n"
     ]
    },
    {
     "name": "stdout",
     "output_type": "stream",
     "text": [
      "     1/5: Cortando capa de uso de suelo...\n",
      "     2/5: Calculando área en hectáreas...\n",
      "     3/5: Asignando información geopolítica...\n"
     ]
    },
    {
     "name": "stderr",
     "output_type": "stream",
     "text": [
      "c:\\Users\\nacho\\miniforge3\\envs\\geo_env\\Lib\\site-packages\\geopandas\\tools\\overlay.py:358: UserWarning: `keep_geom_type=True` in overlay resulted in 10 dropped geometries of different geometry types than df1 has. Set `keep_geom_type=False` to retain all geometries\n",
      "  result = _collection_extract(result, geom_type, keep_geom_type_warning)\n",
      "c:\\Users\\nacho\\miniforge3\\envs\\geo_env\\Lib\\site-packages\\geopandas\\tools\\overlay.py:358: UserWarning: `keep_geom_type=True` in overlay resulted in 40 dropped geometries of different geometry types than df1 has. Set `keep_geom_type=False` to retain all geometries\n",
      "  result = _collection_extract(result, geom_type, keep_geom_type_warning)\n"
     ]
    },
    {
     "name": "stdout",
     "output_type": "stream",
     "text": [
      "     4/5: Estandarizando tabla de atributos...\n",
      "     5/5: Guardando resultado en: cob2018_san_carlos.shp\n",
      "     -> Archivo guardado con éxito. ✨\n",
      "\n",
      "   Procesando cobertura del año: 2020\n",
      "     1/5: Cortando capa de uso de suelo...\n",
      "     2/5: Calculando área en hectáreas...\n",
      "     3/5: Asignando información geopolítica...\n"
     ]
    },
    {
     "name": "stderr",
     "output_type": "stream",
     "text": [
      "c:\\Users\\nacho\\miniforge3\\envs\\geo_env\\Lib\\site-packages\\geopandas\\tools\\overlay.py:358: UserWarning: `keep_geom_type=True` in overlay resulted in 6 dropped geometries of different geometry types than df1 has. Set `keep_geom_type=False` to retain all geometries\n",
      "  result = _collection_extract(result, geom_type, keep_geom_type_warning)\n",
      "c:\\Users\\nacho\\miniforge3\\envs\\geo_env\\Lib\\site-packages\\geopandas\\tools\\overlay.py:358: UserWarning: `keep_geom_type=True` in overlay resulted in 41 dropped geometries of different geometry types than df1 has. Set `keep_geom_type=False` to retain all geometries\n",
      "  result = _collection_extract(result, geom_type, keep_geom_type_warning)\n",
      "c:\\Users\\nacho\\miniforge3\\envs\\geo_env\\Lib\\site-packages\\geopandas\\geodataframe.py:1968: SettingWithCopyWarning: \n",
      "A value is trying to be set on a copy of a slice from a DataFrame.\n",
      "Try using .loc[row_indexer,col_indexer] = value instead\n",
      "\n",
      "See the caveats in the documentation: https://pandas.pydata.org/pandas-docs/stable/user_guide/indexing.html#returning-a-view-versus-a-copy\n",
      "  super().__setitem__(key, value)\n"
     ]
    },
    {
     "name": "stdout",
     "output_type": "stream",
     "text": [
      "     4/5: Estandarizando tabla de atributos...\n",
      "     5/5: Guardando resultado en: cob2020_san_carlos.shp\n",
      "     -> Archivo guardado con éxito. ✨\n",
      "\n",
      "   Procesando cobertura del año: 2022\n",
      "     1/5: Cortando capa de uso de suelo...\n",
      "     2/5: Calculando área en hectáreas...\n",
      "     3/5: Asignando información geopolítica...\n"
     ]
    },
    {
     "name": "stderr",
     "output_type": "stream",
     "text": [
      "c:\\Users\\nacho\\miniforge3\\envs\\geo_env\\Lib\\site-packages\\geopandas\\tools\\overlay.py:358: UserWarning: `keep_geom_type=True` in overlay resulted in 6 dropped geometries of different geometry types than df1 has. Set `keep_geom_type=False` to retain all geometries\n",
      "  result = _collection_extract(result, geom_type, keep_geom_type_warning)\n",
      "c:\\Users\\nacho\\miniforge3\\envs\\geo_env\\Lib\\site-packages\\geopandas\\tools\\overlay.py:358: UserWarning: `keep_geom_type=True` in overlay resulted in 41 dropped geometries of different geometry types than df1 has. Set `keep_geom_type=False` to retain all geometries\n",
      "  result = _collection_extract(result, geom_type, keep_geom_type_warning)\n",
      "c:\\Users\\nacho\\miniforge3\\envs\\geo_env\\Lib\\site-packages\\geopandas\\geodataframe.py:1968: SettingWithCopyWarning: \n",
      "A value is trying to be set on a copy of a slice from a DataFrame.\n",
      "Try using .loc[row_indexer,col_indexer] = value instead\n",
      "\n",
      "See the caveats in the documentation: https://pandas.pydata.org/pandas-docs/stable/user_guide/indexing.html#returning-a-view-versus-a-copy\n",
      "  super().__setitem__(key, value)\n"
     ]
    },
    {
     "name": "stdout",
     "output_type": "stream",
     "text": [
      "     4/5: Estandarizando tabla de atributos...\n",
      "     5/5: Guardando resultado en: cob2022_san_carlos.shp\n",
      "     -> Archivo guardado con éxito. ✨\n",
      "\n",
      "==================================================\n",
      "Procesando Área de Estudio: sinchi_chakra_warmi\n",
      "==================================================\n",
      "\n",
      "   Procesando cobertura del año: 2018\n",
      "     1/5: Cortando capa de uso de suelo...\n",
      "     2/5: Calculando área en hectáreas...\n",
      "     3/5: Asignando información geopolítica...\n",
      "     4/5: Estandarizando tabla de atributos...\n",
      "     5/5: Guardando resultado en: cob2018_sinchi_chakra_warmi.shp\n",
      "     -> Archivo guardado con éxito. ✨\n",
      "\n",
      "   Procesando cobertura del año: 2020\n",
      "     1/5: Cortando capa de uso de suelo...\n",
      "     2/5: Calculando área en hectáreas...\n",
      "     3/5: Asignando información geopolítica...\n",
      "     4/5: Estandarizando tabla de atributos...\n",
      "     5/5: Guardando resultado en: cob2020_sinchi_chakra_warmi.shp\n",
      "     -> Archivo guardado con éxito. ✨\n",
      "\n",
      "   Procesando cobertura del año: 2022\n"
     ]
    },
    {
     "name": "stderr",
     "output_type": "stream",
     "text": [
      "c:\\Users\\nacho\\miniforge3\\envs\\geo_env\\Lib\\site-packages\\geopandas\\geodataframe.py:1968: SettingWithCopyWarning: \n",
      "A value is trying to be set on a copy of a slice from a DataFrame.\n",
      "Try using .loc[row_indexer,col_indexer] = value instead\n",
      "\n",
      "See the caveats in the documentation: https://pandas.pydata.org/pandas-docs/stable/user_guide/indexing.html#returning-a-view-versus-a-copy\n",
      "  super().__setitem__(key, value)\n"
     ]
    },
    {
     "name": "stdout",
     "output_type": "stream",
     "text": [
      "     1/5: Cortando capa de uso de suelo...\n",
      "     2/5: Calculando área en hectáreas...\n",
      "     3/5: Asignando información geopolítica...\n",
      "     4/5: Estandarizando tabla de atributos...\n",
      "     5/5: Guardando resultado en: cob2022_sinchi_chakra_warmi.shp\n",
      "     -> Archivo guardado con éxito. ✨\n",
      "\n",
      "==================================================\n",
      "Procesando Área de Estudio: tomebamba\n",
      "==================================================\n",
      "\n",
      "   Procesando cobertura del año: 2018\n"
     ]
    },
    {
     "name": "stderr",
     "output_type": "stream",
     "text": [
      "c:\\Users\\nacho\\miniforge3\\envs\\geo_env\\Lib\\site-packages\\geopandas\\geodataframe.py:1968: SettingWithCopyWarning: \n",
      "A value is trying to be set on a copy of a slice from a DataFrame.\n",
      "Try using .loc[row_indexer,col_indexer] = value instead\n",
      "\n",
      "See the caveats in the documentation: https://pandas.pydata.org/pandas-docs/stable/user_guide/indexing.html#returning-a-view-versus-a-copy\n",
      "  super().__setitem__(key, value)\n"
     ]
    },
    {
     "name": "stdout",
     "output_type": "stream",
     "text": [
      "     1/5: Cortando capa de uso de suelo...\n",
      "     2/5: Calculando área en hectáreas...\n",
      "     3/5: Asignando información geopolítica...\n"
     ]
    },
    {
     "name": "stderr",
     "output_type": "stream",
     "text": [
      "c:\\Users\\nacho\\miniforge3\\envs\\geo_env\\Lib\\site-packages\\geopandas\\tools\\overlay.py:358: UserWarning: `keep_geom_type=True` in overlay resulted in 8 dropped geometries of different geometry types than df1 has. Set `keep_geom_type=False` to retain all geometries\n",
      "  result = _collection_extract(result, geom_type, keep_geom_type_warning)\n",
      "c:\\Users\\nacho\\miniforge3\\envs\\geo_env\\Lib\\site-packages\\geopandas\\tools\\overlay.py:358: UserWarning: `keep_geom_type=True` in overlay resulted in 12 dropped geometries of different geometry types than df1 has. Set `keep_geom_type=False` to retain all geometries\n",
      "  result = _collection_extract(result, geom_type, keep_geom_type_warning)\n"
     ]
    },
    {
     "name": "stdout",
     "output_type": "stream",
     "text": [
      "     4/5: Estandarizando tabla de atributos...\n",
      "     5/5: Guardando resultado en: cob2018_tomebamba.shp\n",
      "     -> Archivo guardado con éxito. ✨\n",
      "\n",
      "   Procesando cobertura del año: 2020\n",
      "     1/5: Cortando capa de uso de suelo...\n",
      "     2/5: Calculando área en hectáreas...\n",
      "     3/5: Asignando información geopolítica...\n"
     ]
    },
    {
     "name": "stderr",
     "output_type": "stream",
     "text": [
      "c:\\Users\\nacho\\miniforge3\\envs\\geo_env\\Lib\\site-packages\\geopandas\\tools\\overlay.py:358: UserWarning: `keep_geom_type=True` in overlay resulted in 8 dropped geometries of different geometry types than df1 has. Set `keep_geom_type=False` to retain all geometries\n",
      "  result = _collection_extract(result, geom_type, keep_geom_type_warning)\n",
      "c:\\Users\\nacho\\miniforge3\\envs\\geo_env\\Lib\\site-packages\\geopandas\\tools\\overlay.py:358: UserWarning: `keep_geom_type=True` in overlay resulted in 12 dropped geometries of different geometry types than df1 has. Set `keep_geom_type=False` to retain all geometries\n",
      "  result = _collection_extract(result, geom_type, keep_geom_type_warning)\n",
      "c:\\Users\\nacho\\miniforge3\\envs\\geo_env\\Lib\\site-packages\\geopandas\\geodataframe.py:1968: SettingWithCopyWarning: \n",
      "A value is trying to be set on a copy of a slice from a DataFrame.\n",
      "Try using .loc[row_indexer,col_indexer] = value instead\n",
      "\n",
      "See the caveats in the documentation: https://pandas.pydata.org/pandas-docs/stable/user_guide/indexing.html#returning-a-view-versus-a-copy\n",
      "  super().__setitem__(key, value)\n"
     ]
    },
    {
     "name": "stdout",
     "output_type": "stream",
     "text": [
      "     4/5: Estandarizando tabla de atributos...\n",
      "     5/5: Guardando resultado en: cob2020_tomebamba.shp\n",
      "     -> Archivo guardado con éxito. ✨\n",
      "\n",
      "   Procesando cobertura del año: 2022\n",
      "     1/5: Cortando capa de uso de suelo...\n",
      "     2/5: Calculando área en hectáreas...\n",
      "     3/5: Asignando información geopolítica...\n"
     ]
    },
    {
     "name": "stderr",
     "output_type": "stream",
     "text": [
      "c:\\Users\\nacho\\miniforge3\\envs\\geo_env\\Lib\\site-packages\\geopandas\\tools\\overlay.py:358: UserWarning: `keep_geom_type=True` in overlay resulted in 8 dropped geometries of different geometry types than df1 has. Set `keep_geom_type=False` to retain all geometries\n",
      "  result = _collection_extract(result, geom_type, keep_geom_type_warning)\n",
      "c:\\Users\\nacho\\miniforge3\\envs\\geo_env\\Lib\\site-packages\\geopandas\\tools\\overlay.py:358: UserWarning: `keep_geom_type=True` in overlay resulted in 12 dropped geometries of different geometry types than df1 has. Set `keep_geom_type=False` to retain all geometries\n",
      "  result = _collection_extract(result, geom_type, keep_geom_type_warning)\n",
      "c:\\Users\\nacho\\miniforge3\\envs\\geo_env\\Lib\\site-packages\\geopandas\\geodataframe.py:1968: SettingWithCopyWarning: \n",
      "A value is trying to be set on a copy of a slice from a DataFrame.\n",
      "Try using .loc[row_indexer,col_indexer] = value instead\n",
      "\n",
      "See the caveats in the documentation: https://pandas.pydata.org/pandas-docs/stable/user_guide/indexing.html#returning-a-view-versus-a-copy\n",
      "  super().__setitem__(key, value)\n"
     ]
    },
    {
     "name": "stdout",
     "output_type": "stream",
     "text": [
      "     4/5: Estandarizando tabla de atributos...\n",
      "     5/5: Guardando resultado en: cob2022_tomebamba.shp\n",
      "     -> Archivo guardado con éxito. ✨\n",
      "\n",
      "==================================================\n",
      "Procesando Área de Estudio: voluntad_dios\n",
      "==================================================\n",
      "\n",
      "   Procesando cobertura del año: 2018\n",
      "     1/5: Cortando capa de uso de suelo...\n",
      "     2/5: Calculando área en hectáreas...\n",
      "     3/5: Asignando información geopolítica...\n",
      "     4/5: Estandarizando tabla de atributos...\n",
      "     5/5: Guardando resultado en: cob2018_voluntad_dios.shp\n",
      "     -> Archivo guardado con éxito. ✨\n",
      "\n",
      "   Procesando cobertura del año: 2020\n",
      "     1/5: Cortando capa de uso de suelo...\n",
      "     2/5: Calculando área en hectáreas...\n",
      "     3/5: Asignando información geopolítica...\n",
      "     4/5: Estandarizando tabla de atributos...\n",
      "     5/5: Guardando resultado en: cob2020_voluntad_dios.shp\n",
      "     -> Archivo guardado con éxito. ✨\n",
      "\n",
      "   Procesando cobertura del año: 2022\n"
     ]
    },
    {
     "name": "stderr",
     "output_type": "stream",
     "text": [
      "c:\\Users\\nacho\\miniforge3\\envs\\geo_env\\Lib\\site-packages\\geopandas\\geodataframe.py:1968: SettingWithCopyWarning: \n",
      "A value is trying to be set on a copy of a slice from a DataFrame.\n",
      "Try using .loc[row_indexer,col_indexer] = value instead\n",
      "\n",
      "See the caveats in the documentation: https://pandas.pydata.org/pandas-docs/stable/user_guide/indexing.html#returning-a-view-versus-a-copy\n",
      "  super().__setitem__(key, value)\n"
     ]
    },
    {
     "name": "stdout",
     "output_type": "stream",
     "text": [
      "     1/5: Cortando capa de uso de suelo...\n",
      "     2/5: Calculando área en hectáreas...\n",
      "     3/5: Asignando información geopolítica...\n",
      "     4/5: Estandarizando tabla de atributos...\n",
      "     5/5: Guardando resultado en: cob2022_voluntad_dios.shp\n",
      "     -> Archivo guardado con éxito. ✨\n",
      "\n",
      "--- PROCESO FINALIZADO ---\n",
      "Todos los archivos han sido procesados. Revisa la carpeta de resultados.\n"
     ]
    },
    {
     "name": "stderr",
     "output_type": "stream",
     "text": [
      "c:\\Users\\nacho\\miniforge3\\envs\\geo_env\\Lib\\site-packages\\geopandas\\geodataframe.py:1968: SettingWithCopyWarning: \n",
      "A value is trying to be set on a copy of a slice from a DataFrame.\n",
      "Try using .loc[row_indexer,col_indexer] = value instead\n",
      "\n",
      "See the caveats in the documentation: https://pandas.pydata.org/pandas-docs/stable/user_guide/indexing.html#returning-a-view-versus-a-copy\n",
      "  super().__setitem__(key, value)\n"
     ]
    }
   ],
   "source": [
    "# ==============================================================================\n",
    "# SCRIPT PARA ANÁLISIS DE COBERTURA DE SUELO (VERSIÓN LOCAL)\n",
    "# ==============================================================================\n",
    "# Este script realiza los siguientes pasos:\n",
    "# 1. Itera sobre cada shapefile de área de estudio en una carpeta específica.\n",
    "# 2. Para cada área, corta tres capas de cobertura de suelo (2018, 2020, 2022).\n",
    "# 3. Realiza un análisis de superposición para asignar la provincia, cantón y\n",
    "#    parroquia a cada polígono de cobertura cortado.\n",
    "#    - Criterio de asignación: La unidad geopolítica con la mayor área de superposición.\n",
    "# 4. Calcula el área en hectáreas (ha) para cada polígono de cobertura.\n",
    "# 5. Estandariza la tabla de atributos con las columnas requeridas.\n",
    "# 6. Guarda los resultados en shapefiles separados para cada combinación\n",
    "#    de área de estudio y año de cobertura.\n",
    "# ==============================================================================\n",
    "\n",
    "# ------------------------------------------------------------------------------\n",
    "# 1. IMPORTACIÓN DE LIBRERÍAS\n",
    "# ------------------------------------------------------------------------------\n",
    "# Asegúrate de haber instalado las librerías ejecutando en tu terminal:\n",
    "# pip install geopandas rtree mapclassify\n",
    "\n",
    "print(\"Importando librerías necesarias...\")\n",
    "import geopandas as gpd\n",
    "import os\n",
    "import warnings\n",
    "\n",
    "# Ignorar advertencias futuras que puedan surgir de geopandas para una salida más limpia\n",
    "warnings.simplefilter(action='ignore', category=FutureWarning)\n",
    "\n",
    "print(\"Librerías importadas correctamente. ✅\")\n",
    "\n",
    "# ------------------------------------------------------------------------------\n",
    "# 2. DEFINICIÓN DE RUTAS (PARA EJECUCIÓN LOCAL)\n",
    "# ------------------------------------------------------------------------------\n",
    "# ¡IMPORTANTE! Reemplaza estas rutas de ejemplo con las rutas reales de tu computadora.\n",
    "# El uso de os.path.join asegura que las rutas funcionen en cualquier sistema operativo.\n",
    "\n",
    "# --- EJEMPLO PARA WINDOWS ---\n",
    "# Define la ruta a tu carpeta principal del proyecto.\n",
    "# ruta_base = \"C:/Users/TuUsuario/Documents/GIZ/ESTUDIO_GEODATA\"\n",
    "\n",
    "# --- EJEMPLO PARA MACOS O LINUX ---\n",
    "# ruta_base = \"/home/tu_usuario/documentos/GIZ/ESTUDIO_GEODATA\"\n",
    "\n",
    "# **MODIFICA ESTA LÍNEA CON LA RUTA A TU CARPETA PRINCIPAL**\n",
    "ruta_base = \"C:/Users/nacho/Documents/Github/GIZ\" # <-- ¡¡¡CAMBIA ESTO!!!\n",
    "\n",
    "# El script construye las demás rutas automáticamente a partir de la ruta base.\n",
    "# Asegúrate de que tus subcarpetas se llamen igual que en el ejemplo.\n",
    "ruta_areas_estudio = os.path.join(ruta_base, \"area_estudio\")\n",
    "ruta_coberturas = os.path.join(ruta_base, \"capas_cobertura/napo_sucumbios_orellana\")\n",
    "ruta_geopolitica = os.path.join(ruta_base, \"division_geopolitica\")\n",
    "ruta_resultados = os.path.join(ruta_base, \"results\")\n",
    "\n",
    "# Crear la carpeta de resultados si no existe.\n",
    "if not os.path.exists(ruta_resultados):\n",
    "    os.makedirs(ruta_resultados)\n",
    "    print(f\"Carpeta de resultados creada en: {ruta_resultados}\")\n",
    "\n",
    "# ------------------------------------------------------------------------------\n",
    "# 3. CONFIGURACIÓN DE CAPAS DE COBERTURA (Sin cambios)\n",
    "# ------------------------------------------------------------------------------\n",
    "coberturas_info = [\n",
    "    {\n",
    "        'year': '2018',\n",
    "        'file': 'COB2018_SOLVED_cortado.shp',\n",
    "        'col': 'cobertura0'\n",
    "    },\n",
    "    {\n",
    "        'year': '2020',\n",
    "        'file': 'COB2020_SOLVED_cortado.shp',\n",
    "        'col': 'ctn2'\n",
    "    },\n",
    "    {\n",
    "        'year': '2022',\n",
    "        'file': 'COB2022_SOLVED_cortado.shp',\n",
    "        'col': 'ctn2'\n",
    "    }\n",
    "]\n",
    "\n",
    "# ------------------------------------------------------------------------------\n",
    "# 4. CARGA DE CAPAS GEOPOLÍTICAS (Sin cambios)\n",
    "# ------------------------------------------------------------------------------\n",
    "try:\n",
    "    print(\"\\nCargando capas de división geopolítica...\")\n",
    "    provincias_gdf = gpd.read_file(os.path.join(ruta_geopolitica, 'provincial.shp'))\n",
    "    cantones_gdf = gpd.read_file(os.path.join(ruta_geopolitica, 'cantonal.shp'))\n",
    "    parroquias_gdf = gpd.read_file(os.path.join(ruta_geopolitica, 'parroquial.shp'))\n",
    "    print(\"Capas geopolíticas cargadas exitosamente. 🗺️\")\n",
    "except Exception as e:\n",
    "    print(f\"Error al cargar las capas geopolíticas: {e}\")\n",
    "    exit()\n",
    "\n",
    "col_provincia = 'DPA_DESPRO'\n",
    "col_canton = 'DPA_DESCAN'\n",
    "col_parroquia = 'DPA_DESPAR'\n",
    "\n",
    "# ------------------------------------------------------------------------------\n",
    "# 5. FUNCIÓN PARA ASIGNACIÓN GEOPOLÍTICA (Sin cambios)\n",
    "# ------------------------------------------------------------------------------\n",
    "def asignar_unidad_geopolitica(datos_cortados, capa_geopolitica, nombre_columna):\n",
    "    datos_cortados['temp_id'] = range(len(datos_cortados))\n",
    "    interseccion = gpd.overlay(datos_cortados, capa_geopolitica, how='intersection')\n",
    "    interseccion['area_interseccion'] = interseccion.geometry.area\n",
    "    mayor_superposicion = interseccion.sort_values('area_interseccion', ascending=False)\n",
    "    mayor_superposicion = mayor_superposicion.drop_duplicates('temp_id')\n",
    "    resultado = mayor_superposicion[['temp_id', nombre_columna]]\n",
    "    datos_con_geo = datos_cortados.merge(resultado, on='temp_id', how='left')\n",
    "    datos_con_geo = datos_con_geo.drop(columns=['temp_id'])\n",
    "    return datos_con_geo\n",
    "\n",
    "# ------------------------------------------------------------------------------\n",
    "# 6. PROCESAMIENTO PRINCIPAL (Sin cambios)\n",
    "# ------------------------------------------------------------------------------\n",
    "print(\"\\n--- INICIANDO PROCESO DE ANÁLISIS ESPACIAL ---\")\n",
    "\n",
    "for area_shp_nombre in os.listdir(ruta_areas_estudio):\n",
    "    if area_shp_nombre.endswith('.shp'):\n",
    "        nombre_base_area = os.path.splitext(area_shp_nombre)[0]\n",
    "        ruta_area_completa = os.path.join(ruta_areas_estudio, area_shp_nombre)\n",
    "\n",
    "        print(f\"\\n==================================================\")\n",
    "        print(f\"Procesando Área de Estudio: {nombre_base_area}\")\n",
    "        print(f\"==================================================\")\n",
    "\n",
    "        try:\n",
    "            area_gdf = gpd.read_file(ruta_area_completa)\n",
    "        except Exception as e:\n",
    "            print(f\"   -> Error al leer el archivo {area_shp_nombre}: {e}\")\n",
    "            continue\n",
    "\n",
    "        for cob in coberturas_info:\n",
    "            año = cob['year']\n",
    "            archivo_cob = cob['file']\n",
    "            columna_categoria = cob['col']\n",
    "            ruta_cob_completa = os.path.join(ruta_coberturas, archivo_cob)\n",
    "\n",
    "            print(f\"\\n   Procesando cobertura del año: {año}\")\n",
    "\n",
    "            if not os.path.exists(ruta_cob_completa):\n",
    "                print(f\"   -> ¡ADVERTENCIA! No se encontró el archivo: {archivo_cob}. Saltando...\")\n",
    "                continue\n",
    "\n",
    "            try:\n",
    "                cobertura_gdf = gpd.read_file(ruta_cob_completa)\n",
    "\n",
    "                print(\"     1/5: Cortando capa de uso de suelo...\")\n",
    "                if area_gdf.crs != cobertura_gdf.crs:\n",
    "                    print(f\"       -> Advirtiendo: CRS no coincide. Reproyectando área de estudio al CRS de cobertura ({cobertura_gdf.crs.to_string()})\")\n",
    "                    area_gdf = area_gdf.to_crs(cobertura_gdf.crs)\n",
    "\n",
    "                cortado_gdf = gpd.clip(cobertura_gdf, area_gdf)\n",
    "\n",
    "                if cortado_gdf.empty:\n",
    "                    print(\"     -> El área de estudio no se superpone con la capa de cobertura. Saltando.\")\n",
    "                    continue\n",
    "\n",
    "                print(\"     2/5: Calculando área en hectáreas...\")\n",
    "                cortado_gdf['ha'] = cortado_gdf.geometry.area / 10000\n",
    "\n",
    "                print(\"     3/5: Asignando información geopolítica...\")\n",
    "                resultado_con_prov = asignar_unidad_geopolitica(cortado_gdf, provincias_gdf, col_provincia)\n",
    "                resultado_con_can = asignar_unidad_geopolitica(resultado_con_prov, cantones_gdf, col_canton)\n",
    "                resultado_final = asignar_unidad_geopolitica(resultado_con_can, parroquias_gdf, col_parroquia)\n",
    "\n",
    "                print(\"     4/5: Estandarizando tabla de atributos...\")\n",
    "                resultado_final = resultado_final.rename(columns={\n",
    "                    columna_categoria: 'uso_suelo',\n",
    "                    col_provincia: 'provincia',\n",
    "                    col_canton: 'canton',\n",
    "                    col_parroquia: 'parroquia'\n",
    "                })\n",
    "\n",
    "                columnas_deseadas = ['provincia', 'canton', 'parroquia', 'uso_suelo', 'ha', 'geometry']\n",
    "                output_gdf = resultado_final[columnas_deseadas]\n",
    "\n",
    "                for col in ['provincia', 'canton', 'parroquia']:\n",
    "                    output_gdf[col] = output_gdf[col].fillna('INDEFINIDO')\n",
    "\n",
    "                nombre_salida = f\"cob{año}_{nombre_base_area}.shp\"\n",
    "                ruta_salida_completa = os.path.join(ruta_resultados, nombre_salida)\n",
    "                print(f\"     5/5: Guardando resultado en: {nombre_salida}\")\n",
    "\n",
    "                output_gdf.to_file(ruta_salida_completa, driver='ESRI Shapefile', encoding='utf-8')\n",
    "                print(f\"     -> Archivo guardado con éxito. ✨\")\n",
    "\n",
    "            except Exception as e:\n",
    "                print(f\"   -> Ocurrió un error inesperado al procesar {archivo_cob}: {e}\")\n",
    "\n",
    "print(\"\\n--- PROCESO FINALIZADO ---\")\n",
    "print(\"Todos los archivos han sido procesados. Revisa la carpeta de resultados.\")"
   ]
  },
  {
   "cell_type": "markdown",
   "id": "fe72c3ef",
   "metadata": {},
   "source": [
    "# Análisis de deforestación"
   ]
  },
  {
   "cell_type": "code",
   "execution_count": 3,
   "id": "7cb8eb17",
   "metadata": {},
   "outputs": [
    {
     "name": "stdout",
     "output_type": "stream",
     "text": [
      "\n",
      "--- INICIANDO ANÁLISIS DE DEFORESTACIÓN ---\n",
      "\n",
      "==================================================\n",
      "Procesando Área de Estudio: 16_abril\n",
      "==================================================\n",
      "\n",
      "  Procesando capa de deforestación del año: 2018\n",
      "    1/4: Recortando la capa de deforestación...\n",
      "    2/4: Uniendo polígonos (dissolve)...\n",
      "    3/4: Calculando área en hectáreas...\n",
      "    4/4: Guardando resultado en: def18_16_abril.shp\n",
      "    -> Archivo guardado con éxito. ✨\n",
      "\n",
      "  Procesando capa de deforestación del año: 2020\n"
     ]
    },
    {
     "name": "stderr",
     "output_type": "stream",
     "text": [
      "C:\\Users\\nacho\\AppData\\Local\\Temp\\ipykernel_18820\\3899044288.py:127: UserWarning: Column names longer than 10 characters will be truncated when saved to ESRI Shapefile.\n",
      "  disuelto_gdf.to_file(ruta_salida_completa, driver='ESRI Shapefile', encoding='utf-8')\n",
      "c:\\Users\\nacho\\miniforge3\\envs\\geo_env\\Lib\\site-packages\\pyogrio\\raw.py:723: RuntimeWarning: Normalized/laundered field name: 'dissolve_id' to 'dissolve_i'\n",
      "  ogr_write(\n"
     ]
    },
    {
     "name": "stdout",
     "output_type": "stream",
     "text": [
      "    1/4: Recortando la capa de deforestación...\n",
      "    2/4: Uniendo polígonos (dissolve)...\n",
      "    3/4: Calculando área en hectáreas...\n",
      "    4/4: Guardando resultado en: def20_16_abril.shp\n",
      "    -> Archivo guardado con éxito. ✨\n",
      "\n",
      "  Procesando capa de deforestación del año: 2022\n"
     ]
    },
    {
     "name": "stderr",
     "output_type": "stream",
     "text": [
      "C:\\Users\\nacho\\AppData\\Local\\Temp\\ipykernel_18820\\3899044288.py:127: UserWarning: Column names longer than 10 characters will be truncated when saved to ESRI Shapefile.\n",
      "  disuelto_gdf.to_file(ruta_salida_completa, driver='ESRI Shapefile', encoding='utf-8')\n",
      "c:\\Users\\nacho\\miniforge3\\envs\\geo_env\\Lib\\site-packages\\pyogrio\\raw.py:723: RuntimeWarning: Normalized/laundered field name: 'dissolve_id' to 'dissolve_i'\n",
      "  ogr_write(\n"
     ]
    },
    {
     "name": "stdout",
     "output_type": "stream",
     "text": [
      "    1/4: Recortando la capa de deforestación...\n",
      "    2/4: Uniendo polígonos (dissolve)...\n",
      "    3/4: Calculando área en hectáreas...\n",
      "    4/4: Guardando resultado en: def22_16_abril.shp\n",
      "    -> Archivo guardado con éxito. ✨\n",
      "\n",
      "==================================================\n",
      "Procesando Área de Estudio: 24_mayo\n",
      "==================================================\n",
      "\n",
      "  Procesando capa de deforestación del año: 2018\n"
     ]
    },
    {
     "name": "stderr",
     "output_type": "stream",
     "text": [
      "C:\\Users\\nacho\\AppData\\Local\\Temp\\ipykernel_18820\\3899044288.py:127: UserWarning: Column names longer than 10 characters will be truncated when saved to ESRI Shapefile.\n",
      "  disuelto_gdf.to_file(ruta_salida_completa, driver='ESRI Shapefile', encoding='utf-8')\n",
      "c:\\Users\\nacho\\miniforge3\\envs\\geo_env\\Lib\\site-packages\\pyogrio\\raw.py:723: RuntimeWarning: Normalized/laundered field name: 'dissolve_id' to 'dissolve_i'\n",
      "  ogr_write(\n"
     ]
    },
    {
     "name": "stdout",
     "output_type": "stream",
     "text": [
      "    1/4: Recortando la capa de deforestación...\n",
      "    2/4: Uniendo polígonos (dissolve)...\n",
      "    3/4: Calculando área en hectáreas...\n",
      "    4/4: Guardando resultado en: def18_24_mayo.shp\n",
      "    -> Archivo guardado con éxito. ✨\n",
      "\n",
      "  Procesando capa de deforestación del año: 2020\n"
     ]
    },
    {
     "name": "stderr",
     "output_type": "stream",
     "text": [
      "C:\\Users\\nacho\\AppData\\Local\\Temp\\ipykernel_18820\\3899044288.py:127: UserWarning: Column names longer than 10 characters will be truncated when saved to ESRI Shapefile.\n",
      "  disuelto_gdf.to_file(ruta_salida_completa, driver='ESRI Shapefile', encoding='utf-8')\n",
      "c:\\Users\\nacho\\miniforge3\\envs\\geo_env\\Lib\\site-packages\\pyogrio\\raw.py:723: RuntimeWarning: Normalized/laundered field name: 'dissolve_id' to 'dissolve_i'\n",
      "  ogr_write(\n"
     ]
    },
    {
     "name": "stdout",
     "output_type": "stream",
     "text": [
      "    1/4: Recortando la capa de deforestación...\n",
      "    2/4: Uniendo polígonos (dissolve)...\n",
      "    3/4: Calculando área en hectáreas...\n",
      "    4/4: Guardando resultado en: def20_24_mayo.shp\n",
      "    -> Archivo guardado con éxito. ✨\n",
      "\n",
      "  Procesando capa de deforestación del año: 2022\n"
     ]
    },
    {
     "name": "stderr",
     "output_type": "stream",
     "text": [
      "C:\\Users\\nacho\\AppData\\Local\\Temp\\ipykernel_18820\\3899044288.py:127: UserWarning: Column names longer than 10 characters will be truncated when saved to ESRI Shapefile.\n",
      "  disuelto_gdf.to_file(ruta_salida_completa, driver='ESRI Shapefile', encoding='utf-8')\n",
      "c:\\Users\\nacho\\miniforge3\\envs\\geo_env\\Lib\\site-packages\\pyogrio\\raw.py:723: RuntimeWarning: Normalized/laundered field name: 'dissolve_id' to 'dissolve_i'\n",
      "  ogr_write(\n"
     ]
    },
    {
     "name": "stdout",
     "output_type": "stream",
     "text": [
      "    1/4: Recortando la capa de deforestación...\n",
      "    2/4: Uniendo polígonos (dissolve)...\n",
      "    3/4: Calculando área en hectáreas...\n",
      "    4/4: Guardando resultado en: def22_24_mayo.shp\n",
      "    -> Archivo guardado con éxito. ✨\n",
      "\n",
      "==================================================\n",
      "Procesando Área de Estudio: 28_marzo\n",
      "==================================================\n",
      "\n",
      "  Procesando capa de deforestación del año: 2018\n"
     ]
    },
    {
     "name": "stderr",
     "output_type": "stream",
     "text": [
      "C:\\Users\\nacho\\AppData\\Local\\Temp\\ipykernel_18820\\3899044288.py:127: UserWarning: Column names longer than 10 characters will be truncated when saved to ESRI Shapefile.\n",
      "  disuelto_gdf.to_file(ruta_salida_completa, driver='ESRI Shapefile', encoding='utf-8')\n",
      "c:\\Users\\nacho\\miniforge3\\envs\\geo_env\\Lib\\site-packages\\pyogrio\\raw.py:723: RuntimeWarning: Normalized/laundered field name: 'dissolve_id' to 'dissolve_i'\n",
      "  ogr_write(\n"
     ]
    },
    {
     "name": "stdout",
     "output_type": "stream",
     "text": [
      "    1/4: Recortando la capa de deforestación...\n",
      "    2/4: Uniendo polígonos (dissolve)...\n",
      "    3/4: Calculando área en hectáreas...\n",
      "    4/4: Guardando resultado en: def18_28_marzo.shp\n",
      "    -> Archivo guardado con éxito. ✨\n",
      "\n",
      "  Procesando capa de deforestación del año: 2020\n"
     ]
    },
    {
     "name": "stderr",
     "output_type": "stream",
     "text": [
      "C:\\Users\\nacho\\AppData\\Local\\Temp\\ipykernel_18820\\3899044288.py:127: UserWarning: Column names longer than 10 characters will be truncated when saved to ESRI Shapefile.\n",
      "  disuelto_gdf.to_file(ruta_salida_completa, driver='ESRI Shapefile', encoding='utf-8')\n",
      "c:\\Users\\nacho\\miniforge3\\envs\\geo_env\\Lib\\site-packages\\pyogrio\\raw.py:723: RuntimeWarning: Normalized/laundered field name: 'dissolve_id' to 'dissolve_i'\n",
      "  ogr_write(\n"
     ]
    },
    {
     "name": "stdout",
     "output_type": "stream",
     "text": [
      "    1/4: Recortando la capa de deforestación...\n",
      "    2/4: Uniendo polígonos (dissolve)...\n",
      "    3/4: Calculando área en hectáreas...\n",
      "    4/4: Guardando resultado en: def20_28_marzo.shp\n",
      "    -> Archivo guardado con éxito. ✨\n",
      "\n",
      "  Procesando capa de deforestación del año: 2022\n"
     ]
    },
    {
     "name": "stderr",
     "output_type": "stream",
     "text": [
      "C:\\Users\\nacho\\AppData\\Local\\Temp\\ipykernel_18820\\3899044288.py:127: UserWarning: Column names longer than 10 characters will be truncated when saved to ESRI Shapefile.\n",
      "  disuelto_gdf.to_file(ruta_salida_completa, driver='ESRI Shapefile', encoding='utf-8')\n",
      "c:\\Users\\nacho\\miniforge3\\envs\\geo_env\\Lib\\site-packages\\pyogrio\\raw.py:723: RuntimeWarning: Normalized/laundered field name: 'dissolve_id' to 'dissolve_i'\n",
      "  ogr_write(\n"
     ]
    },
    {
     "name": "stdout",
     "output_type": "stream",
     "text": [
      "    1/4: Recortando la capa de deforestación...\n",
      "    2/4: Uniendo polígonos (dissolve)...\n",
      "    3/4: Calculando área en hectáreas...\n",
      "    4/4: Guardando resultado en: def22_28_marzo.shp\n",
      "    -> Archivo guardado con éxito. ✨\n",
      "\n",
      "==================================================\n",
      "Procesando Área de Estudio: 29_marzo\n",
      "==================================================\n",
      "\n",
      "  Procesando capa de deforestación del año: 2018\n"
     ]
    },
    {
     "name": "stderr",
     "output_type": "stream",
     "text": [
      "C:\\Users\\nacho\\AppData\\Local\\Temp\\ipykernel_18820\\3899044288.py:127: UserWarning: Column names longer than 10 characters will be truncated when saved to ESRI Shapefile.\n",
      "  disuelto_gdf.to_file(ruta_salida_completa, driver='ESRI Shapefile', encoding='utf-8')\n",
      "c:\\Users\\nacho\\miniforge3\\envs\\geo_env\\Lib\\site-packages\\pyogrio\\raw.py:723: RuntimeWarning: Normalized/laundered field name: 'dissolve_id' to 'dissolve_i'\n",
      "  ogr_write(\n"
     ]
    },
    {
     "name": "stdout",
     "output_type": "stream",
     "text": [
      "    1/4: Recortando la capa de deforestación...\n",
      "    2/4: Uniendo polígonos (dissolve)...\n",
      "    3/4: Calculando área en hectáreas...\n",
      "    4/4: Guardando resultado en: def18_29_marzo.shp\n",
      "    -> Archivo guardado con éxito. ✨\n",
      "\n",
      "  Procesando capa de deforestación del año: 2020\n"
     ]
    },
    {
     "name": "stderr",
     "output_type": "stream",
     "text": [
      "C:\\Users\\nacho\\AppData\\Local\\Temp\\ipykernel_18820\\3899044288.py:127: UserWarning: Column names longer than 10 characters will be truncated when saved to ESRI Shapefile.\n",
      "  disuelto_gdf.to_file(ruta_salida_completa, driver='ESRI Shapefile', encoding='utf-8')\n",
      "c:\\Users\\nacho\\miniforge3\\envs\\geo_env\\Lib\\site-packages\\pyogrio\\raw.py:723: RuntimeWarning: Normalized/laundered field name: 'dissolve_id' to 'dissolve_i'\n",
      "  ogr_write(\n"
     ]
    },
    {
     "name": "stdout",
     "output_type": "stream",
     "text": [
      "    1/4: Recortando la capa de deforestación...\n",
      "    2/4: Uniendo polígonos (dissolve)...\n",
      "    3/4: Calculando área en hectáreas...\n",
      "    4/4: Guardando resultado en: def20_29_marzo.shp\n",
      "    -> Archivo guardado con éxito. ✨\n",
      "\n",
      "  Procesando capa de deforestación del año: 2022\n"
     ]
    },
    {
     "name": "stderr",
     "output_type": "stream",
     "text": [
      "C:\\Users\\nacho\\AppData\\Local\\Temp\\ipykernel_18820\\3899044288.py:127: UserWarning: Column names longer than 10 characters will be truncated when saved to ESRI Shapefile.\n",
      "  disuelto_gdf.to_file(ruta_salida_completa, driver='ESRI Shapefile', encoding='utf-8')\n",
      "c:\\Users\\nacho\\miniforge3\\envs\\geo_env\\Lib\\site-packages\\pyogrio\\raw.py:723: RuntimeWarning: Normalized/laundered field name: 'dissolve_id' to 'dissolve_i'\n",
      "  ogr_write(\n"
     ]
    },
    {
     "name": "stdout",
     "output_type": "stream",
     "text": [
      "    1/4: Recortando la capa de deforestación...\n",
      "    2/4: Uniendo polígonos (dissolve)...\n",
      "    3/4: Calculando área en hectáreas...\n",
      "    4/4: Guardando resultado en: def22_29_marzo.shp\n",
      "    -> Archivo guardado con éxito. ✨\n",
      "\n",
      "==================================================\n",
      "Procesando Área de Estudio: 6_junio\n",
      "==================================================\n",
      "\n",
      "  Procesando capa de deforestación del año: 2018\n"
     ]
    },
    {
     "name": "stderr",
     "output_type": "stream",
     "text": [
      "C:\\Users\\nacho\\AppData\\Local\\Temp\\ipykernel_18820\\3899044288.py:127: UserWarning: Column names longer than 10 characters will be truncated when saved to ESRI Shapefile.\n",
      "  disuelto_gdf.to_file(ruta_salida_completa, driver='ESRI Shapefile', encoding='utf-8')\n",
      "c:\\Users\\nacho\\miniforge3\\envs\\geo_env\\Lib\\site-packages\\pyogrio\\raw.py:723: RuntimeWarning: Normalized/laundered field name: 'dissolve_id' to 'dissolve_i'\n",
      "  ogr_write(\n"
     ]
    },
    {
     "name": "stdout",
     "output_type": "stream",
     "text": [
      "    1/4: Recortando la capa de deforestación...\n",
      "    2/4: Uniendo polígonos (dissolve)...\n",
      "    3/4: Calculando área en hectáreas...\n",
      "    4/4: Guardando resultado en: def18_6_junio.shp\n",
      "    -> Archivo guardado con éxito. ✨\n",
      "\n",
      "  Procesando capa de deforestación del año: 2020\n"
     ]
    },
    {
     "name": "stderr",
     "output_type": "stream",
     "text": [
      "C:\\Users\\nacho\\AppData\\Local\\Temp\\ipykernel_18820\\3899044288.py:127: UserWarning: Column names longer than 10 characters will be truncated when saved to ESRI Shapefile.\n",
      "  disuelto_gdf.to_file(ruta_salida_completa, driver='ESRI Shapefile', encoding='utf-8')\n",
      "c:\\Users\\nacho\\miniforge3\\envs\\geo_env\\Lib\\site-packages\\pyogrio\\raw.py:723: RuntimeWarning: Normalized/laundered field name: 'dissolve_id' to 'dissolve_i'\n",
      "  ogr_write(\n"
     ]
    },
    {
     "name": "stdout",
     "output_type": "stream",
     "text": [
      "    1/4: Recortando la capa de deforestación...\n",
      "    2/4: Uniendo polígonos (dissolve)...\n",
      "    3/4: Calculando área en hectáreas...\n",
      "    4/4: Guardando resultado en: def20_6_junio.shp\n",
      "    -> Archivo guardado con éxito. ✨\n",
      "\n",
      "  Procesando capa de deforestación del año: 2022\n"
     ]
    },
    {
     "name": "stderr",
     "output_type": "stream",
     "text": [
      "C:\\Users\\nacho\\AppData\\Local\\Temp\\ipykernel_18820\\3899044288.py:127: UserWarning: Column names longer than 10 characters will be truncated when saved to ESRI Shapefile.\n",
      "  disuelto_gdf.to_file(ruta_salida_completa, driver='ESRI Shapefile', encoding='utf-8')\n",
      "c:\\Users\\nacho\\miniforge3\\envs\\geo_env\\Lib\\site-packages\\pyogrio\\raw.py:723: RuntimeWarning: Normalized/laundered field name: 'dissolve_id' to 'dissolve_i'\n",
      "  ogr_write(\n"
     ]
    },
    {
     "name": "stdout",
     "output_type": "stream",
     "text": [
      "    1/4: Recortando la capa de deforestación...\n",
      "    2/4: Uniendo polígonos (dissolve)...\n",
      "    3/4: Calculando área en hectáreas...\n",
      "    4/4: Guardando resultado en: def22_6_junio.shp\n",
      "    -> Archivo guardado con éxito. ✨\n",
      "\n",
      "==================================================\n",
      "Procesando Área de Estudio: 9_de_marzo\n",
      "==================================================\n",
      "\n",
      "  Procesando capa de deforestación del año: 2018\n"
     ]
    },
    {
     "name": "stderr",
     "output_type": "stream",
     "text": [
      "C:\\Users\\nacho\\AppData\\Local\\Temp\\ipykernel_18820\\3899044288.py:127: UserWarning: Column names longer than 10 characters will be truncated when saved to ESRI Shapefile.\n",
      "  disuelto_gdf.to_file(ruta_salida_completa, driver='ESRI Shapefile', encoding='utf-8')\n",
      "c:\\Users\\nacho\\miniforge3\\envs\\geo_env\\Lib\\site-packages\\pyogrio\\raw.py:723: RuntimeWarning: Normalized/laundered field name: 'dissolve_id' to 'dissolve_i'\n",
      "  ogr_write(\n"
     ]
    },
    {
     "name": "stdout",
     "output_type": "stream",
     "text": [
      "    1/4: Recortando la capa de deforestación...\n",
      "    2/4: Uniendo polígonos (dissolve)...\n",
      "    3/4: Calculando área en hectáreas...\n",
      "    4/4: Guardando resultado en: def18_9_de_marzo.shp\n",
      "    -> Archivo guardado con éxito. ✨\n",
      "\n",
      "  Procesando capa de deforestación del año: 2020\n"
     ]
    },
    {
     "name": "stderr",
     "output_type": "stream",
     "text": [
      "C:\\Users\\nacho\\AppData\\Local\\Temp\\ipykernel_18820\\3899044288.py:127: UserWarning: Column names longer than 10 characters will be truncated when saved to ESRI Shapefile.\n",
      "  disuelto_gdf.to_file(ruta_salida_completa, driver='ESRI Shapefile', encoding='utf-8')\n",
      "c:\\Users\\nacho\\miniforge3\\envs\\geo_env\\Lib\\site-packages\\pyogrio\\raw.py:723: RuntimeWarning: Normalized/laundered field name: 'dissolve_id' to 'dissolve_i'\n",
      "  ogr_write(\n"
     ]
    },
    {
     "name": "stdout",
     "output_type": "stream",
     "text": [
      "    1/4: Recortando la capa de deforestación...\n",
      "    2/4: Uniendo polígonos (dissolve)...\n",
      "    3/4: Calculando área en hectáreas...\n",
      "    4/4: Guardando resultado en: def20_9_de_marzo.shp\n",
      "    -> Archivo guardado con éxito. ✨\n",
      "\n",
      "  Procesando capa de deforestación del año: 2022\n"
     ]
    },
    {
     "name": "stderr",
     "output_type": "stream",
     "text": [
      "C:\\Users\\nacho\\AppData\\Local\\Temp\\ipykernel_18820\\3899044288.py:127: UserWarning: Column names longer than 10 characters will be truncated when saved to ESRI Shapefile.\n",
      "  disuelto_gdf.to_file(ruta_salida_completa, driver='ESRI Shapefile', encoding='utf-8')\n",
      "c:\\Users\\nacho\\miniforge3\\envs\\geo_env\\Lib\\site-packages\\pyogrio\\raw.py:723: RuntimeWarning: Normalized/laundered field name: 'dissolve_id' to 'dissolve_i'\n",
      "  ogr_write(\n"
     ]
    },
    {
     "name": "stdout",
     "output_type": "stream",
     "text": [
      "    1/4: Recortando la capa de deforestación...\n",
      "    2/4: Uniendo polígonos (dissolve)...\n",
      "    3/4: Calculando área en hectáreas...\n",
      "    4/4: Guardando resultado en: def22_9_de_marzo.shp\n",
      "    -> Archivo guardado con éxito. ✨\n",
      "\n",
      "==================================================\n",
      "Procesando Área de Estudio: alto_huino\n",
      "==================================================\n",
      "\n",
      "  Procesando capa de deforestación del año: 2018\n"
     ]
    },
    {
     "name": "stderr",
     "output_type": "stream",
     "text": [
      "C:\\Users\\nacho\\AppData\\Local\\Temp\\ipykernel_18820\\3899044288.py:127: UserWarning: Column names longer than 10 characters will be truncated when saved to ESRI Shapefile.\n",
      "  disuelto_gdf.to_file(ruta_salida_completa, driver='ESRI Shapefile', encoding='utf-8')\n",
      "c:\\Users\\nacho\\miniforge3\\envs\\geo_env\\Lib\\site-packages\\pyogrio\\raw.py:723: RuntimeWarning: Normalized/laundered field name: 'dissolve_id' to 'dissolve_i'\n",
      "  ogr_write(\n"
     ]
    },
    {
     "name": "stdout",
     "output_type": "stream",
     "text": [
      "    1/4: Recortando la capa de deforestación...\n",
      "    2/4: Uniendo polígonos (dissolve)...\n",
      "    3/4: Calculando área en hectáreas...\n",
      "    4/4: Guardando resultado en: def18_alto_huino.shp\n",
      "    -> Archivo guardado con éxito. ✨\n",
      "\n",
      "  Procesando capa de deforestación del año: 2020\n"
     ]
    },
    {
     "name": "stderr",
     "output_type": "stream",
     "text": [
      "C:\\Users\\nacho\\AppData\\Local\\Temp\\ipykernel_18820\\3899044288.py:127: UserWarning: Column names longer than 10 characters will be truncated when saved to ESRI Shapefile.\n",
      "  disuelto_gdf.to_file(ruta_salida_completa, driver='ESRI Shapefile', encoding='utf-8')\n",
      "c:\\Users\\nacho\\miniforge3\\envs\\geo_env\\Lib\\site-packages\\pyogrio\\raw.py:723: RuntimeWarning: Normalized/laundered field name: 'dissolve_id' to 'dissolve_i'\n",
      "  ogr_write(\n"
     ]
    },
    {
     "name": "stdout",
     "output_type": "stream",
     "text": [
      "    1/4: Recortando la capa de deforestación...\n",
      "    2/4: Uniendo polígonos (dissolve)...\n",
      "    3/4: Calculando área en hectáreas...\n",
      "    4/4: Guardando resultado en: def20_alto_huino.shp\n",
      "    -> Archivo guardado con éxito. ✨\n",
      "\n",
      "  Procesando capa de deforestación del año: 2022\n"
     ]
    },
    {
     "name": "stderr",
     "output_type": "stream",
     "text": [
      "C:\\Users\\nacho\\AppData\\Local\\Temp\\ipykernel_18820\\3899044288.py:127: UserWarning: Column names longer than 10 characters will be truncated when saved to ESRI Shapefile.\n",
      "  disuelto_gdf.to_file(ruta_salida_completa, driver='ESRI Shapefile', encoding='utf-8')\n",
      "c:\\Users\\nacho\\miniforge3\\envs\\geo_env\\Lib\\site-packages\\pyogrio\\raw.py:723: RuntimeWarning: Normalized/laundered field name: 'dissolve_id' to 'dissolve_i'\n",
      "  ogr_write(\n"
     ]
    },
    {
     "name": "stdout",
     "output_type": "stream",
     "text": [
      "    1/4: Recortando la capa de deforestación...\n",
      "    2/4: Uniendo polígonos (dissolve)...\n",
      "    3/4: Calculando área en hectáreas...\n",
      "    4/4: Guardando resultado en: def22_alto_huino.shp\n",
      "    -> Archivo guardado con éxito. ✨\n",
      "\n",
      "==================================================\n",
      "Procesando Área de Estudio: amazonas\n",
      "==================================================\n",
      "\n",
      "  Procesando capa de deforestación del año: 2018\n"
     ]
    },
    {
     "name": "stderr",
     "output_type": "stream",
     "text": [
      "C:\\Users\\nacho\\AppData\\Local\\Temp\\ipykernel_18820\\3899044288.py:127: UserWarning: Column names longer than 10 characters will be truncated when saved to ESRI Shapefile.\n",
      "  disuelto_gdf.to_file(ruta_salida_completa, driver='ESRI Shapefile', encoding='utf-8')\n",
      "c:\\Users\\nacho\\miniforge3\\envs\\geo_env\\Lib\\site-packages\\pyogrio\\raw.py:723: RuntimeWarning: Normalized/laundered field name: 'dissolve_id' to 'dissolve_i'\n",
      "  ogr_write(\n"
     ]
    },
    {
     "name": "stdout",
     "output_type": "stream",
     "text": [
      "    1/4: Recortando la capa de deforestación...\n",
      "    2/4: Uniendo polígonos (dissolve)...\n",
      "    3/4: Calculando área en hectáreas...\n",
      "    4/4: Guardando resultado en: def18_amazonas.shp\n",
      "    -> Archivo guardado con éxito. ✨\n",
      "\n",
      "  Procesando capa de deforestación del año: 2020\n"
     ]
    },
    {
     "name": "stderr",
     "output_type": "stream",
     "text": [
      "C:\\Users\\nacho\\AppData\\Local\\Temp\\ipykernel_18820\\3899044288.py:127: UserWarning: Column names longer than 10 characters will be truncated when saved to ESRI Shapefile.\n",
      "  disuelto_gdf.to_file(ruta_salida_completa, driver='ESRI Shapefile', encoding='utf-8')\n",
      "c:\\Users\\nacho\\miniforge3\\envs\\geo_env\\Lib\\site-packages\\pyogrio\\raw.py:723: RuntimeWarning: Normalized/laundered field name: 'dissolve_id' to 'dissolve_i'\n",
      "  ogr_write(\n"
     ]
    },
    {
     "name": "stdout",
     "output_type": "stream",
     "text": [
      "    1/4: Recortando la capa de deforestación...\n",
      "    2/4: Uniendo polígonos (dissolve)...\n",
      "    3/4: Calculando área en hectáreas...\n",
      "    4/4: Guardando resultado en: def20_amazonas.shp\n",
      "    -> Archivo guardado con éxito. ✨\n",
      "\n",
      "  Procesando capa de deforestación del año: 2022\n"
     ]
    },
    {
     "name": "stderr",
     "output_type": "stream",
     "text": [
      "C:\\Users\\nacho\\AppData\\Local\\Temp\\ipykernel_18820\\3899044288.py:127: UserWarning: Column names longer than 10 characters will be truncated when saved to ESRI Shapefile.\n",
      "  disuelto_gdf.to_file(ruta_salida_completa, driver='ESRI Shapefile', encoding='utf-8')\n",
      "c:\\Users\\nacho\\miniforge3\\envs\\geo_env\\Lib\\site-packages\\pyogrio\\raw.py:723: RuntimeWarning: Normalized/laundered field name: 'dissolve_id' to 'dissolve_i'\n",
      "  ogr_write(\n"
     ]
    },
    {
     "name": "stdout",
     "output_type": "stream",
     "text": [
      "    1/4: Recortando la capa de deforestación...\n",
      "    2/4: Uniendo polígonos (dissolve)...\n",
      "    3/4: Calculando área en hectáreas...\n",
      "    4/4: Guardando resultado en: def22_amazonas.shp\n",
      "    -> Archivo guardado con éxito. ✨\n",
      "\n",
      "==================================================\n",
      "Procesando Área de Estudio: angeles\n",
      "==================================================\n",
      "\n",
      "  Procesando capa de deforestación del año: 2018\n"
     ]
    },
    {
     "name": "stderr",
     "output_type": "stream",
     "text": [
      "C:\\Users\\nacho\\AppData\\Local\\Temp\\ipykernel_18820\\3899044288.py:127: UserWarning: Column names longer than 10 characters will be truncated when saved to ESRI Shapefile.\n",
      "  disuelto_gdf.to_file(ruta_salida_completa, driver='ESRI Shapefile', encoding='utf-8')\n",
      "c:\\Users\\nacho\\miniforge3\\envs\\geo_env\\Lib\\site-packages\\pyogrio\\raw.py:723: RuntimeWarning: Normalized/laundered field name: 'dissolve_id' to 'dissolve_i'\n",
      "  ogr_write(\n"
     ]
    },
    {
     "name": "stdout",
     "output_type": "stream",
     "text": [
      "    1/4: Recortando la capa de deforestación...\n",
      "    2/4: Uniendo polígonos (dissolve)...\n",
      "    3/4: Calculando área en hectáreas...\n",
      "    4/4: Guardando resultado en: def18_angeles.shp\n",
      "    -> Archivo guardado con éxito. ✨\n",
      "\n",
      "  Procesando capa de deforestación del año: 2020\n"
     ]
    },
    {
     "name": "stderr",
     "output_type": "stream",
     "text": [
      "C:\\Users\\nacho\\AppData\\Local\\Temp\\ipykernel_18820\\3899044288.py:127: UserWarning: Column names longer than 10 characters will be truncated when saved to ESRI Shapefile.\n",
      "  disuelto_gdf.to_file(ruta_salida_completa, driver='ESRI Shapefile', encoding='utf-8')\n",
      "c:\\Users\\nacho\\miniforge3\\envs\\geo_env\\Lib\\site-packages\\pyogrio\\raw.py:723: RuntimeWarning: Normalized/laundered field name: 'dissolve_id' to 'dissolve_i'\n",
      "  ogr_write(\n"
     ]
    },
    {
     "name": "stdout",
     "output_type": "stream",
     "text": [
      "    1/4: Recortando la capa de deforestación...\n",
      "    2/4: Uniendo polígonos (dissolve)...\n",
      "    3/4: Calculando área en hectáreas...\n",
      "    4/4: Guardando resultado en: def20_angeles.shp\n",
      "    -> Archivo guardado con éxito. ✨\n",
      "\n",
      "  Procesando capa de deforestación del año: 2022\n"
     ]
    },
    {
     "name": "stderr",
     "output_type": "stream",
     "text": [
      "C:\\Users\\nacho\\AppData\\Local\\Temp\\ipykernel_18820\\3899044288.py:127: UserWarning: Column names longer than 10 characters will be truncated when saved to ESRI Shapefile.\n",
      "  disuelto_gdf.to_file(ruta_salida_completa, driver='ESRI Shapefile', encoding='utf-8')\n",
      "c:\\Users\\nacho\\miniforge3\\envs\\geo_env\\Lib\\site-packages\\pyogrio\\raw.py:723: RuntimeWarning: Normalized/laundered field name: 'dissolve_id' to 'dissolve_i'\n",
      "  ogr_write(\n"
     ]
    },
    {
     "name": "stdout",
     "output_type": "stream",
     "text": [
      "    1/4: Recortando la capa de deforestación...\n",
      "    2/4: Uniendo polígonos (dissolve)...\n",
      "    3/4: Calculando área en hectáreas...\n",
      "    4/4: Guardando resultado en: def22_angeles.shp\n",
      "    -> Archivo guardado con éxito. ✨\n",
      "\n",
      "==================================================\n",
      "Procesando Área de Estudio: arapino\n",
      "==================================================\n",
      "\n",
      "  Procesando capa de deforestación del año: 2018\n"
     ]
    },
    {
     "name": "stderr",
     "output_type": "stream",
     "text": [
      "C:\\Users\\nacho\\AppData\\Local\\Temp\\ipykernel_18820\\3899044288.py:127: UserWarning: Column names longer than 10 characters will be truncated when saved to ESRI Shapefile.\n",
      "  disuelto_gdf.to_file(ruta_salida_completa, driver='ESRI Shapefile', encoding='utf-8')\n",
      "c:\\Users\\nacho\\miniforge3\\envs\\geo_env\\Lib\\site-packages\\pyogrio\\raw.py:723: RuntimeWarning: Normalized/laundered field name: 'dissolve_id' to 'dissolve_i'\n",
      "  ogr_write(\n"
     ]
    },
    {
     "name": "stdout",
     "output_type": "stream",
     "text": [
      "    1/4: Recortando la capa de deforestación...\n",
      "    2/4: Uniendo polígonos (dissolve)...\n",
      "    3/4: Calculando área en hectáreas...\n",
      "    4/4: Guardando resultado en: def18_arapino.shp\n",
      "    -> Archivo guardado con éxito. ✨\n",
      "\n",
      "  Procesando capa de deforestación del año: 2020\n"
     ]
    },
    {
     "name": "stderr",
     "output_type": "stream",
     "text": [
      "C:\\Users\\nacho\\AppData\\Local\\Temp\\ipykernel_18820\\3899044288.py:127: UserWarning: Column names longer than 10 characters will be truncated when saved to ESRI Shapefile.\n",
      "  disuelto_gdf.to_file(ruta_salida_completa, driver='ESRI Shapefile', encoding='utf-8')\n",
      "c:\\Users\\nacho\\miniforge3\\envs\\geo_env\\Lib\\site-packages\\pyogrio\\raw.py:723: RuntimeWarning: Normalized/laundered field name: 'dissolve_id' to 'dissolve_i'\n",
      "  ogr_write(\n"
     ]
    },
    {
     "name": "stdout",
     "output_type": "stream",
     "text": [
      "    1/4: Recortando la capa de deforestación...\n",
      "    2/4: Uniendo polígonos (dissolve)...\n",
      "    3/4: Calculando área en hectáreas...\n",
      "    4/4: Guardando resultado en: def20_arapino.shp\n",
      "    -> Archivo guardado con éxito. ✨\n",
      "\n",
      "  Procesando capa de deforestación del año: 2022\n"
     ]
    },
    {
     "name": "stderr",
     "output_type": "stream",
     "text": [
      "C:\\Users\\nacho\\AppData\\Local\\Temp\\ipykernel_18820\\3899044288.py:127: UserWarning: Column names longer than 10 characters will be truncated when saved to ESRI Shapefile.\n",
      "  disuelto_gdf.to_file(ruta_salida_completa, driver='ESRI Shapefile', encoding='utf-8')\n",
      "c:\\Users\\nacho\\miniforge3\\envs\\geo_env\\Lib\\site-packages\\pyogrio\\raw.py:723: RuntimeWarning: Normalized/laundered field name: 'dissolve_id' to 'dissolve_i'\n",
      "  ogr_write(\n"
     ]
    },
    {
     "name": "stdout",
     "output_type": "stream",
     "text": [
      "    1/4: Recortando la capa de deforestación...\n",
      "    2/4: Uniendo polígonos (dissolve)...\n",
      "    3/4: Calculando área en hectáreas...\n",
      "    4/4: Guardando resultado en: def22_arapino.shp\n",
      "    -> Archivo guardado con éxito. ✨\n",
      "\n",
      "==================================================\n",
      "Procesando Área de Estudio: aromacacao_a\n",
      "==================================================\n",
      "\n",
      "  Procesando capa de deforestación del año: 2018\n"
     ]
    },
    {
     "name": "stderr",
     "output_type": "stream",
     "text": [
      "C:\\Users\\nacho\\AppData\\Local\\Temp\\ipykernel_18820\\3899044288.py:127: UserWarning: Column names longer than 10 characters will be truncated when saved to ESRI Shapefile.\n",
      "  disuelto_gdf.to_file(ruta_salida_completa, driver='ESRI Shapefile', encoding='utf-8')\n",
      "c:\\Users\\nacho\\miniforge3\\envs\\geo_env\\Lib\\site-packages\\pyogrio\\raw.py:723: RuntimeWarning: Normalized/laundered field name: 'dissolve_id' to 'dissolve_i'\n",
      "  ogr_write(\n"
     ]
    },
    {
     "name": "stdout",
     "output_type": "stream",
     "text": [
      "    1/4: Recortando la capa de deforestación...\n",
      "    2/4: Uniendo polígonos (dissolve)...\n",
      "    3/4: Calculando área en hectáreas...\n",
      "    4/4: Guardando resultado en: def18_aromacacao_a.shp\n",
      "    -> Archivo guardado con éxito. ✨\n",
      "\n",
      "  Procesando capa de deforestación del año: 2020\n"
     ]
    },
    {
     "name": "stderr",
     "output_type": "stream",
     "text": [
      "C:\\Users\\nacho\\AppData\\Local\\Temp\\ipykernel_18820\\3899044288.py:127: UserWarning: Column names longer than 10 characters will be truncated when saved to ESRI Shapefile.\n",
      "  disuelto_gdf.to_file(ruta_salida_completa, driver='ESRI Shapefile', encoding='utf-8')\n",
      "c:\\Users\\nacho\\miniforge3\\envs\\geo_env\\Lib\\site-packages\\pyogrio\\raw.py:723: RuntimeWarning: Normalized/laundered field name: 'dissolve_id' to 'dissolve_i'\n",
      "  ogr_write(\n"
     ]
    },
    {
     "name": "stdout",
     "output_type": "stream",
     "text": [
      "    1/4: Recortando la capa de deforestación...\n",
      "    2/4: Uniendo polígonos (dissolve)...\n",
      "    3/4: Calculando área en hectáreas...\n",
      "    4/4: Guardando resultado en: def20_aromacacao_a.shp\n",
      "    -> Archivo guardado con éxito. ✨\n",
      "\n",
      "  Procesando capa de deforestación del año: 2022\n"
     ]
    },
    {
     "name": "stderr",
     "output_type": "stream",
     "text": [
      "C:\\Users\\nacho\\AppData\\Local\\Temp\\ipykernel_18820\\3899044288.py:127: UserWarning: Column names longer than 10 characters will be truncated when saved to ESRI Shapefile.\n",
      "  disuelto_gdf.to_file(ruta_salida_completa, driver='ESRI Shapefile', encoding='utf-8')\n",
      "c:\\Users\\nacho\\miniforge3\\envs\\geo_env\\Lib\\site-packages\\pyogrio\\raw.py:723: RuntimeWarning: Normalized/laundered field name: 'dissolve_id' to 'dissolve_i'\n",
      "  ogr_write(\n"
     ]
    },
    {
     "name": "stdout",
     "output_type": "stream",
     "text": [
      "    1/4: Recortando la capa de deforestación...\n",
      "    2/4: Uniendo polígonos (dissolve)...\n",
      "    3/4: Calculando área en hectáreas...\n",
      "    4/4: Guardando resultado en: def22_aromacacao_a.shp\n",
      "    -> Archivo guardado con éxito. ✨\n",
      "\n",
      "==================================================\n",
      "Procesando Área de Estudio: aromacacao_b\n",
      "==================================================\n",
      "\n",
      "  Procesando capa de deforestación del año: 2018\n"
     ]
    },
    {
     "name": "stderr",
     "output_type": "stream",
     "text": [
      "C:\\Users\\nacho\\AppData\\Local\\Temp\\ipykernel_18820\\3899044288.py:127: UserWarning: Column names longer than 10 characters will be truncated when saved to ESRI Shapefile.\n",
      "  disuelto_gdf.to_file(ruta_salida_completa, driver='ESRI Shapefile', encoding='utf-8')\n",
      "c:\\Users\\nacho\\miniforge3\\envs\\geo_env\\Lib\\site-packages\\pyogrio\\raw.py:723: RuntimeWarning: Normalized/laundered field name: 'dissolve_id' to 'dissolve_i'\n",
      "  ogr_write(\n"
     ]
    },
    {
     "name": "stdout",
     "output_type": "stream",
     "text": [
      "    1/4: Recortando la capa de deforestación...\n",
      "    2/4: Uniendo polígonos (dissolve)...\n",
      "    3/4: Calculando área en hectáreas...\n",
      "    4/4: Guardando resultado en: def18_aromacacao_b.shp\n",
      "    -> Archivo guardado con éxito. ✨\n",
      "\n",
      "  Procesando capa de deforestación del año: 2020\n"
     ]
    },
    {
     "name": "stderr",
     "output_type": "stream",
     "text": [
      "C:\\Users\\nacho\\AppData\\Local\\Temp\\ipykernel_18820\\3899044288.py:127: UserWarning: Column names longer than 10 characters will be truncated when saved to ESRI Shapefile.\n",
      "  disuelto_gdf.to_file(ruta_salida_completa, driver='ESRI Shapefile', encoding='utf-8')\n",
      "c:\\Users\\nacho\\miniforge3\\envs\\geo_env\\Lib\\site-packages\\pyogrio\\raw.py:723: RuntimeWarning: Normalized/laundered field name: 'dissolve_id' to 'dissolve_i'\n",
      "  ogr_write(\n"
     ]
    },
    {
     "name": "stdout",
     "output_type": "stream",
     "text": [
      "    1/4: Recortando la capa de deforestación...\n",
      "    2/4: Uniendo polígonos (dissolve)...\n",
      "    3/4: Calculando área en hectáreas...\n",
      "    4/4: Guardando resultado en: def20_aromacacao_b.shp\n",
      "    -> Archivo guardado con éxito. ✨\n",
      "\n",
      "  Procesando capa de deforestación del año: 2022\n"
     ]
    },
    {
     "name": "stderr",
     "output_type": "stream",
     "text": [
      "C:\\Users\\nacho\\AppData\\Local\\Temp\\ipykernel_18820\\3899044288.py:127: UserWarning: Column names longer than 10 characters will be truncated when saved to ESRI Shapefile.\n",
      "  disuelto_gdf.to_file(ruta_salida_completa, driver='ESRI Shapefile', encoding='utf-8')\n",
      "c:\\Users\\nacho\\miniforge3\\envs\\geo_env\\Lib\\site-packages\\pyogrio\\raw.py:723: RuntimeWarning: Normalized/laundered field name: 'dissolve_id' to 'dissolve_i'\n",
      "  ogr_write(\n"
     ]
    },
    {
     "name": "stdout",
     "output_type": "stream",
     "text": [
      "    1/4: Recortando la capa de deforestación...\n",
      "    2/4: Uniendo polígonos (dissolve)...\n",
      "    3/4: Calculando área en hectáreas...\n",
      "    4/4: Guardando resultado en: def22_aromacacao_b.shp\n",
      "    -> Archivo guardado con éxito. ✨\n",
      "\n",
      "==================================================\n",
      "Procesando Área de Estudio: aromacacao_c\n",
      "==================================================\n",
      "\n",
      "  Procesando capa de deforestación del año: 2018\n"
     ]
    },
    {
     "name": "stderr",
     "output_type": "stream",
     "text": [
      "C:\\Users\\nacho\\AppData\\Local\\Temp\\ipykernel_18820\\3899044288.py:127: UserWarning: Column names longer than 10 characters will be truncated when saved to ESRI Shapefile.\n",
      "  disuelto_gdf.to_file(ruta_salida_completa, driver='ESRI Shapefile', encoding='utf-8')\n",
      "c:\\Users\\nacho\\miniforge3\\envs\\geo_env\\Lib\\site-packages\\pyogrio\\raw.py:723: RuntimeWarning: Normalized/laundered field name: 'dissolve_id' to 'dissolve_i'\n",
      "  ogr_write(\n"
     ]
    },
    {
     "name": "stdout",
     "output_type": "stream",
     "text": [
      "    1/4: Recortando la capa de deforestación...\n",
      "    2/4: Uniendo polígonos (dissolve)...\n",
      "    3/4: Calculando área en hectáreas...\n",
      "    4/4: Guardando resultado en: def18_aromacacao_c.shp\n",
      "    -> Archivo guardado con éxito. ✨\n",
      "\n",
      "  Procesando capa de deforestación del año: 2020\n"
     ]
    },
    {
     "name": "stderr",
     "output_type": "stream",
     "text": [
      "C:\\Users\\nacho\\AppData\\Local\\Temp\\ipykernel_18820\\3899044288.py:127: UserWarning: Column names longer than 10 characters will be truncated when saved to ESRI Shapefile.\n",
      "  disuelto_gdf.to_file(ruta_salida_completa, driver='ESRI Shapefile', encoding='utf-8')\n",
      "c:\\Users\\nacho\\miniforge3\\envs\\geo_env\\Lib\\site-packages\\pyogrio\\raw.py:723: RuntimeWarning: Normalized/laundered field name: 'dissolve_id' to 'dissolve_i'\n",
      "  ogr_write(\n"
     ]
    },
    {
     "name": "stdout",
     "output_type": "stream",
     "text": [
      "    1/4: Recortando la capa de deforestación...\n",
      "    2/4: Uniendo polígonos (dissolve)...\n",
      "    3/4: Calculando área en hectáreas...\n",
      "    4/4: Guardando resultado en: def20_aromacacao_c.shp\n",
      "    -> Archivo guardado con éxito. ✨\n",
      "\n",
      "  Procesando capa de deforestación del año: 2022\n"
     ]
    },
    {
     "name": "stderr",
     "output_type": "stream",
     "text": [
      "C:\\Users\\nacho\\AppData\\Local\\Temp\\ipykernel_18820\\3899044288.py:127: UserWarning: Column names longer than 10 characters will be truncated when saved to ESRI Shapefile.\n",
      "  disuelto_gdf.to_file(ruta_salida_completa, driver='ESRI Shapefile', encoding='utf-8')\n",
      "c:\\Users\\nacho\\miniforge3\\envs\\geo_env\\Lib\\site-packages\\pyogrio\\raw.py:723: RuntimeWarning: Normalized/laundered field name: 'dissolve_id' to 'dissolve_i'\n",
      "  ogr_write(\n"
     ]
    },
    {
     "name": "stdout",
     "output_type": "stream",
     "text": [
      "    1/4: Recortando la capa de deforestación...\n",
      "    2/4: Uniendo polígonos (dissolve)...\n",
      "    3/4: Calculando área en hectáreas...\n",
      "    4/4: Guardando resultado en: def22_aromacacao_c.shp\n",
      "    -> Archivo guardado con éxito. ✨\n",
      "\n",
      "==================================================\n",
      "Procesando Área de Estudio: atahualpa\n",
      "==================================================\n",
      "\n",
      "  Procesando capa de deforestación del año: 2018\n"
     ]
    },
    {
     "name": "stderr",
     "output_type": "stream",
     "text": [
      "C:\\Users\\nacho\\AppData\\Local\\Temp\\ipykernel_18820\\3899044288.py:127: UserWarning: Column names longer than 10 characters will be truncated when saved to ESRI Shapefile.\n",
      "  disuelto_gdf.to_file(ruta_salida_completa, driver='ESRI Shapefile', encoding='utf-8')\n",
      "c:\\Users\\nacho\\miniforge3\\envs\\geo_env\\Lib\\site-packages\\pyogrio\\raw.py:723: RuntimeWarning: Normalized/laundered field name: 'dissolve_id' to 'dissolve_i'\n",
      "  ogr_write(\n"
     ]
    },
    {
     "name": "stdout",
     "output_type": "stream",
     "text": [
      "    1/4: Recortando la capa de deforestación...\n",
      "    2/4: Uniendo polígonos (dissolve)...\n",
      "    3/4: Calculando área en hectáreas...\n",
      "    4/4: Guardando resultado en: def18_atahualpa.shp\n",
      "    -> Archivo guardado con éxito. ✨\n",
      "\n",
      "  Procesando capa de deforestación del año: 2020\n"
     ]
    },
    {
     "name": "stderr",
     "output_type": "stream",
     "text": [
      "C:\\Users\\nacho\\AppData\\Local\\Temp\\ipykernel_18820\\3899044288.py:127: UserWarning: Column names longer than 10 characters will be truncated when saved to ESRI Shapefile.\n",
      "  disuelto_gdf.to_file(ruta_salida_completa, driver='ESRI Shapefile', encoding='utf-8')\n",
      "c:\\Users\\nacho\\miniforge3\\envs\\geo_env\\Lib\\site-packages\\pyogrio\\raw.py:723: RuntimeWarning: Normalized/laundered field name: 'dissolve_id' to 'dissolve_i'\n",
      "  ogr_write(\n"
     ]
    },
    {
     "name": "stdout",
     "output_type": "stream",
     "text": [
      "    1/4: Recortando la capa de deforestación...\n",
      "    2/4: Uniendo polígonos (dissolve)...\n",
      "    3/4: Calculando área en hectáreas...\n",
      "    4/4: Guardando resultado en: def20_atahualpa.shp\n",
      "    -> Archivo guardado con éxito. ✨\n",
      "\n",
      "  Procesando capa de deforestación del año: 2022\n"
     ]
    },
    {
     "name": "stderr",
     "output_type": "stream",
     "text": [
      "C:\\Users\\nacho\\AppData\\Local\\Temp\\ipykernel_18820\\3899044288.py:127: UserWarning: Column names longer than 10 characters will be truncated when saved to ESRI Shapefile.\n",
      "  disuelto_gdf.to_file(ruta_salida_completa, driver='ESRI Shapefile', encoding='utf-8')\n",
      "c:\\Users\\nacho\\miniforge3\\envs\\geo_env\\Lib\\site-packages\\pyogrio\\raw.py:723: RuntimeWarning: Normalized/laundered field name: 'dissolve_id' to 'dissolve_i'\n",
      "  ogr_write(\n"
     ]
    },
    {
     "name": "stdout",
     "output_type": "stream",
     "text": [
      "    1/4: Recortando la capa de deforestación...\n",
      "    2/4: Uniendo polígonos (dissolve)...\n",
      "    3/4: Calculando área en hectáreas...\n",
      "    4/4: Guardando resultado en: def22_atahualpa.shp\n",
      "    -> Archivo guardado con éxito. ✨\n",
      "\n",
      "==================================================\n",
      "Procesando Área de Estudio: calapucha\n",
      "==================================================\n",
      "\n",
      "  Procesando capa de deforestación del año: 2018\n"
     ]
    },
    {
     "name": "stderr",
     "output_type": "stream",
     "text": [
      "C:\\Users\\nacho\\AppData\\Local\\Temp\\ipykernel_18820\\3899044288.py:127: UserWarning: Column names longer than 10 characters will be truncated when saved to ESRI Shapefile.\n",
      "  disuelto_gdf.to_file(ruta_salida_completa, driver='ESRI Shapefile', encoding='utf-8')\n",
      "c:\\Users\\nacho\\miniforge3\\envs\\geo_env\\Lib\\site-packages\\pyogrio\\raw.py:723: RuntimeWarning: Normalized/laundered field name: 'dissolve_id' to 'dissolve_i'\n",
      "  ogr_write(\n"
     ]
    },
    {
     "name": "stdout",
     "output_type": "stream",
     "text": [
      "    1/4: Recortando la capa de deforestación...\n",
      "    -> El área de estudio no se superpone con la capa de deforestación. No se generará archivo.\n",
      "\n",
      "  Procesando capa de deforestación del año: 2020\n",
      "    1/4: Recortando la capa de deforestación...\n",
      "    2/4: Uniendo polígonos (dissolve)...\n",
      "    3/4: Calculando área en hectáreas...\n",
      "    4/4: Guardando resultado en: def20_calapucha.shp\n",
      "    -> Archivo guardado con éxito. ✨\n",
      "\n",
      "  Procesando capa de deforestación del año: 2022\n"
     ]
    },
    {
     "name": "stderr",
     "output_type": "stream",
     "text": [
      "C:\\Users\\nacho\\AppData\\Local\\Temp\\ipykernel_18820\\3899044288.py:127: UserWarning: Column names longer than 10 characters will be truncated when saved to ESRI Shapefile.\n",
      "  disuelto_gdf.to_file(ruta_salida_completa, driver='ESRI Shapefile', encoding='utf-8')\n",
      "c:\\Users\\nacho\\miniforge3\\envs\\geo_env\\Lib\\site-packages\\pyogrio\\raw.py:723: RuntimeWarning: Normalized/laundered field name: 'dissolve_id' to 'dissolve_i'\n",
      "  ogr_write(\n"
     ]
    },
    {
     "name": "stdout",
     "output_type": "stream",
     "text": [
      "    1/4: Recortando la capa de deforestación...\n",
      "    2/4: Uniendo polígonos (dissolve)...\n",
      "    3/4: Calculando área en hectáreas...\n",
      "    4/4: Guardando resultado en: def22_calapucha.shp\n",
      "    -> Archivo guardado con éxito. ✨\n",
      "\n",
      "==================================================\n",
      "Procesando Área de Estudio: chimboracense\n",
      "==================================================\n",
      "\n",
      "  Procesando capa de deforestación del año: 2018\n"
     ]
    },
    {
     "name": "stderr",
     "output_type": "stream",
     "text": [
      "C:\\Users\\nacho\\AppData\\Local\\Temp\\ipykernel_18820\\3899044288.py:127: UserWarning: Column names longer than 10 characters will be truncated when saved to ESRI Shapefile.\n",
      "  disuelto_gdf.to_file(ruta_salida_completa, driver='ESRI Shapefile', encoding='utf-8')\n",
      "c:\\Users\\nacho\\miniforge3\\envs\\geo_env\\Lib\\site-packages\\pyogrio\\raw.py:723: RuntimeWarning: Normalized/laundered field name: 'dissolve_id' to 'dissolve_i'\n",
      "  ogr_write(\n"
     ]
    },
    {
     "name": "stdout",
     "output_type": "stream",
     "text": [
      "    1/4: Recortando la capa de deforestación...\n",
      "    2/4: Uniendo polígonos (dissolve)...\n",
      "    3/4: Calculando área en hectáreas...\n",
      "    4/4: Guardando resultado en: def18_chimboracense.shp\n",
      "    -> Archivo guardado con éxito. ✨\n",
      "\n",
      "  Procesando capa de deforestación del año: 2020\n"
     ]
    },
    {
     "name": "stderr",
     "output_type": "stream",
     "text": [
      "C:\\Users\\nacho\\AppData\\Local\\Temp\\ipykernel_18820\\3899044288.py:127: UserWarning: Column names longer than 10 characters will be truncated when saved to ESRI Shapefile.\n",
      "  disuelto_gdf.to_file(ruta_salida_completa, driver='ESRI Shapefile', encoding='utf-8')\n",
      "c:\\Users\\nacho\\miniforge3\\envs\\geo_env\\Lib\\site-packages\\pyogrio\\raw.py:723: RuntimeWarning: Normalized/laundered field name: 'dissolve_id' to 'dissolve_i'\n",
      "  ogr_write(\n"
     ]
    },
    {
     "name": "stdout",
     "output_type": "stream",
     "text": [
      "    1/4: Recortando la capa de deforestación...\n",
      "    2/4: Uniendo polígonos (dissolve)...\n",
      "    3/4: Calculando área en hectáreas...\n",
      "    4/4: Guardando resultado en: def20_chimboracense.shp\n",
      "    -> Archivo guardado con éxito. ✨\n",
      "\n",
      "  Procesando capa de deforestación del año: 2022\n"
     ]
    },
    {
     "name": "stderr",
     "output_type": "stream",
     "text": [
      "C:\\Users\\nacho\\AppData\\Local\\Temp\\ipykernel_18820\\3899044288.py:127: UserWarning: Column names longer than 10 characters will be truncated when saved to ESRI Shapefile.\n",
      "  disuelto_gdf.to_file(ruta_salida_completa, driver='ESRI Shapefile', encoding='utf-8')\n",
      "c:\\Users\\nacho\\miniforge3\\envs\\geo_env\\Lib\\site-packages\\pyogrio\\raw.py:723: RuntimeWarning: Normalized/laundered field name: 'dissolve_id' to 'dissolve_i'\n",
      "  ogr_write(\n"
     ]
    },
    {
     "name": "stdout",
     "output_type": "stream",
     "text": [
      "    1/4: Recortando la capa de deforestación...\n",
      "    2/4: Uniendo polígonos (dissolve)...\n",
      "    3/4: Calculando área en hectáreas...\n",
      "    4/4: Guardando resultado en: def22_chimboracense.shp\n",
      "    -> Archivo guardado con éxito. ✨\n",
      "\n",
      "==================================================\n",
      "Procesando Área de Estudio: ejcf\n",
      "==================================================\n",
      "\n",
      "  Procesando capa de deforestación del año: 2018\n"
     ]
    },
    {
     "name": "stderr",
     "output_type": "stream",
     "text": [
      "C:\\Users\\nacho\\AppData\\Local\\Temp\\ipykernel_18820\\3899044288.py:127: UserWarning: Column names longer than 10 characters will be truncated when saved to ESRI Shapefile.\n",
      "  disuelto_gdf.to_file(ruta_salida_completa, driver='ESRI Shapefile', encoding='utf-8')\n",
      "c:\\Users\\nacho\\miniforge3\\envs\\geo_env\\Lib\\site-packages\\pyogrio\\raw.py:723: RuntimeWarning: Normalized/laundered field name: 'dissolve_id' to 'dissolve_i'\n",
      "  ogr_write(\n"
     ]
    },
    {
     "name": "stdout",
     "output_type": "stream",
     "text": [
      "    1/4: Recortando la capa de deforestación...\n",
      "    2/4: Uniendo polígonos (dissolve)...\n",
      "    3/4: Calculando área en hectáreas...\n",
      "    4/4: Guardando resultado en: def18_ejcf.shp\n",
      "    -> Archivo guardado con éxito. ✨\n",
      "\n",
      "  Procesando capa de deforestación del año: 2020\n"
     ]
    },
    {
     "name": "stderr",
     "output_type": "stream",
     "text": [
      "C:\\Users\\nacho\\AppData\\Local\\Temp\\ipykernel_18820\\3899044288.py:127: UserWarning: Column names longer than 10 characters will be truncated when saved to ESRI Shapefile.\n",
      "  disuelto_gdf.to_file(ruta_salida_completa, driver='ESRI Shapefile', encoding='utf-8')\n",
      "c:\\Users\\nacho\\miniforge3\\envs\\geo_env\\Lib\\site-packages\\pyogrio\\raw.py:723: RuntimeWarning: Normalized/laundered field name: 'dissolve_id' to 'dissolve_i'\n",
      "  ogr_write(\n"
     ]
    },
    {
     "name": "stdout",
     "output_type": "stream",
     "text": [
      "    1/4: Recortando la capa de deforestación...\n",
      "    2/4: Uniendo polígonos (dissolve)...\n",
      "    3/4: Calculando área en hectáreas...\n",
      "    4/4: Guardando resultado en: def20_ejcf.shp\n",
      "    -> Archivo guardado con éxito. ✨\n",
      "\n",
      "  Procesando capa de deforestación del año: 2022\n"
     ]
    },
    {
     "name": "stderr",
     "output_type": "stream",
     "text": [
      "C:\\Users\\nacho\\AppData\\Local\\Temp\\ipykernel_18820\\3899044288.py:127: UserWarning: Column names longer than 10 characters will be truncated when saved to ESRI Shapefile.\n",
      "  disuelto_gdf.to_file(ruta_salida_completa, driver='ESRI Shapefile', encoding='utf-8')\n",
      "c:\\Users\\nacho\\miniforge3\\envs\\geo_env\\Lib\\site-packages\\pyogrio\\raw.py:723: RuntimeWarning: Normalized/laundered field name: 'dissolve_id' to 'dissolve_i'\n",
      "  ogr_write(\n"
     ]
    },
    {
     "name": "stdout",
     "output_type": "stream",
     "text": [
      "    1/4: Recortando la capa de deforestación...\n",
      "    2/4: Uniendo polígonos (dissolve)...\n",
      "    3/4: Calculando área en hectáreas...\n",
      "    4/4: Guardando resultado en: def22_ejcf.shp\n",
      "    -> Archivo guardado con éxito. ✨\n",
      "\n",
      "==================================================\n",
      "Procesando Área de Estudio: el_inca\n",
      "==================================================\n",
      "\n",
      "  Procesando capa de deforestación del año: 2018\n"
     ]
    },
    {
     "name": "stderr",
     "output_type": "stream",
     "text": [
      "C:\\Users\\nacho\\AppData\\Local\\Temp\\ipykernel_18820\\3899044288.py:127: UserWarning: Column names longer than 10 characters will be truncated when saved to ESRI Shapefile.\n",
      "  disuelto_gdf.to_file(ruta_salida_completa, driver='ESRI Shapefile', encoding='utf-8')\n",
      "c:\\Users\\nacho\\miniforge3\\envs\\geo_env\\Lib\\site-packages\\pyogrio\\raw.py:723: RuntimeWarning: Normalized/laundered field name: 'dissolve_id' to 'dissolve_i'\n",
      "  ogr_write(\n"
     ]
    },
    {
     "name": "stdout",
     "output_type": "stream",
     "text": [
      "    1/4: Recortando la capa de deforestación...\n",
      "    2/4: Uniendo polígonos (dissolve)...\n",
      "    3/4: Calculando área en hectáreas...\n",
      "    4/4: Guardando resultado en: def18_el_inca.shp\n",
      "    -> Archivo guardado con éxito. ✨\n",
      "\n",
      "  Procesando capa de deforestación del año: 2020\n"
     ]
    },
    {
     "name": "stderr",
     "output_type": "stream",
     "text": [
      "C:\\Users\\nacho\\AppData\\Local\\Temp\\ipykernel_18820\\3899044288.py:127: UserWarning: Column names longer than 10 characters will be truncated when saved to ESRI Shapefile.\n",
      "  disuelto_gdf.to_file(ruta_salida_completa, driver='ESRI Shapefile', encoding='utf-8')\n",
      "c:\\Users\\nacho\\miniforge3\\envs\\geo_env\\Lib\\site-packages\\pyogrio\\raw.py:723: RuntimeWarning: Normalized/laundered field name: 'dissolve_id' to 'dissolve_i'\n",
      "  ogr_write(\n"
     ]
    },
    {
     "name": "stdout",
     "output_type": "stream",
     "text": [
      "    1/4: Recortando la capa de deforestación...\n",
      "    2/4: Uniendo polígonos (dissolve)...\n",
      "    3/4: Calculando área en hectáreas...\n",
      "    4/4: Guardando resultado en: def20_el_inca.shp\n",
      "    -> Archivo guardado con éxito. ✨\n",
      "\n",
      "  Procesando capa de deforestación del año: 2022\n"
     ]
    },
    {
     "name": "stderr",
     "output_type": "stream",
     "text": [
      "C:\\Users\\nacho\\AppData\\Local\\Temp\\ipykernel_18820\\3899044288.py:127: UserWarning: Column names longer than 10 characters will be truncated when saved to ESRI Shapefile.\n",
      "  disuelto_gdf.to_file(ruta_salida_completa, driver='ESRI Shapefile', encoding='utf-8')\n",
      "c:\\Users\\nacho\\miniforge3\\envs\\geo_env\\Lib\\site-packages\\pyogrio\\raw.py:723: RuntimeWarning: Normalized/laundered field name: 'dissolve_id' to 'dissolve_i'\n",
      "  ogr_write(\n"
     ]
    },
    {
     "name": "stdout",
     "output_type": "stream",
     "text": [
      "    1/4: Recortando la capa de deforestación...\n",
      "    2/4: Uniendo polígonos (dissolve)...\n",
      "    3/4: Calculando área en hectáreas...\n",
      "    4/4: Guardando resultado en: def22_el_inca.shp\n",
      "    -> Archivo guardado con éxito. ✨\n",
      "\n",
      "==================================================\n",
      "Procesando Área de Estudio: fano\n",
      "==================================================\n",
      "\n",
      "  Procesando capa de deforestación del año: 2018\n"
     ]
    },
    {
     "name": "stderr",
     "output_type": "stream",
     "text": [
      "C:\\Users\\nacho\\AppData\\Local\\Temp\\ipykernel_18820\\3899044288.py:127: UserWarning: Column names longer than 10 characters will be truncated when saved to ESRI Shapefile.\n",
      "  disuelto_gdf.to_file(ruta_salida_completa, driver='ESRI Shapefile', encoding='utf-8')\n",
      "c:\\Users\\nacho\\miniforge3\\envs\\geo_env\\Lib\\site-packages\\pyogrio\\raw.py:723: RuntimeWarning: Normalized/laundered field name: 'dissolve_id' to 'dissolve_i'\n",
      "  ogr_write(\n"
     ]
    },
    {
     "name": "stdout",
     "output_type": "stream",
     "text": [
      "    1/4: Recortando la capa de deforestación...\n",
      "    2/4: Uniendo polígonos (dissolve)...\n",
      "    3/4: Calculando área en hectáreas...\n",
      "    4/4: Guardando resultado en: def18_fano.shp\n",
      "    -> Archivo guardado con éxito. ✨\n",
      "\n",
      "  Procesando capa de deforestación del año: 2020\n"
     ]
    },
    {
     "name": "stderr",
     "output_type": "stream",
     "text": [
      "C:\\Users\\nacho\\AppData\\Local\\Temp\\ipykernel_18820\\3899044288.py:127: UserWarning: Column names longer than 10 characters will be truncated when saved to ESRI Shapefile.\n",
      "  disuelto_gdf.to_file(ruta_salida_completa, driver='ESRI Shapefile', encoding='utf-8')\n",
      "c:\\Users\\nacho\\miniforge3\\envs\\geo_env\\Lib\\site-packages\\pyogrio\\raw.py:723: RuntimeWarning: Normalized/laundered field name: 'dissolve_id' to 'dissolve_i'\n",
      "  ogr_write(\n"
     ]
    },
    {
     "name": "stdout",
     "output_type": "stream",
     "text": [
      "    1/4: Recortando la capa de deforestación...\n",
      "    2/4: Uniendo polígonos (dissolve)...\n",
      "    3/4: Calculando área en hectáreas...\n",
      "    4/4: Guardando resultado en: def20_fano.shp\n",
      "    -> Archivo guardado con éxito. ✨\n",
      "\n",
      "  Procesando capa de deforestación del año: 2022\n"
     ]
    },
    {
     "name": "stderr",
     "output_type": "stream",
     "text": [
      "C:\\Users\\nacho\\AppData\\Local\\Temp\\ipykernel_18820\\3899044288.py:127: UserWarning: Column names longer than 10 characters will be truncated when saved to ESRI Shapefile.\n",
      "  disuelto_gdf.to_file(ruta_salida_completa, driver='ESRI Shapefile', encoding='utf-8')\n",
      "c:\\Users\\nacho\\miniforge3\\envs\\geo_env\\Lib\\site-packages\\pyogrio\\raw.py:723: RuntimeWarning: Normalized/laundered field name: 'dissolve_id' to 'dissolve_i'\n",
      "  ogr_write(\n"
     ]
    },
    {
     "name": "stdout",
     "output_type": "stream",
     "text": [
      "    1/4: Recortando la capa de deforestación...\n",
      "    2/4: Uniendo polígonos (dissolve)...\n",
      "    3/4: Calculando área en hectáreas...\n",
      "    4/4: Guardando resultado en: def22_fano.shp\n",
      "    -> Archivo guardado con éxito. ✨\n",
      "\n",
      "==================================================\n",
      "Procesando Área de Estudio: florida\n",
      "==================================================\n",
      "\n",
      "  Procesando capa de deforestación del año: 2018\n"
     ]
    },
    {
     "name": "stderr",
     "output_type": "stream",
     "text": [
      "C:\\Users\\nacho\\AppData\\Local\\Temp\\ipykernel_18820\\3899044288.py:127: UserWarning: Column names longer than 10 characters will be truncated when saved to ESRI Shapefile.\n",
      "  disuelto_gdf.to_file(ruta_salida_completa, driver='ESRI Shapefile', encoding='utf-8')\n",
      "c:\\Users\\nacho\\miniforge3\\envs\\geo_env\\Lib\\site-packages\\pyogrio\\raw.py:723: RuntimeWarning: Normalized/laundered field name: 'dissolve_id' to 'dissolve_i'\n",
      "  ogr_write(\n"
     ]
    },
    {
     "name": "stdout",
     "output_type": "stream",
     "text": [
      "    -> Advertencia: Los CRS no coinciden. Reproyectando área de estudio al CRS de la capa de deforestación (EPSG:32717)\n",
      "    1/4: Recortando la capa de deforestación...\n",
      "    2/4: Uniendo polígonos (dissolve)...\n",
      "    3/4: Calculando área en hectáreas...\n",
      "    4/4: Guardando resultado en: def18_florida.shp\n",
      "    -> Archivo guardado con éxito. ✨\n",
      "\n",
      "  Procesando capa de deforestación del año: 2020\n"
     ]
    },
    {
     "name": "stderr",
     "output_type": "stream",
     "text": [
      "C:\\Users\\nacho\\AppData\\Local\\Temp\\ipykernel_18820\\3899044288.py:127: UserWarning: Column names longer than 10 characters will be truncated when saved to ESRI Shapefile.\n",
      "  disuelto_gdf.to_file(ruta_salida_completa, driver='ESRI Shapefile', encoding='utf-8')\n",
      "c:\\Users\\nacho\\miniforge3\\envs\\geo_env\\Lib\\site-packages\\pyogrio\\raw.py:723: RuntimeWarning: Normalized/laundered field name: 'dissolve_id' to 'dissolve_i'\n",
      "  ogr_write(\n"
     ]
    },
    {
     "name": "stdout",
     "output_type": "stream",
     "text": [
      "    1/4: Recortando la capa de deforestación...\n",
      "    2/4: Uniendo polígonos (dissolve)...\n",
      "    3/4: Calculando área en hectáreas...\n",
      "    4/4: Guardando resultado en: def20_florida.shp\n",
      "    -> Archivo guardado con éxito. ✨\n",
      "\n",
      "  Procesando capa de deforestación del año: 2022\n"
     ]
    },
    {
     "name": "stderr",
     "output_type": "stream",
     "text": [
      "C:\\Users\\nacho\\AppData\\Local\\Temp\\ipykernel_18820\\3899044288.py:127: UserWarning: Column names longer than 10 characters will be truncated when saved to ESRI Shapefile.\n",
      "  disuelto_gdf.to_file(ruta_salida_completa, driver='ESRI Shapefile', encoding='utf-8')\n",
      "c:\\Users\\nacho\\miniforge3\\envs\\geo_env\\Lib\\site-packages\\pyogrio\\raw.py:723: RuntimeWarning: Normalized/laundered field name: 'dissolve_id' to 'dissolve_i'\n",
      "  ogr_write(\n"
     ]
    },
    {
     "name": "stdout",
     "output_type": "stream",
     "text": [
      "    1/4: Recortando la capa de deforestación...\n",
      "    2/4: Uniendo polígonos (dissolve)...\n",
      "    3/4: Calculando área en hectáreas...\n",
      "    4/4: Guardando resultado en: def22_florida.shp\n",
      "    -> Archivo guardado con éxito. ✨\n",
      "\n",
      "==================================================\n",
      "Procesando Área de Estudio: las_palmas\n",
      "==================================================\n",
      "\n",
      "  Procesando capa de deforestación del año: 2018\n"
     ]
    },
    {
     "name": "stderr",
     "output_type": "stream",
     "text": [
      "C:\\Users\\nacho\\AppData\\Local\\Temp\\ipykernel_18820\\3899044288.py:127: UserWarning: Column names longer than 10 characters will be truncated when saved to ESRI Shapefile.\n",
      "  disuelto_gdf.to_file(ruta_salida_completa, driver='ESRI Shapefile', encoding='utf-8')\n",
      "c:\\Users\\nacho\\miniforge3\\envs\\geo_env\\Lib\\site-packages\\pyogrio\\raw.py:723: RuntimeWarning: Normalized/laundered field name: 'dissolve_id' to 'dissolve_i'\n",
      "  ogr_write(\n"
     ]
    },
    {
     "name": "stdout",
     "output_type": "stream",
     "text": [
      "    1/4: Recortando la capa de deforestación...\n",
      "    -> El área de estudio no se superpone con la capa de deforestación. No se generará archivo.\n",
      "\n",
      "  Procesando capa de deforestación del año: 2020\n",
      "    1/4: Recortando la capa de deforestación...\n",
      "    -> El área de estudio no se superpone con la capa de deforestación. No se generará archivo.\n",
      "\n",
      "  Procesando capa de deforestación del año: 2022\n",
      "    1/4: Recortando la capa de deforestación...\n",
      "    2/4: Uniendo polígonos (dissolve)...\n",
      "    3/4: Calculando área en hectáreas...\n",
      "    4/4: Guardando resultado en: def22_las_palmas.shp\n",
      "    -> Archivo guardado con éxito. ✨\n",
      "\n",
      "==================================================\n",
      "Procesando Área de Estudio: marianita_miguel\n",
      "==================================================\n",
      "\n",
      "  Procesando capa de deforestación del año: 2018\n"
     ]
    },
    {
     "name": "stderr",
     "output_type": "stream",
     "text": [
      "C:\\Users\\nacho\\AppData\\Local\\Temp\\ipykernel_18820\\3899044288.py:127: UserWarning: Column names longer than 10 characters will be truncated when saved to ESRI Shapefile.\n",
      "  disuelto_gdf.to_file(ruta_salida_completa, driver='ESRI Shapefile', encoding='utf-8')\n",
      "c:\\Users\\nacho\\miniforge3\\envs\\geo_env\\Lib\\site-packages\\pyogrio\\raw.py:723: RuntimeWarning: Normalized/laundered field name: 'dissolve_id' to 'dissolve_i'\n",
      "  ogr_write(\n"
     ]
    },
    {
     "name": "stdout",
     "output_type": "stream",
     "text": [
      "    1/4: Recortando la capa de deforestación...\n",
      "    2/4: Uniendo polígonos (dissolve)...\n",
      "    3/4: Calculando área en hectáreas...\n",
      "    4/4: Guardando resultado en: def18_marianita_miguel.shp\n",
      "    -> Archivo guardado con éxito. ✨\n",
      "\n",
      "  Procesando capa de deforestación del año: 2020\n"
     ]
    },
    {
     "name": "stderr",
     "output_type": "stream",
     "text": [
      "C:\\Users\\nacho\\AppData\\Local\\Temp\\ipykernel_18820\\3899044288.py:127: UserWarning: Column names longer than 10 characters will be truncated when saved to ESRI Shapefile.\n",
      "  disuelto_gdf.to_file(ruta_salida_completa, driver='ESRI Shapefile', encoding='utf-8')\n",
      "c:\\Users\\nacho\\miniforge3\\envs\\geo_env\\Lib\\site-packages\\pyogrio\\raw.py:723: RuntimeWarning: Normalized/laundered field name: 'dissolve_id' to 'dissolve_i'\n",
      "  ogr_write(\n"
     ]
    },
    {
     "name": "stdout",
     "output_type": "stream",
     "text": [
      "    1/4: Recortando la capa de deforestación...\n",
      "    2/4: Uniendo polígonos (dissolve)...\n",
      "    3/4: Calculando área en hectáreas...\n",
      "    4/4: Guardando resultado en: def20_marianita_miguel.shp\n",
      "    -> Archivo guardado con éxito. ✨\n",
      "\n",
      "  Procesando capa de deforestación del año: 2022\n"
     ]
    },
    {
     "name": "stderr",
     "output_type": "stream",
     "text": [
      "C:\\Users\\nacho\\AppData\\Local\\Temp\\ipykernel_18820\\3899044288.py:127: UserWarning: Column names longer than 10 characters will be truncated when saved to ESRI Shapefile.\n",
      "  disuelto_gdf.to_file(ruta_salida_completa, driver='ESRI Shapefile', encoding='utf-8')\n",
      "c:\\Users\\nacho\\miniforge3\\envs\\geo_env\\Lib\\site-packages\\pyogrio\\raw.py:723: RuntimeWarning: Normalized/laundered field name: 'dissolve_id' to 'dissolve_i'\n",
      "  ogr_write(\n"
     ]
    },
    {
     "name": "stdout",
     "output_type": "stream",
     "text": [
      "    1/4: Recortando la capa de deforestación...\n",
      "    2/4: Uniendo polígonos (dissolve)...\n",
      "    3/4: Calculando área en hectáreas...\n",
      "    4/4: Guardando resultado en: def22_marianita_miguel.shp\n",
      "    -> Archivo guardado con éxito. ✨\n",
      "\n",
      "==================================================\n",
      "Procesando Área de Estudio: parcelas_7_julio\n",
      "==================================================\n",
      "\n",
      "  Procesando capa de deforestación del año: 2018\n"
     ]
    },
    {
     "name": "stderr",
     "output_type": "stream",
     "text": [
      "C:\\Users\\nacho\\AppData\\Local\\Temp\\ipykernel_18820\\3899044288.py:127: UserWarning: Column names longer than 10 characters will be truncated when saved to ESRI Shapefile.\n",
      "  disuelto_gdf.to_file(ruta_salida_completa, driver='ESRI Shapefile', encoding='utf-8')\n",
      "c:\\Users\\nacho\\miniforge3\\envs\\geo_env\\Lib\\site-packages\\pyogrio\\raw.py:723: RuntimeWarning: Normalized/laundered field name: 'dissolve_id' to 'dissolve_i'\n",
      "  ogr_write(\n"
     ]
    },
    {
     "name": "stdout",
     "output_type": "stream",
     "text": [
      "    1/4: Recortando la capa de deforestación...\n",
      "    2/4: Uniendo polígonos (dissolve)...\n",
      "    3/4: Calculando área en hectáreas...\n",
      "    4/4: Guardando resultado en: def18_parcelas_7_julio.shp\n",
      "    -> Archivo guardado con éxito. ✨\n",
      "\n",
      "  Procesando capa de deforestación del año: 2020\n"
     ]
    },
    {
     "name": "stderr",
     "output_type": "stream",
     "text": [
      "C:\\Users\\nacho\\AppData\\Local\\Temp\\ipykernel_18820\\3899044288.py:127: UserWarning: Column names longer than 10 characters will be truncated when saved to ESRI Shapefile.\n",
      "  disuelto_gdf.to_file(ruta_salida_completa, driver='ESRI Shapefile', encoding='utf-8')\n",
      "c:\\Users\\nacho\\miniforge3\\envs\\geo_env\\Lib\\site-packages\\pyogrio\\raw.py:723: RuntimeWarning: Normalized/laundered field name: 'dissolve_id' to 'dissolve_i'\n",
      "  ogr_write(\n"
     ]
    },
    {
     "name": "stdout",
     "output_type": "stream",
     "text": [
      "    1/4: Recortando la capa de deforestación...\n",
      "    2/4: Uniendo polígonos (dissolve)...\n",
      "    3/4: Calculando área en hectáreas...\n",
      "    4/4: Guardando resultado en: def20_parcelas_7_julio.shp\n",
      "    -> Archivo guardado con éxito. ✨\n",
      "\n",
      "  Procesando capa de deforestación del año: 2022\n"
     ]
    },
    {
     "name": "stderr",
     "output_type": "stream",
     "text": [
      "C:\\Users\\nacho\\AppData\\Local\\Temp\\ipykernel_18820\\3899044288.py:127: UserWarning: Column names longer than 10 characters will be truncated when saved to ESRI Shapefile.\n",
      "  disuelto_gdf.to_file(ruta_salida_completa, driver='ESRI Shapefile', encoding='utf-8')\n",
      "c:\\Users\\nacho\\miniforge3\\envs\\geo_env\\Lib\\site-packages\\pyogrio\\raw.py:723: RuntimeWarning: Normalized/laundered field name: 'dissolve_id' to 'dissolve_i'\n",
      "  ogr_write(\n"
     ]
    },
    {
     "name": "stdout",
     "output_type": "stream",
     "text": [
      "    1/4: Recortando la capa de deforestación...\n",
      "    2/4: Uniendo polígonos (dissolve)...\n",
      "    3/4: Calculando área en hectáreas...\n",
      "    4/4: Guardando resultado en: def22_parcelas_7_julio.shp\n",
      "    -> Archivo guardado con éxito. ✨\n",
      "\n",
      "==================================================\n",
      "Procesando Área de Estudio: parcelas_shushufindi\n",
      "==================================================\n",
      "\n",
      "  Procesando capa de deforestación del año: 2018\n"
     ]
    },
    {
     "name": "stderr",
     "output_type": "stream",
     "text": [
      "C:\\Users\\nacho\\AppData\\Local\\Temp\\ipykernel_18820\\3899044288.py:127: UserWarning: Column names longer than 10 characters will be truncated when saved to ESRI Shapefile.\n",
      "  disuelto_gdf.to_file(ruta_salida_completa, driver='ESRI Shapefile', encoding='utf-8')\n",
      "c:\\Users\\nacho\\miniforge3\\envs\\geo_env\\Lib\\site-packages\\pyogrio\\raw.py:723: RuntimeWarning: Normalized/laundered field name: 'dissolve_id' to 'dissolve_i'\n",
      "  ogr_write(\n"
     ]
    },
    {
     "name": "stdout",
     "output_type": "stream",
     "text": [
      "    1/4: Recortando la capa de deforestación...\n",
      "    2/4: Uniendo polígonos (dissolve)...\n",
      "    3/4: Calculando área en hectáreas...\n",
      "    4/4: Guardando resultado en: def18_parcelas_shushufindi.shp\n",
      "    -> Archivo guardado con éxito. ✨\n",
      "\n",
      "  Procesando capa de deforestación del año: 2020\n"
     ]
    },
    {
     "name": "stderr",
     "output_type": "stream",
     "text": [
      "C:\\Users\\nacho\\AppData\\Local\\Temp\\ipykernel_18820\\3899044288.py:127: UserWarning: Column names longer than 10 characters will be truncated when saved to ESRI Shapefile.\n",
      "  disuelto_gdf.to_file(ruta_salida_completa, driver='ESRI Shapefile', encoding='utf-8')\n",
      "c:\\Users\\nacho\\miniforge3\\envs\\geo_env\\Lib\\site-packages\\pyogrio\\raw.py:723: RuntimeWarning: Normalized/laundered field name: 'dissolve_id' to 'dissolve_i'\n",
      "  ogr_write(\n"
     ]
    },
    {
     "name": "stdout",
     "output_type": "stream",
     "text": [
      "    1/4: Recortando la capa de deforestación...\n",
      "    2/4: Uniendo polígonos (dissolve)...\n",
      "    3/4: Calculando área en hectáreas...\n",
      "    4/4: Guardando resultado en: def20_parcelas_shushufindi.shp\n",
      "    -> Archivo guardado con éxito. ✨\n",
      "\n",
      "  Procesando capa de deforestación del año: 2022\n"
     ]
    },
    {
     "name": "stderr",
     "output_type": "stream",
     "text": [
      "C:\\Users\\nacho\\AppData\\Local\\Temp\\ipykernel_18820\\3899044288.py:127: UserWarning: Column names longer than 10 characters will be truncated when saved to ESRI Shapefile.\n",
      "  disuelto_gdf.to_file(ruta_salida_completa, driver='ESRI Shapefile', encoding='utf-8')\n",
      "c:\\Users\\nacho\\miniforge3\\envs\\geo_env\\Lib\\site-packages\\pyogrio\\raw.py:723: RuntimeWarning: Normalized/laundered field name: 'dissolve_id' to 'dissolve_i'\n",
      "  ogr_write(\n"
     ]
    },
    {
     "name": "stdout",
     "output_type": "stream",
     "text": [
      "    1/4: Recortando la capa de deforestación...\n",
      "    2/4: Uniendo polígonos (dissolve)...\n",
      "    3/4: Calculando área en hectáreas...\n",
      "    4/4: Guardando resultado en: def22_parcelas_shushufindi.shp\n",
      "    -> Archivo guardado con éxito. ✨\n",
      "\n",
      "==================================================\n",
      "Procesando Área de Estudio: parcelas_spcofanes\n",
      "==================================================\n",
      "\n",
      "  Procesando capa de deforestación del año: 2018\n"
     ]
    },
    {
     "name": "stderr",
     "output_type": "stream",
     "text": [
      "C:\\Users\\nacho\\AppData\\Local\\Temp\\ipykernel_18820\\3899044288.py:127: UserWarning: Column names longer than 10 characters will be truncated when saved to ESRI Shapefile.\n",
      "  disuelto_gdf.to_file(ruta_salida_completa, driver='ESRI Shapefile', encoding='utf-8')\n",
      "c:\\Users\\nacho\\miniforge3\\envs\\geo_env\\Lib\\site-packages\\pyogrio\\raw.py:723: RuntimeWarning: Normalized/laundered field name: 'dissolve_id' to 'dissolve_i'\n",
      "  ogr_write(\n"
     ]
    },
    {
     "name": "stdout",
     "output_type": "stream",
     "text": [
      "    1/4: Recortando la capa de deforestación...\n",
      "    2/4: Uniendo polígonos (dissolve)...\n",
      "    3/4: Calculando área en hectáreas...\n",
      "    4/4: Guardando resultado en: def18_parcelas_spcofanes.shp\n",
      "    -> Archivo guardado con éxito. ✨\n",
      "\n",
      "  Procesando capa de deforestación del año: 2020\n"
     ]
    },
    {
     "name": "stderr",
     "output_type": "stream",
     "text": [
      "C:\\Users\\nacho\\AppData\\Local\\Temp\\ipykernel_18820\\3899044288.py:127: UserWarning: Column names longer than 10 characters will be truncated when saved to ESRI Shapefile.\n",
      "  disuelto_gdf.to_file(ruta_salida_completa, driver='ESRI Shapefile', encoding='utf-8')\n",
      "c:\\Users\\nacho\\miniforge3\\envs\\geo_env\\Lib\\site-packages\\pyogrio\\raw.py:723: RuntimeWarning: Normalized/laundered field name: 'dissolve_id' to 'dissolve_i'\n",
      "  ogr_write(\n"
     ]
    },
    {
     "name": "stdout",
     "output_type": "stream",
     "text": [
      "    1/4: Recortando la capa de deforestación...\n",
      "    2/4: Uniendo polígonos (dissolve)...\n",
      "    3/4: Calculando área en hectáreas...\n",
      "    4/4: Guardando resultado en: def20_parcelas_spcofanes.shp\n",
      "    -> Archivo guardado con éxito. ✨\n",
      "\n",
      "  Procesando capa de deforestación del año: 2022\n"
     ]
    },
    {
     "name": "stderr",
     "output_type": "stream",
     "text": [
      "C:\\Users\\nacho\\AppData\\Local\\Temp\\ipykernel_18820\\3899044288.py:127: UserWarning: Column names longer than 10 characters will be truncated when saved to ESRI Shapefile.\n",
      "  disuelto_gdf.to_file(ruta_salida_completa, driver='ESRI Shapefile', encoding='utf-8')\n",
      "c:\\Users\\nacho\\miniforge3\\envs\\geo_env\\Lib\\site-packages\\pyogrio\\raw.py:723: RuntimeWarning: Normalized/laundered field name: 'dissolve_id' to 'dissolve_i'\n",
      "  ogr_write(\n"
     ]
    },
    {
     "name": "stdout",
     "output_type": "stream",
     "text": [
      "    1/4: Recortando la capa de deforestación...\n",
      "    2/4: Uniendo polígonos (dissolve)...\n",
      "    3/4: Calculando área en hectáreas...\n",
      "    4/4: Guardando resultado en: def22_parcelas_spcofanes.shp\n",
      "    -> Archivo guardado con éxito. ✨\n",
      "\n",
      "==================================================\n",
      "Procesando Área de Estudio: rios_vencedores\n",
      "==================================================\n",
      "\n",
      "  Procesando capa de deforestación del año: 2018\n"
     ]
    },
    {
     "name": "stderr",
     "output_type": "stream",
     "text": [
      "C:\\Users\\nacho\\AppData\\Local\\Temp\\ipykernel_18820\\3899044288.py:127: UserWarning: Column names longer than 10 characters will be truncated when saved to ESRI Shapefile.\n",
      "  disuelto_gdf.to_file(ruta_salida_completa, driver='ESRI Shapefile', encoding='utf-8')\n",
      "c:\\Users\\nacho\\miniforge3\\envs\\geo_env\\Lib\\site-packages\\pyogrio\\raw.py:723: RuntimeWarning: Normalized/laundered field name: 'dissolve_id' to 'dissolve_i'\n",
      "  ogr_write(\n"
     ]
    },
    {
     "name": "stdout",
     "output_type": "stream",
     "text": [
      "    1/4: Recortando la capa de deforestación...\n",
      "    2/4: Uniendo polígonos (dissolve)...\n",
      "    3/4: Calculando área en hectáreas...\n",
      "    4/4: Guardando resultado en: def18_rios_vencedores.shp\n",
      "    -> Archivo guardado con éxito. ✨\n",
      "\n",
      "  Procesando capa de deforestación del año: 2020\n"
     ]
    },
    {
     "name": "stderr",
     "output_type": "stream",
     "text": [
      "C:\\Users\\nacho\\AppData\\Local\\Temp\\ipykernel_18820\\3899044288.py:127: UserWarning: Column names longer than 10 characters will be truncated when saved to ESRI Shapefile.\n",
      "  disuelto_gdf.to_file(ruta_salida_completa, driver='ESRI Shapefile', encoding='utf-8')\n",
      "c:\\Users\\nacho\\miniforge3\\envs\\geo_env\\Lib\\site-packages\\pyogrio\\raw.py:723: RuntimeWarning: Normalized/laundered field name: 'dissolve_id' to 'dissolve_i'\n",
      "  ogr_write(\n"
     ]
    },
    {
     "name": "stdout",
     "output_type": "stream",
     "text": [
      "    1/4: Recortando la capa de deforestación...\n",
      "    2/4: Uniendo polígonos (dissolve)...\n",
      "    3/4: Calculando área en hectáreas...\n",
      "    4/4: Guardando resultado en: def20_rios_vencedores.shp\n",
      "    -> Archivo guardado con éxito. ✨\n",
      "\n",
      "  Procesando capa de deforestación del año: 2022\n"
     ]
    },
    {
     "name": "stderr",
     "output_type": "stream",
     "text": [
      "C:\\Users\\nacho\\AppData\\Local\\Temp\\ipykernel_18820\\3899044288.py:127: UserWarning: Column names longer than 10 characters will be truncated when saved to ESRI Shapefile.\n",
      "  disuelto_gdf.to_file(ruta_salida_completa, driver='ESRI Shapefile', encoding='utf-8')\n",
      "c:\\Users\\nacho\\miniforge3\\envs\\geo_env\\Lib\\site-packages\\pyogrio\\raw.py:723: RuntimeWarning: Normalized/laundered field name: 'dissolve_id' to 'dissolve_i'\n",
      "  ogr_write(\n"
     ]
    },
    {
     "name": "stdout",
     "output_type": "stream",
     "text": [
      "    1/4: Recortando la capa de deforestación...\n",
      "    2/4: Uniendo polígonos (dissolve)...\n",
      "    3/4: Calculando área en hectáreas...\n",
      "    4/4: Guardando resultado en: def22_rios_vencedores.shp\n",
      "    -> Archivo guardado con éxito. ✨\n",
      "\n",
      "==================================================\n",
      "Procesando Área de Estudio: rio_tiputini\n",
      "==================================================\n",
      "\n",
      "  Procesando capa de deforestación del año: 2018\n"
     ]
    },
    {
     "name": "stderr",
     "output_type": "stream",
     "text": [
      "C:\\Users\\nacho\\AppData\\Local\\Temp\\ipykernel_18820\\3899044288.py:127: UserWarning: Column names longer than 10 characters will be truncated when saved to ESRI Shapefile.\n",
      "  disuelto_gdf.to_file(ruta_salida_completa, driver='ESRI Shapefile', encoding='utf-8')\n",
      "c:\\Users\\nacho\\miniforge3\\envs\\geo_env\\Lib\\site-packages\\pyogrio\\raw.py:723: RuntimeWarning: Normalized/laundered field name: 'dissolve_id' to 'dissolve_i'\n",
      "  ogr_write(\n"
     ]
    },
    {
     "name": "stdout",
     "output_type": "stream",
     "text": [
      "    1/4: Recortando la capa de deforestación...\n",
      "    2/4: Uniendo polígonos (dissolve)...\n",
      "    3/4: Calculando área en hectáreas...\n",
      "    4/4: Guardando resultado en: def18_rio_tiputini.shp\n",
      "    -> Archivo guardado con éxito. ✨\n",
      "\n",
      "  Procesando capa de deforestación del año: 2020\n"
     ]
    },
    {
     "name": "stderr",
     "output_type": "stream",
     "text": [
      "C:\\Users\\nacho\\AppData\\Local\\Temp\\ipykernel_18820\\3899044288.py:127: UserWarning: Column names longer than 10 characters will be truncated when saved to ESRI Shapefile.\n",
      "  disuelto_gdf.to_file(ruta_salida_completa, driver='ESRI Shapefile', encoding='utf-8')\n",
      "c:\\Users\\nacho\\miniforge3\\envs\\geo_env\\Lib\\site-packages\\pyogrio\\raw.py:723: RuntimeWarning: Normalized/laundered field name: 'dissolve_id' to 'dissolve_i'\n",
      "  ogr_write(\n"
     ]
    },
    {
     "name": "stdout",
     "output_type": "stream",
     "text": [
      "    1/4: Recortando la capa de deforestación...\n",
      "    2/4: Uniendo polígonos (dissolve)...\n",
      "    3/4: Calculando área en hectáreas...\n",
      "    4/4: Guardando resultado en: def20_rio_tiputini.shp\n",
      "    -> Archivo guardado con éxito. ✨\n",
      "\n",
      "  Procesando capa de deforestación del año: 2022\n"
     ]
    },
    {
     "name": "stderr",
     "output_type": "stream",
     "text": [
      "C:\\Users\\nacho\\AppData\\Local\\Temp\\ipykernel_18820\\3899044288.py:127: UserWarning: Column names longer than 10 characters will be truncated when saved to ESRI Shapefile.\n",
      "  disuelto_gdf.to_file(ruta_salida_completa, driver='ESRI Shapefile', encoding='utf-8')\n",
      "c:\\Users\\nacho\\miniforge3\\envs\\geo_env\\Lib\\site-packages\\pyogrio\\raw.py:723: RuntimeWarning: Normalized/laundered field name: 'dissolve_id' to 'dissolve_i'\n",
      "  ogr_write(\n"
     ]
    },
    {
     "name": "stdout",
     "output_type": "stream",
     "text": [
      "    1/4: Recortando la capa de deforestación...\n",
      "    2/4: Uniendo polígonos (dissolve)...\n",
      "    3/4: Calculando área en hectáreas...\n",
      "    4/4: Guardando resultado en: def22_rio_tiputini.shp\n",
      "    -> Archivo guardado con éxito. ✨\n",
      "\n",
      "==================================================\n",
      "Procesando Área de Estudio: riveras_oriente\n",
      "==================================================\n",
      "\n",
      "  Procesando capa de deforestación del año: 2018\n"
     ]
    },
    {
     "name": "stderr",
     "output_type": "stream",
     "text": [
      "C:\\Users\\nacho\\AppData\\Local\\Temp\\ipykernel_18820\\3899044288.py:127: UserWarning: Column names longer than 10 characters will be truncated when saved to ESRI Shapefile.\n",
      "  disuelto_gdf.to_file(ruta_salida_completa, driver='ESRI Shapefile', encoding='utf-8')\n",
      "c:\\Users\\nacho\\miniforge3\\envs\\geo_env\\Lib\\site-packages\\pyogrio\\raw.py:723: RuntimeWarning: Normalized/laundered field name: 'dissolve_id' to 'dissolve_i'\n",
      "  ogr_write(\n"
     ]
    },
    {
     "name": "stdout",
     "output_type": "stream",
     "text": [
      "    1/4: Recortando la capa de deforestación...\n",
      "    2/4: Uniendo polígonos (dissolve)...\n",
      "    3/4: Calculando área en hectáreas...\n",
      "    4/4: Guardando resultado en: def18_riveras_oriente.shp\n",
      "    -> Archivo guardado con éxito. ✨\n",
      "\n",
      "  Procesando capa de deforestación del año: 2020\n"
     ]
    },
    {
     "name": "stderr",
     "output_type": "stream",
     "text": [
      "C:\\Users\\nacho\\AppData\\Local\\Temp\\ipykernel_18820\\3899044288.py:127: UserWarning: Column names longer than 10 characters will be truncated when saved to ESRI Shapefile.\n",
      "  disuelto_gdf.to_file(ruta_salida_completa, driver='ESRI Shapefile', encoding='utf-8')\n",
      "c:\\Users\\nacho\\miniforge3\\envs\\geo_env\\Lib\\site-packages\\pyogrio\\raw.py:723: RuntimeWarning: Normalized/laundered field name: 'dissolve_id' to 'dissolve_i'\n",
      "  ogr_write(\n"
     ]
    },
    {
     "name": "stdout",
     "output_type": "stream",
     "text": [
      "    1/4: Recortando la capa de deforestación...\n",
      "    2/4: Uniendo polígonos (dissolve)...\n",
      "    3/4: Calculando área en hectáreas...\n",
      "    4/4: Guardando resultado en: def20_riveras_oriente.shp\n",
      "    -> Archivo guardado con éxito. ✨\n",
      "\n",
      "  Procesando capa de deforestación del año: 2022\n"
     ]
    },
    {
     "name": "stderr",
     "output_type": "stream",
     "text": [
      "C:\\Users\\nacho\\AppData\\Local\\Temp\\ipykernel_18820\\3899044288.py:127: UserWarning: Column names longer than 10 characters will be truncated when saved to ESRI Shapefile.\n",
      "  disuelto_gdf.to_file(ruta_salida_completa, driver='ESRI Shapefile', encoding='utf-8')\n",
      "c:\\Users\\nacho\\miniforge3\\envs\\geo_env\\Lib\\site-packages\\pyogrio\\raw.py:723: RuntimeWarning: Normalized/laundered field name: 'dissolve_id' to 'dissolve_i'\n",
      "  ogr_write(\n"
     ]
    },
    {
     "name": "stdout",
     "output_type": "stream",
     "text": [
      "    1/4: Recortando la capa de deforestación...\n",
      "    2/4: Uniendo polígonos (dissolve)...\n",
      "    3/4: Calculando área en hectáreas...\n",
      "    4/4: Guardando resultado en: def22_riveras_oriente.shp\n",
      "    -> Archivo guardado con éxito. ✨\n",
      "\n",
      "==================================================\n",
      "Procesando Área de Estudio: rumipamba\n",
      "==================================================\n",
      "\n",
      "  Procesando capa de deforestación del año: 2018\n"
     ]
    },
    {
     "name": "stderr",
     "output_type": "stream",
     "text": [
      "C:\\Users\\nacho\\AppData\\Local\\Temp\\ipykernel_18820\\3899044288.py:127: UserWarning: Column names longer than 10 characters will be truncated when saved to ESRI Shapefile.\n",
      "  disuelto_gdf.to_file(ruta_salida_completa, driver='ESRI Shapefile', encoding='utf-8')\n",
      "c:\\Users\\nacho\\miniforge3\\envs\\geo_env\\Lib\\site-packages\\pyogrio\\raw.py:723: RuntimeWarning: Normalized/laundered field name: 'dissolve_id' to 'dissolve_i'\n",
      "  ogr_write(\n"
     ]
    },
    {
     "name": "stdout",
     "output_type": "stream",
     "text": [
      "    -> Advertencia: Los CRS no coinciden. Reproyectando área de estudio al CRS de la capa de deforestación (EPSG:32717)\n",
      "    1/4: Recortando la capa de deforestación...\n",
      "    2/4: Uniendo polígonos (dissolve)...\n",
      "    3/4: Calculando área en hectáreas...\n",
      "    4/4: Guardando resultado en: def18_rumipamba.shp\n",
      "    -> Archivo guardado con éxito. ✨\n",
      "\n",
      "  Procesando capa de deforestación del año: 2020\n"
     ]
    },
    {
     "name": "stderr",
     "output_type": "stream",
     "text": [
      "C:\\Users\\nacho\\AppData\\Local\\Temp\\ipykernel_18820\\3899044288.py:127: UserWarning: Column names longer than 10 characters will be truncated when saved to ESRI Shapefile.\n",
      "  disuelto_gdf.to_file(ruta_salida_completa, driver='ESRI Shapefile', encoding='utf-8')\n",
      "c:\\Users\\nacho\\miniforge3\\envs\\geo_env\\Lib\\site-packages\\pyogrio\\raw.py:723: RuntimeWarning: Normalized/laundered field name: 'dissolve_id' to 'dissolve_i'\n",
      "  ogr_write(\n"
     ]
    },
    {
     "name": "stdout",
     "output_type": "stream",
     "text": [
      "    1/4: Recortando la capa de deforestación...\n",
      "    2/4: Uniendo polígonos (dissolve)...\n",
      "    3/4: Calculando área en hectáreas...\n",
      "    4/4: Guardando resultado en: def20_rumipamba.shp\n",
      "    -> Archivo guardado con éxito. ✨\n",
      "\n",
      "  Procesando capa de deforestación del año: 2022\n"
     ]
    },
    {
     "name": "stderr",
     "output_type": "stream",
     "text": [
      "C:\\Users\\nacho\\AppData\\Local\\Temp\\ipykernel_18820\\3899044288.py:127: UserWarning: Column names longer than 10 characters will be truncated when saved to ESRI Shapefile.\n",
      "  disuelto_gdf.to_file(ruta_salida_completa, driver='ESRI Shapefile', encoding='utf-8')\n",
      "c:\\Users\\nacho\\miniforge3\\envs\\geo_env\\Lib\\site-packages\\pyogrio\\raw.py:723: RuntimeWarning: Normalized/laundered field name: 'dissolve_id' to 'dissolve_i'\n",
      "  ogr_write(\n"
     ]
    },
    {
     "name": "stdout",
     "output_type": "stream",
     "text": [
      "    1/4: Recortando la capa de deforestación...\n",
      "    2/4: Uniendo polígonos (dissolve)...\n",
      "    3/4: Calculando área en hectáreas...\n",
      "    4/4: Guardando resultado en: def22_rumipamba.shp\n",
      "    -> Archivo guardado con éxito. ✨\n",
      "\n",
      "==================================================\n",
      "Procesando Área de Estudio: r_monterrey\n",
      "==================================================\n",
      "\n",
      "  Procesando capa de deforestación del año: 2018\n"
     ]
    },
    {
     "name": "stderr",
     "output_type": "stream",
     "text": [
      "C:\\Users\\nacho\\AppData\\Local\\Temp\\ipykernel_18820\\3899044288.py:127: UserWarning: Column names longer than 10 characters will be truncated when saved to ESRI Shapefile.\n",
      "  disuelto_gdf.to_file(ruta_salida_completa, driver='ESRI Shapefile', encoding='utf-8')\n",
      "c:\\Users\\nacho\\miniforge3\\envs\\geo_env\\Lib\\site-packages\\pyogrio\\raw.py:723: RuntimeWarning: Normalized/laundered field name: 'dissolve_id' to 'dissolve_i'\n",
      "  ogr_write(\n"
     ]
    },
    {
     "name": "stdout",
     "output_type": "stream",
     "text": [
      "    1/4: Recortando la capa de deforestación...\n",
      "    -> El área de estudio no se superpone con la capa de deforestación. No se generará archivo.\n",
      "\n",
      "  Procesando capa de deforestación del año: 2020\n",
      "    1/4: Recortando la capa de deforestación...\n",
      "    -> El área de estudio no se superpone con la capa de deforestación. No se generará archivo.\n",
      "\n",
      "  Procesando capa de deforestación del año: 2022\n",
      "    1/4: Recortando la capa de deforestación...\n",
      "    -> El área de estudio no se superpone con la capa de deforestación. No se generará archivo.\n",
      "\n",
      "==================================================\n",
      "Procesando Área de Estudio: san_antonio\n",
      "==================================================\n",
      "\n",
      "  Procesando capa de deforestación del año: 2018\n",
      "    1/4: Recortando la capa de deforestación...\n",
      "    2/4: Uniendo polígonos (dissolve)...\n",
      "    3/4: Calculando área en hectáreas...\n",
      "    4/4: Guardando resultado en: def18_san_antonio.shp\n",
      "    -> Archivo guardado con éxito. ✨\n",
      "\n",
      "  Procesando capa de deforestación del año: 2020\n"
     ]
    },
    {
     "name": "stderr",
     "output_type": "stream",
     "text": [
      "C:\\Users\\nacho\\AppData\\Local\\Temp\\ipykernel_18820\\3899044288.py:127: UserWarning: Column names longer than 10 characters will be truncated when saved to ESRI Shapefile.\n",
      "  disuelto_gdf.to_file(ruta_salida_completa, driver='ESRI Shapefile', encoding='utf-8')\n",
      "c:\\Users\\nacho\\miniforge3\\envs\\geo_env\\Lib\\site-packages\\pyogrio\\raw.py:723: RuntimeWarning: Normalized/laundered field name: 'dissolve_id' to 'dissolve_i'\n",
      "  ogr_write(\n"
     ]
    },
    {
     "name": "stdout",
     "output_type": "stream",
     "text": [
      "    1/4: Recortando la capa de deforestación...\n",
      "    2/4: Uniendo polígonos (dissolve)...\n",
      "    3/4: Calculando área en hectáreas...\n",
      "    4/4: Guardando resultado en: def20_san_antonio.shp\n",
      "    -> Archivo guardado con éxito. ✨\n",
      "\n",
      "  Procesando capa de deforestación del año: 2022\n"
     ]
    },
    {
     "name": "stderr",
     "output_type": "stream",
     "text": [
      "C:\\Users\\nacho\\AppData\\Local\\Temp\\ipykernel_18820\\3899044288.py:127: UserWarning: Column names longer than 10 characters will be truncated when saved to ESRI Shapefile.\n",
      "  disuelto_gdf.to_file(ruta_salida_completa, driver='ESRI Shapefile', encoding='utf-8')\n",
      "c:\\Users\\nacho\\miniforge3\\envs\\geo_env\\Lib\\site-packages\\pyogrio\\raw.py:723: RuntimeWarning: Normalized/laundered field name: 'dissolve_id' to 'dissolve_i'\n",
      "  ogr_write(\n"
     ]
    },
    {
     "name": "stdout",
     "output_type": "stream",
     "text": [
      "    1/4: Recortando la capa de deforestación...\n",
      "    2/4: Uniendo polígonos (dissolve)...\n",
      "    3/4: Calculando área en hectáreas...\n",
      "    4/4: Guardando resultado en: def22_san_antonio.shp\n",
      "    -> Archivo guardado con éxito. ✨\n",
      "\n",
      "==================================================\n",
      "Procesando Área de Estudio: san_antonio_paraiso\n",
      "==================================================\n",
      "\n",
      "  Procesando capa de deforestación del año: 2018\n"
     ]
    },
    {
     "name": "stderr",
     "output_type": "stream",
     "text": [
      "C:\\Users\\nacho\\AppData\\Local\\Temp\\ipykernel_18820\\3899044288.py:127: UserWarning: Column names longer than 10 characters will be truncated when saved to ESRI Shapefile.\n",
      "  disuelto_gdf.to_file(ruta_salida_completa, driver='ESRI Shapefile', encoding='utf-8')\n",
      "c:\\Users\\nacho\\miniforge3\\envs\\geo_env\\Lib\\site-packages\\pyogrio\\raw.py:723: RuntimeWarning: Normalized/laundered field name: 'dissolve_id' to 'dissolve_i'\n",
      "  ogr_write(\n"
     ]
    },
    {
     "name": "stdout",
     "output_type": "stream",
     "text": [
      "    1/4: Recortando la capa de deforestación...\n",
      "    2/4: Uniendo polígonos (dissolve)...\n",
      "    3/4: Calculando área en hectáreas...\n",
      "    4/4: Guardando resultado en: def18_san_antonio_paraiso.shp\n",
      "    -> Archivo guardado con éxito. ✨\n",
      "\n",
      "  Procesando capa de deforestación del año: 2020\n"
     ]
    },
    {
     "name": "stderr",
     "output_type": "stream",
     "text": [
      "C:\\Users\\nacho\\AppData\\Local\\Temp\\ipykernel_18820\\3899044288.py:127: UserWarning: Column names longer than 10 characters will be truncated when saved to ESRI Shapefile.\n",
      "  disuelto_gdf.to_file(ruta_salida_completa, driver='ESRI Shapefile', encoding='utf-8')\n",
      "c:\\Users\\nacho\\miniforge3\\envs\\geo_env\\Lib\\site-packages\\pyogrio\\raw.py:723: RuntimeWarning: Normalized/laundered field name: 'dissolve_id' to 'dissolve_i'\n",
      "  ogr_write(\n"
     ]
    },
    {
     "name": "stdout",
     "output_type": "stream",
     "text": [
      "    1/4: Recortando la capa de deforestación...\n",
      "    2/4: Uniendo polígonos (dissolve)...\n",
      "    3/4: Calculando área en hectáreas...\n",
      "    4/4: Guardando resultado en: def20_san_antonio_paraiso.shp\n",
      "    -> Archivo guardado con éxito. ✨\n",
      "\n",
      "  Procesando capa de deforestación del año: 2022\n"
     ]
    },
    {
     "name": "stderr",
     "output_type": "stream",
     "text": [
      "C:\\Users\\nacho\\AppData\\Local\\Temp\\ipykernel_18820\\3899044288.py:127: UserWarning: Column names longer than 10 characters will be truncated when saved to ESRI Shapefile.\n",
      "  disuelto_gdf.to_file(ruta_salida_completa, driver='ESRI Shapefile', encoding='utf-8')\n",
      "c:\\Users\\nacho\\miniforge3\\envs\\geo_env\\Lib\\site-packages\\pyogrio\\raw.py:723: RuntimeWarning: Normalized/laundered field name: 'dissolve_id' to 'dissolve_i'\n",
      "  ogr_write(\n"
     ]
    },
    {
     "name": "stdout",
     "output_type": "stream",
     "text": [
      "    1/4: Recortando la capa de deforestación...\n",
      "    2/4: Uniendo polígonos (dissolve)...\n",
      "    3/4: Calculando área en hectáreas...\n",
      "    4/4: Guardando resultado en: def22_san_antonio_paraiso.shp\n",
      "    -> Archivo guardado con éxito. ✨\n",
      "\n",
      "==================================================\n",
      "Procesando Área de Estudio: san_carlos\n",
      "==================================================\n",
      "\n",
      "  Procesando capa de deforestación del año: 2018\n"
     ]
    },
    {
     "name": "stderr",
     "output_type": "stream",
     "text": [
      "C:\\Users\\nacho\\AppData\\Local\\Temp\\ipykernel_18820\\3899044288.py:127: UserWarning: Column names longer than 10 characters will be truncated when saved to ESRI Shapefile.\n",
      "  disuelto_gdf.to_file(ruta_salida_completa, driver='ESRI Shapefile', encoding='utf-8')\n",
      "c:\\Users\\nacho\\miniforge3\\envs\\geo_env\\Lib\\site-packages\\pyogrio\\raw.py:723: RuntimeWarning: Normalized/laundered field name: 'dissolve_id' to 'dissolve_i'\n",
      "  ogr_write(\n"
     ]
    },
    {
     "name": "stdout",
     "output_type": "stream",
     "text": [
      "    1/4: Recortando la capa de deforestación...\n",
      "    2/4: Uniendo polígonos (dissolve)...\n",
      "    3/4: Calculando área en hectáreas...\n",
      "    4/4: Guardando resultado en: def18_san_carlos.shp\n",
      "    -> Archivo guardado con éxito. ✨\n",
      "\n",
      "  Procesando capa de deforestación del año: 2020\n"
     ]
    },
    {
     "name": "stderr",
     "output_type": "stream",
     "text": [
      "C:\\Users\\nacho\\AppData\\Local\\Temp\\ipykernel_18820\\3899044288.py:127: UserWarning: Column names longer than 10 characters will be truncated when saved to ESRI Shapefile.\n",
      "  disuelto_gdf.to_file(ruta_salida_completa, driver='ESRI Shapefile', encoding='utf-8')\n",
      "c:\\Users\\nacho\\miniforge3\\envs\\geo_env\\Lib\\site-packages\\pyogrio\\raw.py:723: RuntimeWarning: Normalized/laundered field name: 'dissolve_id' to 'dissolve_i'\n",
      "  ogr_write(\n"
     ]
    },
    {
     "name": "stdout",
     "output_type": "stream",
     "text": [
      "    1/4: Recortando la capa de deforestación...\n",
      "    2/4: Uniendo polígonos (dissolve)...\n",
      "    3/4: Calculando área en hectáreas...\n",
      "    4/4: Guardando resultado en: def20_san_carlos.shp\n",
      "    -> Archivo guardado con éxito. ✨\n",
      "\n",
      "  Procesando capa de deforestación del año: 2022\n"
     ]
    },
    {
     "name": "stderr",
     "output_type": "stream",
     "text": [
      "C:\\Users\\nacho\\AppData\\Local\\Temp\\ipykernel_18820\\3899044288.py:127: UserWarning: Column names longer than 10 characters will be truncated when saved to ESRI Shapefile.\n",
      "  disuelto_gdf.to_file(ruta_salida_completa, driver='ESRI Shapefile', encoding='utf-8')\n",
      "c:\\Users\\nacho\\miniforge3\\envs\\geo_env\\Lib\\site-packages\\pyogrio\\raw.py:723: RuntimeWarning: Normalized/laundered field name: 'dissolve_id' to 'dissolve_i'\n",
      "  ogr_write(\n"
     ]
    },
    {
     "name": "stdout",
     "output_type": "stream",
     "text": [
      "    1/4: Recortando la capa de deforestación...\n",
      "    2/4: Uniendo polígonos (dissolve)...\n",
      "    3/4: Calculando área en hectáreas...\n",
      "    4/4: Guardando resultado en: def22_san_carlos.shp\n",
      "    -> Archivo guardado con éxito. ✨\n",
      "\n",
      "==================================================\n",
      "Procesando Área de Estudio: sinchi_chakra_warmi\n",
      "==================================================\n",
      "\n",
      "  Procesando capa de deforestación del año: 2018\n"
     ]
    },
    {
     "name": "stderr",
     "output_type": "stream",
     "text": [
      "C:\\Users\\nacho\\AppData\\Local\\Temp\\ipykernel_18820\\3899044288.py:127: UserWarning: Column names longer than 10 characters will be truncated when saved to ESRI Shapefile.\n",
      "  disuelto_gdf.to_file(ruta_salida_completa, driver='ESRI Shapefile', encoding='utf-8')\n",
      "c:\\Users\\nacho\\miniforge3\\envs\\geo_env\\Lib\\site-packages\\pyogrio\\raw.py:723: RuntimeWarning: Normalized/laundered field name: 'dissolve_id' to 'dissolve_i'\n",
      "  ogr_write(\n"
     ]
    },
    {
     "name": "stdout",
     "output_type": "stream",
     "text": [
      "    1/4: Recortando la capa de deforestación...\n",
      "    2/4: Uniendo polígonos (dissolve)...\n",
      "    3/4: Calculando área en hectáreas...\n",
      "    4/4: Guardando resultado en: def18_sinchi_chakra_warmi.shp\n",
      "    -> Archivo guardado con éxito. ✨\n",
      "\n",
      "  Procesando capa de deforestación del año: 2020\n"
     ]
    },
    {
     "name": "stderr",
     "output_type": "stream",
     "text": [
      "C:\\Users\\nacho\\AppData\\Local\\Temp\\ipykernel_18820\\3899044288.py:127: UserWarning: Column names longer than 10 characters will be truncated when saved to ESRI Shapefile.\n",
      "  disuelto_gdf.to_file(ruta_salida_completa, driver='ESRI Shapefile', encoding='utf-8')\n",
      "c:\\Users\\nacho\\miniforge3\\envs\\geo_env\\Lib\\site-packages\\pyogrio\\raw.py:723: RuntimeWarning: Normalized/laundered field name: 'dissolve_id' to 'dissolve_i'\n",
      "  ogr_write(\n"
     ]
    },
    {
     "name": "stdout",
     "output_type": "stream",
     "text": [
      "    1/4: Recortando la capa de deforestación...\n",
      "    2/4: Uniendo polígonos (dissolve)...\n",
      "    3/4: Calculando área en hectáreas...\n",
      "    4/4: Guardando resultado en: def20_sinchi_chakra_warmi.shp\n",
      "    -> Archivo guardado con éxito. ✨\n",
      "\n",
      "  Procesando capa de deforestación del año: 2022\n"
     ]
    },
    {
     "name": "stderr",
     "output_type": "stream",
     "text": [
      "C:\\Users\\nacho\\AppData\\Local\\Temp\\ipykernel_18820\\3899044288.py:127: UserWarning: Column names longer than 10 characters will be truncated when saved to ESRI Shapefile.\n",
      "  disuelto_gdf.to_file(ruta_salida_completa, driver='ESRI Shapefile', encoding='utf-8')\n",
      "c:\\Users\\nacho\\miniforge3\\envs\\geo_env\\Lib\\site-packages\\pyogrio\\raw.py:723: RuntimeWarning: Normalized/laundered field name: 'dissolve_id' to 'dissolve_i'\n",
      "  ogr_write(\n"
     ]
    },
    {
     "name": "stdout",
     "output_type": "stream",
     "text": [
      "    1/4: Recortando la capa de deforestación...\n",
      "    2/4: Uniendo polígonos (dissolve)...\n",
      "    3/4: Calculando área en hectáreas...\n",
      "    4/4: Guardando resultado en: def22_sinchi_chakra_warmi.shp\n",
      "    -> Archivo guardado con éxito. ✨\n",
      "\n",
      "==================================================\n",
      "Procesando Área de Estudio: tomebamba\n",
      "==================================================\n",
      "\n",
      "  Procesando capa de deforestación del año: 2018\n"
     ]
    },
    {
     "name": "stderr",
     "output_type": "stream",
     "text": [
      "C:\\Users\\nacho\\AppData\\Local\\Temp\\ipykernel_18820\\3899044288.py:127: UserWarning: Column names longer than 10 characters will be truncated when saved to ESRI Shapefile.\n",
      "  disuelto_gdf.to_file(ruta_salida_completa, driver='ESRI Shapefile', encoding='utf-8')\n",
      "c:\\Users\\nacho\\miniforge3\\envs\\geo_env\\Lib\\site-packages\\pyogrio\\raw.py:723: RuntimeWarning: Normalized/laundered field name: 'dissolve_id' to 'dissolve_i'\n",
      "  ogr_write(\n"
     ]
    },
    {
     "name": "stdout",
     "output_type": "stream",
     "text": [
      "    1/4: Recortando la capa de deforestación...\n",
      "    2/4: Uniendo polígonos (dissolve)...\n",
      "    3/4: Calculando área en hectáreas...\n",
      "    4/4: Guardando resultado en: def18_tomebamba.shp\n",
      "    -> Archivo guardado con éxito. ✨\n",
      "\n",
      "  Procesando capa de deforestación del año: 2020\n"
     ]
    },
    {
     "name": "stderr",
     "output_type": "stream",
     "text": [
      "C:\\Users\\nacho\\AppData\\Local\\Temp\\ipykernel_18820\\3899044288.py:127: UserWarning: Column names longer than 10 characters will be truncated when saved to ESRI Shapefile.\n",
      "  disuelto_gdf.to_file(ruta_salida_completa, driver='ESRI Shapefile', encoding='utf-8')\n",
      "c:\\Users\\nacho\\miniforge3\\envs\\geo_env\\Lib\\site-packages\\pyogrio\\raw.py:723: RuntimeWarning: Normalized/laundered field name: 'dissolve_id' to 'dissolve_i'\n",
      "  ogr_write(\n"
     ]
    },
    {
     "name": "stdout",
     "output_type": "stream",
     "text": [
      "    1/4: Recortando la capa de deforestación...\n",
      "    2/4: Uniendo polígonos (dissolve)...\n",
      "    3/4: Calculando área en hectáreas...\n",
      "    4/4: Guardando resultado en: def20_tomebamba.shp\n",
      "    -> Archivo guardado con éxito. ✨\n",
      "\n",
      "  Procesando capa de deforestación del año: 2022\n"
     ]
    },
    {
     "name": "stderr",
     "output_type": "stream",
     "text": [
      "C:\\Users\\nacho\\AppData\\Local\\Temp\\ipykernel_18820\\3899044288.py:127: UserWarning: Column names longer than 10 characters will be truncated when saved to ESRI Shapefile.\n",
      "  disuelto_gdf.to_file(ruta_salida_completa, driver='ESRI Shapefile', encoding='utf-8')\n",
      "c:\\Users\\nacho\\miniforge3\\envs\\geo_env\\Lib\\site-packages\\pyogrio\\raw.py:723: RuntimeWarning: Normalized/laundered field name: 'dissolve_id' to 'dissolve_i'\n",
      "  ogr_write(\n"
     ]
    },
    {
     "name": "stdout",
     "output_type": "stream",
     "text": [
      "    1/4: Recortando la capa de deforestación...\n",
      "    2/4: Uniendo polígonos (dissolve)...\n",
      "    3/4: Calculando área en hectáreas...\n",
      "    4/4: Guardando resultado en: def22_tomebamba.shp\n",
      "    -> Archivo guardado con éxito. ✨\n",
      "\n",
      "==================================================\n",
      "Procesando Área de Estudio: voluntad_dios\n",
      "==================================================\n",
      "\n",
      "  Procesando capa de deforestación del año: 2018\n"
     ]
    },
    {
     "name": "stderr",
     "output_type": "stream",
     "text": [
      "C:\\Users\\nacho\\AppData\\Local\\Temp\\ipykernel_18820\\3899044288.py:127: UserWarning: Column names longer than 10 characters will be truncated when saved to ESRI Shapefile.\n",
      "  disuelto_gdf.to_file(ruta_salida_completa, driver='ESRI Shapefile', encoding='utf-8')\n",
      "c:\\Users\\nacho\\miniforge3\\envs\\geo_env\\Lib\\site-packages\\pyogrio\\raw.py:723: RuntimeWarning: Normalized/laundered field name: 'dissolve_id' to 'dissolve_i'\n",
      "  ogr_write(\n"
     ]
    },
    {
     "name": "stdout",
     "output_type": "stream",
     "text": [
      "    1/4: Recortando la capa de deforestación...\n",
      "    2/4: Uniendo polígonos (dissolve)...\n",
      "    3/4: Calculando área en hectáreas...\n",
      "    4/4: Guardando resultado en: def18_voluntad_dios.shp\n",
      "    -> Archivo guardado con éxito. ✨\n",
      "\n",
      "  Procesando capa de deforestación del año: 2020\n"
     ]
    },
    {
     "name": "stderr",
     "output_type": "stream",
     "text": [
      "C:\\Users\\nacho\\AppData\\Local\\Temp\\ipykernel_18820\\3899044288.py:127: UserWarning: Column names longer than 10 characters will be truncated when saved to ESRI Shapefile.\n",
      "  disuelto_gdf.to_file(ruta_salida_completa, driver='ESRI Shapefile', encoding='utf-8')\n",
      "c:\\Users\\nacho\\miniforge3\\envs\\geo_env\\Lib\\site-packages\\pyogrio\\raw.py:723: RuntimeWarning: Normalized/laundered field name: 'dissolve_id' to 'dissolve_i'\n",
      "  ogr_write(\n"
     ]
    },
    {
     "name": "stdout",
     "output_type": "stream",
     "text": [
      "    1/4: Recortando la capa de deforestación...\n",
      "    2/4: Uniendo polígonos (dissolve)...\n",
      "    3/4: Calculando área en hectáreas...\n",
      "    4/4: Guardando resultado en: def20_voluntad_dios.shp\n",
      "    -> Archivo guardado con éxito. ✨\n",
      "\n",
      "  Procesando capa de deforestación del año: 2022\n"
     ]
    },
    {
     "name": "stderr",
     "output_type": "stream",
     "text": [
      "C:\\Users\\nacho\\AppData\\Local\\Temp\\ipykernel_18820\\3899044288.py:127: UserWarning: Column names longer than 10 characters will be truncated when saved to ESRI Shapefile.\n",
      "  disuelto_gdf.to_file(ruta_salida_completa, driver='ESRI Shapefile', encoding='utf-8')\n",
      "c:\\Users\\nacho\\miniforge3\\envs\\geo_env\\Lib\\site-packages\\pyogrio\\raw.py:723: RuntimeWarning: Normalized/laundered field name: 'dissolve_id' to 'dissolve_i'\n",
      "  ogr_write(\n"
     ]
    },
    {
     "name": "stdout",
     "output_type": "stream",
     "text": [
      "    1/4: Recortando la capa de deforestación...\n",
      "    2/4: Uniendo polígonos (dissolve)...\n",
      "    3/4: Calculando área en hectáreas...\n",
      "    4/4: Guardando resultado en: def22_voluntad_dios.shp\n",
      "    -> Archivo guardado con éxito. ✨\n",
      "\n",
      "--- PROCESO FINALIZADO ---\n",
      "Todos los archivos han sido procesados. Revisa la carpeta de resultados.\n"
     ]
    },
    {
     "name": "stderr",
     "output_type": "stream",
     "text": [
      "C:\\Users\\nacho\\AppData\\Local\\Temp\\ipykernel_18820\\3899044288.py:127: UserWarning: Column names longer than 10 characters will be truncated when saved to ESRI Shapefile.\n",
      "  disuelto_gdf.to_file(ruta_salida_completa, driver='ESRI Shapefile', encoding='utf-8')\n",
      "c:\\Users\\nacho\\miniforge3\\envs\\geo_env\\Lib\\site-packages\\pyogrio\\raw.py:723: RuntimeWarning: Normalized/laundered field name: 'dissolve_id' to 'dissolve_i'\n",
      "  ogr_write(\n"
     ]
    }
   ],
   "source": [
    "# ==============================================================================\n",
    "# SCRIPT PARA ANÁLISIS DE DEFORESTACIÓN POR ÁREA DE ESTUDIO (EJECUCIÓN LOCAL)\n",
    "# ==============================================================================\n",
    "# Este script realiza los siguientes pasos:\n",
    "# 1. Itera sobre cada shapefile de área de estudio en una carpeta específica.\n",
    "# 2. Para cada área, recorta tres capas de deforestación (2018, 2020, 2022).\n",
    "# 3. Realiza una operación 'dissolve' para unir todos los polígonos de\n",
    "#    deforestación recortados en una sola geometría.\n",
    "# 4. Calcula el área total de la deforestación en hectáreas (ha).\n",
    "# 5. Guarda el resultado en un nuevo shapefile con un nombre estandarizado,\n",
    "#    eliminando la terminación \"_influencia\" del nombre del área de estudio.\n",
    "# ==============================================================================\n",
    "\n",
    "import geopandas as gpd\n",
    "import os\n",
    "import warnings\n",
    "\n",
    "# Ignorar advertencias futuras de geopandas para una salida más limpia.\n",
    "warnings.simplefilter(action='ignore', category=FutureWarning)\n",
    "\n",
    "# ==============================================================================\n",
    "# 1. DEFINE TUS RUTAS AQUÍ\n",
    "# ==============================================================================\n",
    "# ¡IMPORTANTE! Reemplaza el texto entre comillas con las rutas a tus carpetas.\n",
    "# Usa el formato r\"C:\\Usuarios\\TuUsuario\\...\" para evitar errores en Windows.\n",
    "\n",
    "# Carpeta que contiene los shapefiles de tus áreas de estudio.\n",
    "ruta_areas_estudio = r\"C:\\Users\\nacho\\Documents\\Github\\GIZ\\area_estudio\"\n",
    "\n",
    "# Carpeta donde se guardarán los resultados.\n",
    "# Si no existe, el script la creará por ti.\n",
    "ruta_resultados = r\"C:\\Users\\nacho\\Documents\\Github\\GIZ\\def\\corte\"\n",
    "\n",
    "# --- Rutas a tus capas de deforestación ---\n",
    "# Define aquí la ruta completa a cada uno de tus archivos shapefile.\n",
    "deforestacion_info = {\n",
    "    '2018': r\"C:\\Users\\nacho\\Documents\\Github\\GIZ\\def\\v_fc010_deforestacion_16_18_aPolygon.shp\",\n",
    "    '2020': r\"C:\\Users\\nacho\\Documents\\Github\\GIZ\\def\\v_fc010_deforestacion_18_20_aPolygon.shp\",\n",
    "    '2022': r\"C:\\Users\\nacho\\Documents\\Github\\GIZ\\def\\v_fc010_deforestacion_20_22_aPolygon.shp\"\n",
    "}\n",
    "# ==============================================================================\n",
    "\n",
    "# Crear la carpeta de resultados si no existe.\n",
    "if not os.path.exists(ruta_resultados):\n",
    "    os.makedirs(ruta_resultados)\n",
    "    print(f\"Carpeta de resultados creada en: {ruta_resultados}\")\n",
    "\n",
    "# ==============================================================================\n",
    "# 2. PROCESAMIENTO PRINCIPAL\n",
    "# ==============================================================================\n",
    "print(\"\\n--- INICIANDO ANÁLISIS DE DEFORESTACIÓN ---\")\n",
    "\n",
    "# Validar que la carpeta de áreas de estudio exista.\n",
    "if not os.path.isdir(ruta_areas_estudio):\n",
    "    print(f\"¡ERROR! La carpeta de áreas de estudio no se encontró en: {ruta_areas_estudio}\")\n",
    "    exit()\n",
    "\n",
    "# Iterar sobre todos los archivos en la carpeta de áreas de estudio.\n",
    "for area_shp_nombre in os.listdir(ruta_areas_estudio):\n",
    "    if area_shp_nombre.endswith('.shp'):\n",
    "        \n",
    "        # Procesamiento del nombre del archivo de salida.\n",
    "        nombre_base_area = os.path.splitext(area_shp_nombre)[0]\n",
    "        # Eliminar la parte \"_influencia\" del nombre.\n",
    "        nombre_salida_base = nombre_base_area.replace('_influencia', '')\n",
    "        \n",
    "        ruta_area_completa = os.path.join(ruta_areas_estudio, area_shp_nombre)\n",
    "\n",
    "        print(f\"\\n==================================================\")\n",
    "        print(f\"Procesando Área de Estudio: {nombre_base_area}\")\n",
    "        print(f\"==================================================\")\n",
    "\n",
    "        try:\n",
    "            # Cargar el shapefile del área de estudio.\n",
    "            area_gdf = gpd.read_file(ruta_area_completa)\n",
    "        except Exception as e:\n",
    "            print(f\"  -> Error al leer el archivo {area_shp_nombre}: {e}\")\n",
    "            continue # Salta al siguiente archivo si hay un error.\n",
    "\n",
    "        # Iterar sobre cada capa de deforestación definida arriba.\n",
    "        for año, ruta_def_completa in deforestacion_info.items():\n",
    "            \n",
    "            print(f\"\\n  Procesando capa de deforestación del año: {año}\")\n",
    "\n",
    "            # Verificar si el archivo de deforestación existe.\n",
    "            if not os.path.exists(ruta_def_completa):\n",
    "                print(f\"  -> ¡ADVERTENCIA! No se encontró el archivo: {ruta_def_completa}. Saltando...\")\n",
    "                continue\n",
    "\n",
    "            try:\n",
    "                # Cargar la capa de deforestación.\n",
    "                deforestacion_gdf = gpd.read_file(ruta_def_completa)\n",
    "\n",
    "                # 1. VERIFICACIÓN DE CRS (Sistema de Coordenadas)\n",
    "                # Es crucial que ambos GeoDataFrames tengan el mismo CRS.\n",
    "                if area_gdf.crs != deforestacion_gdf.crs:\n",
    "                    print(f\"    -> Advertencia: Los CRS no coinciden. Reproyectando área de estudio al CRS de la capa de deforestación ({deforestacion_gdf.crs.to_string()})\")\n",
    "                    area_gdf = area_gdf.to_crs(deforestacion_gdf.crs)\n",
    "\n",
    "                # 2. RECORTE (CLIP)\n",
    "                print(\"    1/4: Recortando la capa de deforestación...\")\n",
    "                recorte_gdf = gpd.clip(deforestacion_gdf, area_gdf)\n",
    "\n",
    "                # Verificar si el resultado del recorte está vacío.\n",
    "                if recorte_gdf.empty:\n",
    "                    print(\"    -> El área de estudio no se superpone con la capa de deforestación. No se generará archivo.\")\n",
    "                    continue\n",
    "\n",
    "                # 3. DISOLVER (DISSOLVE)\n",
    "                # Une todos los polígonos recortados en una sola geometría.\n",
    "                print(\"    2/4: Uniendo polígonos (dissolve)...\")\n",
    "                # Creamos una columna temporal con un valor constante para poder disolver todo en uno.\n",
    "                recorte_gdf['dissolve_id'] = 1\n",
    "                disuelto_gdf = recorte_gdf.dissolve(by='dissolve_id')\n",
    "\n",
    "                # 4. CÁLCULO DE ÁREA EN HECTÁREAS\n",
    "                print(\"    3/4: Calculando área en hectáreas...\")\n",
    "                # El resultado de dissolve es un GeoSeries, lo convertimos a GeoDataFrame.\n",
    "                disuelto_gdf = gpd.GeoDataFrame(geometry=disuelto_gdf.geometry)\n",
    "                disuelto_gdf['area_ha'] = disuelto_gdf.geometry.area / 10000\n",
    "                \n",
    "                # 5. GUARDADO DEL RESULTADO\n",
    "                nombre_salida = f\"def{año[2:]}_{nombre_salida_base}.shp\"\n",
    "                ruta_salida_completa = os.path.join(ruta_resultados, nombre_salida)\n",
    "                print(f\"    4/4: Guardando resultado en: {nombre_salida}\")\n",
    "\n",
    "                disuelto_gdf.to_file(ruta_salida_completa, driver='ESRI Shapefile', encoding='utf-8')\n",
    "                print(f\"    -> Archivo guardado con éxito. ✨\")\n",
    "\n",
    "            except Exception as e:\n",
    "                print(f\"  -> Ocurrió un error inesperado al procesar la capa del año {año}: {e}\")\n",
    "\n",
    "print(\"\\n--- PROCESO FINALIZADO ---\")\n",
    "print(\"Todos los archivos han sido procesados. Revisa la carpeta de resultados.\")"
   ]
  },
  {
   "cell_type": "markdown",
   "id": "4067af2f",
   "metadata": {},
   "source": [
    "# Exportar datos a matiz de excel"
   ]
  },
  {
   "cell_type": "code",
   "execution_count": 11,
   "id": "b71c12b4",
   "metadata": {},
   "outputs": [
    {
     "name": "stdout",
     "output_type": "stream",
     "text": [
      "--- INICIANDO PROCESO DE CONSOLIDACIÓN ---\n",
      "Procesando: cob2018_16_abril.shp...\n",
      "Procesando: cob2018_24_mayo.shp...\n",
      "Procesando: cob2018_28_marzo.shp...\n",
      "Procesando: cob2018_29_marzo.shp...\n",
      "Procesando: cob2018_6_junio.shp...\n",
      "Procesando: cob2018_9_de_marzo.shp...\n",
      "Procesando: cob2018_alto_huino.shp...\n",
      "Procesando: cob2018_amazonas.shp...\n",
      "Procesando: cob2018_angeles.shp...\n",
      "Procesando: cob2018_arapino.shp...\n",
      "Procesando: cob2018_aromacacao_a.shp...\n",
      "Procesando: cob2018_aromacacao_b.shp...\n",
      "Procesando: cob2018_aromacacao_c.shp...\n",
      "Procesando: cob2018_atahualpa.shp...\n",
      "Procesando: cob2018_calapucha.shp...\n",
      "Procesando: cob2018_chimboracense.shp...\n",
      "Procesando: cob2018_ejcf.shp...\n",
      "Procesando: cob2018_el_inca.shp...\n",
      "Procesando: cob2018_fano.shp...\n",
      "Procesando: cob2018_florida.shp...\n",
      "Procesando: cob2018_las_palmas.shp...\n",
      "Procesando: cob2018_marianita_miguel.shp...\n",
      "Procesando: cob2018_parcelas_7_julio.shp...\n",
      "Procesando: cob2018_parcelas_shushufindi.shp...\n",
      "Procesando: cob2018_parcelas_spcofanes.shp...\n",
      "Procesando: cob2018_rios_vencedores.shp...\n",
      "Procesando: cob2018_rio_tiputini.shp...\n",
      "Procesando: cob2018_riveras_oriente.shp...\n",
      "Procesando: cob2018_rumipamba.shp...\n",
      "Procesando: cob2018_r_monterrey.shp...\n",
      "Procesando: cob2018_san_antonio.shp...\n",
      "Procesando: cob2018_san_antonio_paraiso.shp...\n",
      "Procesando: cob2018_san_carlos.shp...\n",
      "Procesando: cob2018_sinchi_chakra_warmi.shp...\n",
      "Procesando: cob2018_tomebamba.shp...\n",
      "Procesando: cob2018_voluntad_dios.shp...\n",
      "Procesando: cob2020_16_abril.shp...\n",
      "Procesando: cob2020_24_mayo.shp...\n",
      "Procesando: cob2020_28_marzo.shp...\n",
      "Procesando: cob2020_29_marzo.shp...\n",
      "Procesando: cob2020_6_junio.shp...\n",
      "Procesando: cob2020_9_de_marzo.shp...\n",
      "Procesando: cob2020_alto_huino.shp...\n",
      "Procesando: cob2020_amazonas.shp...\n",
      "Procesando: cob2020_angeles.shp...\n",
      "Procesando: cob2020_arapino.shp...\n",
      "Procesando: cob2020_aromacacao_a.shp...\n",
      "Procesando: cob2020_aromacacao_b.shp...\n",
      "Procesando: cob2020_aromacacao_c.shp...\n",
      "Procesando: cob2020_atahualpa.shp...\n",
      "Procesando: cob2020_calapucha.shp...\n",
      "Procesando: cob2020_chimboracense.shp...\n",
      "Procesando: cob2020_ejcf.shp...\n",
      "Procesando: cob2020_el_inca.shp...\n",
      "Procesando: cob2020_fano.shp...\n",
      "Procesando: cob2020_florida.shp...\n",
      "Procesando: cob2020_las_palmas.shp...\n",
      "Procesando: cob2020_marianita_miguel.shp...\n",
      "Procesando: cob2020_parcelas_7_julio.shp...\n",
      "Procesando: cob2020_parcelas_shushufindi.shp...\n",
      "Procesando: cob2020_parcelas_spcofanes.shp...\n",
      "Procesando: cob2020_rios_vencedores.shp...\n",
      "Procesando: cob2020_rio_tiputini.shp...\n",
      "Procesando: cob2020_riveras_oriente.shp...\n",
      "Procesando: cob2020_rumipamba.shp...\n",
      "Procesando: cob2020_r_monterrey.shp...\n",
      "Procesando: cob2020_san_antonio.shp...\n",
      "Procesando: cob2020_san_antonio_paraiso.shp...\n",
      "Procesando: cob2020_san_carlos.shp...\n",
      "Procesando: cob2020_sinchi_chakra_warmi.shp...\n",
      "Procesando: cob2020_tomebamba.shp...\n",
      "Procesando: cob2020_voluntad_dios.shp...\n",
      "Procesando: cob2022_16_abril.shp...\n",
      "Procesando: cob2022_24_mayo.shp...\n",
      "Procesando: cob2022_28_marzo.shp...\n",
      "Procesando: cob2022_29_marzo.shp...\n",
      "Procesando: cob2022_6_junio.shp...\n",
      "Procesando: cob2022_9_de_marzo.shp...\n",
      "Procesando: cob2022_alto_huino.shp...\n",
      "Procesando: cob2022_amazonas.shp...\n",
      "Procesando: cob2022_angeles.shp...\n",
      "Procesando: cob2022_arapino.shp...\n",
      "Procesando: cob2022_aromacacao_a.shp...\n",
      "Procesando: cob2022_aromacacao_b.shp...\n",
      "Procesando: cob2022_aromacacao_c.shp...\n",
      "Procesando: cob2022_atahualpa.shp...\n",
      "Procesando: cob2022_calapucha.shp...\n",
      "Procesando: cob2022_chimboracense.shp...\n",
      "Procesando: cob2022_ejcf.shp...\n",
      "Procesando: cob2022_el_inca.shp...\n",
      "Procesando: cob2022_fano.shp...\n",
      "Procesando: cob2022_florida.shp...\n",
      "Procesando: cob2022_las_palmas.shp...\n",
      "Procesando: cob2022_marianita_miguel.shp...\n",
      "Procesando: cob2022_parcelas_7_julio.shp...\n",
      "Procesando: cob2022_parcelas_shushufindi.shp...\n",
      "Procesando: cob2022_parcelas_spcofanes.shp...\n",
      "Procesando: cob2022_rios_vencedores.shp...\n",
      "Procesando: cob2022_rio_tiputini.shp...\n",
      "Procesando: cob2022_riveras_oriente.shp...\n",
      "Procesando: cob2022_rumipamba.shp...\n",
      "Procesando: cob2022_r_monterrey.shp...\n",
      "Procesando: cob2022_san_antonio.shp...\n",
      "Procesando: cob2022_san_antonio_paraiso.shp...\n",
      "Procesando: cob2022_san_carlos.shp...\n",
      "Procesando: cob2022_sinchi_chakra_warmi.shp...\n",
      "Procesando: cob2022_tomebamba.shp...\n",
      "Procesando: cob2022_voluntad_dios.shp...\n",
      "\n",
      "Consolidando todos los datos...\n",
      "Convirtiendo texto a mayúsculas...\n",
      "\n",
      "--- PROCESO COMPLETADO ---\n",
      "Matriz guardada exitosamente en: C:\\Users\\nacho\\Documents\\Github\\GIZ\\informe\\matriz_v1.xlsx ✅\n"
     ]
    }
   ],
   "source": [
    "# ==============================================================================\n",
    "# SCRIPT PARA CONSOLIDAR DATOS DE SHAPEFILES EN UNA MATRIZ DE EXCEL\n",
    "# ==============================================================================\n",
    "# Este script realiza los siguientes pasos:\n",
    "# 1. Lee todos los archivos .shp de una carpeta de entrada.\n",
    "# 2. Para cada archivo, extrae los datos de su tabla de atributos.\n",
    "# 3. Extrae el \"AÑO\" y el \"NOMBRE\" del área de estudio a partir del\n",
    "#    nombre del archivo.\n",
    "# 4. Consolida los datos de todos los archivos en una única tabla.\n",
    "# 5. Renombra, ordena y convierte a MAYÚSCULAS todas las columnas de texto.\n",
    "# 6. Guarda la tabla final como un único archivo de Excel (.xlsx).\n",
    "# ==============================================================================\n",
    "\n",
    "import geopandas as gpd\n",
    "import pandas as pd\n",
    "import os\n",
    "\n",
    "# ==============================================================================\n",
    "# 1. DEFINE TUS RUTAS AQUÍ\n",
    "# ==============================================================================\n",
    "# ¡IMPORTANTE! Reemplaza el texto entre comillas con tus rutas.\n",
    "# Usa el formato r\"C:\\Ruta\\Completa\\...\" para Windows.\n",
    "\n",
    "# Carpeta que contiene los shapefiles de uso de suelo (los resultados del script anterior).\n",
    "ruta_carpeta_shapefiles = r\"C:\\Users\\nacho\\Documents\\Github\\GIZ\\results\"\n",
    "\n",
    "# Ruta completa donde se guardará el archivo Excel, incluyendo el nombre del archivo.\n",
    "ruta_salida_excel = r\"C:\\Users\\nacho\\Documents\\Github\\GIZ\\informe\\matriz_v1.xlsx\"\n",
    "# ==============================================================================\n",
    "\n",
    "# Lista para almacenar los DataFrames de cada shapefile procesado.\n",
    "lista_de_datos = []\n",
    "\n",
    "print(\"--- INICIANDO PROCESO DE CONSOLIDACIÓN ---\")\n",
    "\n",
    "# Validar que la carpeta de entrada exista.\n",
    "if not os.path.isdir(ruta_carpeta_shapefiles):\n",
    "    print(f\"¡ERROR! La carpeta de entrada no se encontró en: {ruta_carpeta_shapefiles}\")\n",
    "    exit()\n",
    "\n",
    "# Iterar sobre todos los archivos en la carpeta de entrada.\n",
    "for nombre_archivo in os.listdir(ruta_carpeta_shapefiles):\n",
    "    if nombre_archivo.endswith('.shp'):\n",
    "        print(f\"Procesando: {nombre_archivo}...\")\n",
    "        \n",
    "        try:\n",
    "            # --- Extracción de AÑO y NOMBRE desde el nombre del archivo ---\n",
    "            # Ejemplo: \"cob2018_6_junio_influencia.shp\"\n",
    "            \n",
    "            # 1. Quitar el prefijo 'cob' y el sufijo '_influencia.shp'\n",
    "            parte_central = nombre_archivo.replace('cob', '').replace('.shp', '')\n",
    "            \n",
    "            # 2. El año son los primeros 4 caracteres.\n",
    "            año = parte_central[:4]\n",
    "            \n",
    "            # 3. El nombre es el resto, eliminando el primer guion bajo.\n",
    "            nombre_area = parte_central[5:]\n",
    "            \n",
    "            # 4. Formatear el nombre (reemplazar '_' por ' ').\n",
    "            nombre_area_formateado = nombre_area.replace('_', ' ',)\n",
    "\n",
    "            # --- Carga y procesamiento de datos del shapefile ---\n",
    "            ruta_completa_shp = os.path.join(ruta_carpeta_shapefiles, nombre_archivo)\n",
    "            \n",
    "            # Cargar el shapefile.\n",
    "            gdf = gpd.read_file(ruta_completa_shp)\n",
    "            \n",
    "            # Si el shapefile está vacío, saltar al siguiente.\n",
    "            if gdf.empty:\n",
    "                print(\"  -> Advertencia: El shapefile está vacío. Saltando.\")\n",
    "                continue\n",
    "            \n",
    "            # Convertir a un DataFrame de pandas (ya no necesitamos la geometría).\n",
    "            df = pd.DataFrame(gdf.drop(columns='geometry'))\n",
    "            \n",
    "            # Agregar las columnas extraídas del nombre del archivo.\n",
    "            df['AÑO'] = año\n",
    "            df['NOMBRE'] = nombre_area_formateado\n",
    "            \n",
    "            # Añadir el DataFrame procesado a nuestra lista.\n",
    "            lista_de_datos.append(df)\n",
    "\n",
    "        except Exception as e:\n",
    "            print(f\"  -> Error al procesar el archivo '{nombre_archivo}': {e}\")\n",
    "            print(\"  -> Es posible que el nombre del archivo no siga el patrón esperado.\")\n",
    "            continue\n",
    "\n",
    "# --- Consolidación y guardado del archivo final ---\n",
    "if not lista_de_datos:\n",
    "    print(\"\\nNo se encontraron datos para procesar. Asegúrate de que la carpeta de entrada contenga shapefiles válidos.\")\n",
    "else:\n",
    "    print(\"\\nConsolidando todos los datos...\")\n",
    "    \n",
    "    # Unir todos los DataFrames de la lista en uno solo.\n",
    "    matriz_final = pd.concat(lista_de_datos, ignore_index=True)\n",
    "    \n",
    "    # Renombrar las columnas para que coincidan con el formato final deseado.\n",
    "    matriz_final = matriz_final.rename(columns={\n",
    "        'provincia': 'PROVINCIA',\n",
    "        'canton': 'CANTON',\n",
    "        'parroquia': 'PARROQUIA',\n",
    "        'uso_suelo': 'CATEGORÍA'\n",
    "        # 'ha' ya tiene el nombre correcto.\n",
    "    })\n",
    "    \n",
    "    # Seleccionar y reordenar las columnas en el orden final.\n",
    "    columnas_finales = ['PROVINCIA', 'CANTON', 'PARROQUIA', 'NOMBRE', 'AÑO', 'CATEGORÍA', 'ha']\n",
    "    matriz_final = matriz_final[columnas_finales]\n",
    "    \n",
    "    # === CAMBIO IMPORTANTE: CONVERTIR TODAS LAS COLUMNAS DE TEXTO A MAYÚSCULAS ===\n",
    "    print(\"Convirtiendo texto a mayúsculas...\")\n",
    "    columnas_texto = ['PROVINCIA', 'CANTON', 'PARROQUIA', 'NOMBRE', 'CATEGORÍA']\n",
    "    for col in columnas_texto:\n",
    "        # Usamos .astype(str) para evitar errores si hay algún dato numérico perdido\n",
    "        matriz_final[col] = matriz_final[col].astype(str).str.upper()\n",
    "    \n",
    "    # Guardar el DataFrame final en un archivo Excel.\n",
    "    # 'index=False' evita que se guarde una columna extra con el índice del DataFrame.\n",
    "    try:\n",
    "        matriz_final.to_excel(ruta_salida_excel, index=False)\n",
    "        print(f\"\\n--- PROCESO COMPLETADO ---\")\n",
    "        print(f\"Matriz guardada exitosamente en: {ruta_salida_excel} ✅\")\n",
    "    except Exception as e:\n",
    "        print(f\"\\n¡ERROR! No se pudo guardar el archivo Excel: {e}\")"
   ]
  },
  {
   "cell_type": "code",
   "execution_count": 12,
   "id": "5312d894",
   "metadata": {},
   "outputs": [
    {
     "name": "stdout",
     "output_type": "stream",
     "text": [
      "Cargando la matriz base desde: C:\\Users\\nacho\\Documents\\Github\\GIZ\\informe\\matriz_v1.xlsx\n",
      "Creando tabla de referencia para provincia, cantón y parroquia...\n",
      "Tabla de referencia creada con éxito.\n",
      "\n",
      "Procesando shapefiles de la carpeta: C:\\Users\\nacho\\Documents\\Github\\GIZ\\def\\corte\n",
      "  -> Procesando: def18_16_abril.shp\n",
      "  -> Procesando: def18_24_mayo.shp\n",
      "  -> Procesando: def18_28_marzo.shp\n",
      "  -> Procesando: def18_29_marzo.shp\n",
      "  -> Procesando: def18_6_junio.shp\n",
      "  -> Procesando: def18_9_de_marzo.shp\n",
      "  -> Procesando: def18_alto_huino.shp\n",
      "  -> Procesando: def18_amazonas.shp\n",
      "  -> Procesando: def18_angeles.shp\n",
      "  -> Procesando: def18_arapino.shp\n",
      "  -> Procesando: def18_aromacacao_a.shp\n",
      "  -> Procesando: def18_aromacacao_b.shp\n",
      "  -> Procesando: def18_aromacacao_c.shp\n",
      "  -> Procesando: def18_atahualpa.shp\n",
      "  -> Procesando: def18_chimboracense.shp\n",
      "  -> Procesando: def18_ejcf.shp\n",
      "  -> Procesando: def18_el_inca.shp\n",
      "  -> Procesando: def18_fano.shp\n",
      "  -> Procesando: def18_florida.shp\n",
      "  -> Procesando: def18_marianita_miguel.shp\n",
      "  -> Procesando: def18_parcelas_7_julio.shp\n",
      "  -> Procesando: def18_parcelas_shushufindi.shp\n",
      "  -> Procesando: def18_parcelas_spcofanes.shp\n",
      "  -> Procesando: def18_rios_vencedores.shp\n",
      "  -> Procesando: def18_rio_tiputini.shp\n",
      "  -> Procesando: def18_riveras_oriente.shp\n",
      "  -> Procesando: def18_rumipamba.shp\n",
      "  -> Procesando: def18_san_antonio.shp\n",
      "  -> Procesando: def18_san_antonio_paraiso.shp\n",
      "  -> Procesando: def18_san_carlos.shp\n",
      "  -> Procesando: def18_sinchi_chakra_warmi.shp\n",
      "  -> Procesando: def18_tomebamba.shp\n",
      "  -> Procesando: def18_voluntad_dios.shp\n",
      "  -> Procesando: def20_16_abril.shp\n",
      "  -> Procesando: def20_24_mayo.shp\n",
      "  -> Procesando: def20_28_marzo.shp\n",
      "  -> Procesando: def20_29_marzo.shp\n",
      "  -> Procesando: def20_6_junio.shp\n",
      "  -> Procesando: def20_9_de_marzo.shp\n",
      "  -> Procesando: def20_alto_huino.shp\n",
      "  -> Procesando: def20_amazonas.shp\n",
      "  -> Procesando: def20_angeles.shp\n",
      "  -> Procesando: def20_arapino.shp\n",
      "  -> Procesando: def20_aromacacao_a.shp\n",
      "  -> Procesando: def20_aromacacao_b.shp\n",
      "  -> Procesando: def20_aromacacao_c.shp\n",
      "  -> Procesando: def20_atahualpa.shp\n",
      "  -> Procesando: def20_calapucha.shp\n",
      "  -> Procesando: def20_chimboracense.shp\n",
      "  -> Procesando: def20_ejcf.shp\n",
      "  -> Procesando: def20_el_inca.shp\n",
      "  -> Procesando: def20_fano.shp\n",
      "  -> Procesando: def20_florida.shp\n",
      "  -> Procesando: def20_marianita_miguel.shp\n",
      "  -> Procesando: def20_parcelas_7_julio.shp\n",
      "  -> Procesando: def20_parcelas_shushufindi.shp\n",
      "  -> Procesando: def20_parcelas_spcofanes.shp\n",
      "  -> Procesando: def20_rios_vencedores.shp\n",
      "  -> Procesando: def20_rio_tiputini.shp\n",
      "  -> Procesando: def20_riveras_oriente.shp\n",
      "  -> Procesando: def20_rumipamba.shp\n",
      "  -> Procesando: def20_san_antonio.shp\n",
      "  -> Procesando: def20_san_antonio_paraiso.shp\n",
      "  -> Procesando: def20_san_carlos.shp\n",
      "  -> Procesando: def20_sinchi_chakra_warmi.shp\n",
      "  -> Procesando: def20_tomebamba.shp\n",
      "  -> Procesando: def20_voluntad_dios.shp\n",
      "  -> Procesando: def22_16_abril.shp\n",
      "  -> Procesando: def22_24_mayo.shp\n",
      "  -> Procesando: def22_28_marzo.shp\n",
      "  -> Procesando: def22_29_marzo.shp\n",
      "  -> Procesando: def22_6_junio.shp\n",
      "  -> Procesando: def22_9_de_marzo.shp\n",
      "  -> Procesando: def22_alto_huino.shp\n",
      "  -> Procesando: def22_amazonas.shp\n",
      "  -> Procesando: def22_angeles.shp\n",
      "  -> Procesando: def22_arapino.shp\n",
      "  -> Procesando: def22_aromacacao_a.shp\n",
      "  -> Procesando: def22_aromacacao_b.shp\n",
      "  -> Procesando: def22_aromacacao_c.shp\n",
      "  -> Procesando: def22_atahualpa.shp\n",
      "  -> Procesando: def22_calapucha.shp\n",
      "  -> Procesando: def22_chimboracense.shp\n",
      "  -> Procesando: def22_ejcf.shp\n",
      "  -> Procesando: def22_el_inca.shp\n",
      "  -> Procesando: def22_fano.shp\n",
      "  -> Procesando: def22_florida.shp\n",
      "  -> Procesando: def22_las_palmas.shp\n",
      "  -> Procesando: def22_marianita_miguel.shp\n",
      "  -> Procesando: def22_parcelas_7_julio.shp\n",
      "  -> Procesando: def22_parcelas_shushufindi.shp\n",
      "  -> Procesando: def22_parcelas_spcofanes.shp\n",
      "  -> Procesando: def22_rios_vencedores.shp\n",
      "  -> Procesando: def22_rio_tiputini.shp\n",
      "  -> Procesando: def22_riveras_oriente.shp\n",
      "  -> Procesando: def22_rumipamba.shp\n",
      "  -> Procesando: def22_san_antonio.shp\n",
      "  -> Procesando: def22_san_antonio_paraiso.shp\n",
      "  -> Procesando: def22_san_carlos.shp\n",
      "  -> Procesando: def22_sinchi_chakra_warmi.shp\n",
      "  -> Procesando: def22_tomebamba.shp\n",
      "  -> Procesando: def22_voluntad_dios.shp\n",
      "\n",
      "Añadiendo datos de deforestación a la matriz...\n",
      "\n",
      "--- PROCESO COMPLETADO ---\n",
      "Matriz final con datos de deforestación guardada en: C:\\Users\\nacho\\Documents\\Github\\GIZ\\informe\\matriz_v2.xlsx ✅\n"
     ]
    }
   ],
   "source": [
    "# ==============================================================================\n",
    "# SCRIPT PARA AÑADIR DATOS DE DEFORESTACIÓN A UNA MATRIZ DE EXCEL EXISTENTE\n",
    "# ==============================================================================\n",
    "# Este script realiza los siguientes pasos:\n",
    "# 1. Lee una matriz de datos ya existente desde un archivo de Excel.\n",
    "# 2. Crea una tabla de referencia (provincia, cantón, parroquia) a partir\n",
    "#    de los datos de ese Excel.\n",
    "# 3. Itera sobre una carpeta que contiene shapefiles de deforestación.\n",
    "# 4. Para cada shapefile, extrae AÑO, NOMBRE y las HECTÁREAS de la columna \"area_ha\".\n",
    "# 5. Asigna la información de provincia, cantón y parroquia usando la tabla\n",
    "#    de referencia.\n",
    "# 6. Agrega los datos de deforestación a la matriz original.\n",
    "# 7. Guarda el resultado final en un nuevo archivo de Excel con la estructura final.\n",
    "# ==============================================================================\n",
    "\n",
    "import pandas as pd\n",
    "import geopandas as gpd\n",
    "import os\n",
    "\n",
    "# ==============================================================================\n",
    "# 1. DEFINE TUS RUTAS AQUÍ\n",
    "# ==============================================================================\n",
    "# ¡IMPORTANTE! Reemplaza el texto entre comillas con tus rutas.\n",
    "\n",
    "# Ruta al archivo Excel que ya contiene los datos de uso de suelo.\n",
    "ruta_excel_base = r\"C:\\Users\\nacho\\Documents\\Github\\GIZ\\informe\\matriz_v1.xlsx\"\n",
    "\n",
    "# Carpeta que contiene los shapefiles de deforestación (ej: def18_6_junio.shp).\n",
    "ruta_carpeta_deforestacion = r\"C:\\Users\\nacho\\Documents\\Github\\GIZ\\def\\corte\"\n",
    "\n",
    "# Ruta de salida para el nuevo archivo Excel que contendrá TODOS los datos.\n",
    "ruta_salida_excel_final = r\"C:\\Users\\nacho\\Documents\\Github\\GIZ\\informe\\matriz_v2.xlsx\"\n",
    "# ==============================================================================\n",
    "\n",
    "# --- PASO 1: Cargar la matriz de Excel base ---\n",
    "print(f\"Cargando la matriz base desde: {ruta_excel_base}\")\n",
    "try:\n",
    "    df_base = pd.read_excel(ruta_excel_base)\n",
    "except FileNotFoundError:\n",
    "    print(f\"¡ERROR! No se encontró el archivo Excel en la ruta especificada. Revisa la ruta_excel_base.\")\n",
    "    exit()\n",
    "\n",
    "# --- PASO 2: Crear la tabla de referencia geopolítica ---\n",
    "print(\"Creando tabla de referencia para provincia, cantón y parroquia...\")\n",
    "lookup_geo = df_base[['NOMBRE', 'PROVINCIA', 'CANTON', 'PARROQUIA']].drop_duplicates(subset=['NOMBRE']).reset_index(drop=True)\n",
    "print(\"Tabla de referencia creada con éxito.\")\n",
    "\n",
    "# --- PASO 3: Procesar los shapefiles de deforestación ---\n",
    "print(f\"\\nProcesando shapefiles de la carpeta: {ruta_carpeta_deforestacion}\")\n",
    "if not os.path.isdir(ruta_carpeta_deforestacion):\n",
    "    print(f\"¡ERROR! No se encontró la carpeta de deforestación. Revisa la ruta_carpeta_deforestacion.\")\n",
    "    exit()\n",
    "\n",
    "lista_datos_deforestacion = []\n",
    "\n",
    "for nombre_archivo in os.listdir(ruta_carpeta_deforestacion):\n",
    "    if nombre_archivo.endswith('.shp'):\n",
    "        print(f\"  -> Procesando: {nombre_archivo}\")\n",
    "        try:\n",
    "            # Extraer AÑO y NOMBRE del nombre del archivo (ej: \"def18_6_junio.shp\")\n",
    "            año_corto = nombre_archivo[3:5]\n",
    "            año = f\"20{año_corto}\"\n",
    "            \n",
    "            nombre_base = os.path.splitext(nombre_archivo)[0][6:]\n",
    "            nombre_area = nombre_base.replace('_', ' ').upper()\n",
    "            \n",
    "            # Cargar el shapefile\n",
    "            ruta_completa_shp = os.path.join(ruta_carpeta_deforestacion, nombre_archivo)\n",
    "            gdf_defo = gpd.read_file(ruta_completa_shp)\n",
    "            \n",
    "            # --- CORRECCIÓN: Leer específicamente de la columna 'area_ha' ---\n",
    "            if 'area_ha' in gdf_defo.columns:\n",
    "                hectareas = gdf_defo['area_ha'].iloc[0]\n",
    "            else:\n",
    "                print(f\"    -> Advertencia: No se encontró la columna 'area_ha' en {nombre_archivo}. Se asignará 0.\")\n",
    "                hectareas = 0\n",
    "\n",
    "            # Crear un diccionario con los nuevos datos, usando 'ha' como clave final\n",
    "            nuevo_registro = {\n",
    "                'NOMBRE': nombre_area,\n",
    "                'AÑO': int(año),\n",
    "                'CATEGORÍA': 'DEFORESTACION',\n",
    "                'ha': hectareas  # La clave aquí es 'ha' para que coincida con la matriz final\n",
    "            }\n",
    "            lista_datos_deforestacion.append(nuevo_registro)\n",
    "\n",
    "        except Exception as e:\n",
    "            print(f\"    -> Error al procesar el archivo '{nombre_archivo}': {e}\")\n",
    "\n",
    "# --- PASO 4: Combinar los datos ---\n",
    "print(\"\\nAñadiendo datos de deforestación a la matriz...\")\n",
    "df_deforestacion = pd.DataFrame(lista_datos_deforestacion)\n",
    "\n",
    "# Usar la tabla de referencia para añadir la información geopolítica\n",
    "df_deforestacion_completo = pd.merge(df_deforestacion, lookup_geo, on='NOMBRE', how='left')\n",
    "\n",
    "# Unir el DataFrame base con los nuevos datos de deforestación\n",
    "df_final = pd.concat([df_base, df_deforestacion_completo], ignore_index=True)\n",
    "\n",
    "# Asegurar el orden y nombre final de las columnas\n",
    "columnas_finales = ['PROVINCIA', 'CANTON', 'PARROQUIA', 'NOMBRE', 'AÑO', 'CATEGORÍA', 'ha']\n",
    "# El nombre de la columna CATEGORIA en la matriz base ya viene del script anterior.\n",
    "# Lo renombramos por si acaso viniera con otro nombre.\n",
    "df_final = df_final.rename(columns={'CATEGORIA': 'CATEGORÍA'})\n",
    "df_final = df_final[columnas_finales]\n",
    "\n",
    "# Asegurarse de que todas las columnas de texto estén en mayúsculas\n",
    "columnas_texto = ['PROVINCIA', 'CANTON', 'PARROQUIA', 'NOMBRE', 'CATEGORÍA']\n",
    "for col in columnas_texto:\n",
    "    if col in df_final.columns:\n",
    "        df_final[col] = df_final[col].astype(str).str.upper()\n",
    "\n",
    "# --- PASO 5: Guardar el resultado final ---\n",
    "try:\n",
    "    df_final.to_excel(ruta_salida_excel_final, index=False)\n",
    "    print(f\"\\n--- PROCESO COMPLETADO ---\")\n",
    "    print(f\"Matriz final con datos de deforestación guardada en: {ruta_salida_excel_final} ✅\")\n",
    "except Exception as e:\n",
    "    print(f\"\\n¡ERROR! No se pudo guardar el archivo Excel final: {e}\")"
   ]
  },
  {
   "cell_type": "code",
   "execution_count": 13,
   "id": "d682ef92",
   "metadata": {},
   "outputs": [
    {
     "name": "stdout",
     "output_type": "stream",
     "text": [
      "Calculando áreas desde la carpeta: C:\\Users\\nacho\\Documents\\Github\\GIZ\\area_estudio\n",
      "  -> Área '16 ABRIL': 1027.35 ha\n",
      "  -> Área '24 MAYO': 1096.33 ha\n",
      "  -> Área '28 MARZO': 1090.10 ha\n",
      "  -> Área '29 MARZO': 1368.73 ha\n",
      "  -> Área '6 JUNIO': 6017.63 ha\n",
      "  -> Área '9 DE MARZO': 141.78 ha\n",
      "  -> Área 'ALTO HUINO': 1228.43 ha\n",
      "  -> Área 'AMAZONAS': 729.42 ha\n",
      "  -> Área 'ANGELES': 1724.60 ha\n",
      "  -> Área 'ARAPINO': 4108.17 ha\n",
      "  -> Área 'AROMACACAO A': 1763.83 ha\n",
      "  -> Área 'AROMACACAO B': 3226.20 ha\n",
      "  -> Área 'AROMACACAO C': 12241.54 ha\n",
      "  -> Área 'ATAHUALPA': 895.08 ha\n",
      "  -> Área 'CALAPUCHA': 198.94 ha\n",
      "  -> Área 'CHIMBORACENSE': 784.87 ha\n",
      "  -> Área 'EJCF': 5154.73 ha\n",
      "  -> Área 'EL INCA': 2084.95 ha\n",
      "  -> Área 'FANO': 770.65 ha\n",
      "  -> Área 'FLORIDA': 1231.92 ha\n",
      "  -> Área 'LAS PALMAS': 121.90 ha\n",
      "  -> Área 'MARIANITA MIGUEL': 808.60 ha\n",
      "  -> Área 'PARCELAS 7 JULIO': 2417.63 ha\n",
      "  -> Área 'PARCELAS SHUSHUFINDI': 3996.63 ha\n",
      "  -> Área 'PARCELAS SPCOFANES': 1739.02 ha\n",
      "  -> Área 'RIOS VENCEDORES': 4306.67 ha\n",
      "  -> Área 'RIO TIPUTINI': 3176.76 ha\n",
      "  -> Área 'RIVERAS ORIENTE': 928.50 ha\n",
      "  -> Área 'RUMIPAMBA': 0.00 ha\n",
      "  -> Área 'R MONTERREY': 303.04 ha\n",
      "  -> Área 'SAN ANTONIO': 1892.88 ha\n",
      "  -> Área 'SAN ANTONIO PARAISO': 10951.48 ha\n",
      "  -> Área 'SAN CARLOS': 1879.10 ha\n",
      "  -> Área 'SINCHI CHAKRA WARMI': 2892.05 ha\n",
      "  -> Área 'TOMEBAMBA': 426.34 ha\n",
      "  -> Área 'VOLUNTAD DIOS': 213.77 ha\n",
      "\n",
      "Cargando la matriz base desde: C:\\Users\\nacho\\Documents\\Github\\GIZ\\informe\\matriz_v2.xlsx\n",
      "Añadiendo la nueva columna 'ha_REFERENCIAL'...\n",
      "\n",
      "--- PROCESO COMPLETADO ---\n",
      "Matriz final con área referencial guardada en: C:\\Users\\nacho\\Documents\\Github\\GIZ\\informe\\matriz_v3.xlsx ✅\n"
     ]
    },
    {
     "name": "stderr",
     "output_type": "stream",
     "text": [
      "C:\\Users\\nacho\\AppData\\Local\\Temp\\ipykernel_18820\\3259308868.py:61: UserWarning: Geometry is in a geographic CRS. Results from 'area' are likely incorrect. Use 'GeoSeries.to_crs()' to re-project geometries to a projected CRS before this operation.\n",
      "\n",
      "  area_ha = gdf_disuelto.geometry.area.iloc[0] / 10000\n"
     ]
    }
   ],
   "source": [
    "# ==============================================================================\n",
    "# SCRIPT PARA AÑADIR EL ÁREA REFERENCIAL A LA MATRIZ DE EXCEL\n",
    "# ==============================================================================\n",
    "# Este script realiza los siguientes pasos:\n",
    "# 1. Itera sobre una carpeta con los shapefiles de las áreas de estudio originales.\n",
    "# 2. Para cada shapefile, calcula su área total en hectáreas.\n",
    "# 3. Almacena estas áreas en una tabla de referencia asociadas al nombre del área.\n",
    "# 4. Carga la matriz de Excel existente.\n",
    "# 5. Crea una nueva columna \"ha_REFERENCIAL\" en la matriz, llenándola con\n",
    "#    el área correspondiente a cada \"NOMBRE\" de área de estudio.\n",
    "# 6. Guarda el resultado en un nuevo archivo de Excel.\n",
    "# ==============================================================================\n",
    "\n",
    "import pandas as pd\n",
    "import geopandas as gpd\n",
    "import os\n",
    "\n",
    "# ==============================================================================\n",
    "# 1. DEFINE TUS RUTAS AQUÍ\n",
    "# ==============================================================================\n",
    "# ¡IMPORTANTE! Reemplaza el texto entre comillas con tus rutas.\n",
    "\n",
    "# Carpeta con los SHAPEFILES ORIGINALES de las áreas de estudio.\n",
    "# (ej: \"6_junio_influencia.shp\")\n",
    "ruta_areas_estudio = r\"C:\\Users\\nacho\\Documents\\Github\\GIZ\\area_estudio\"\n",
    "\n",
    "# Ruta al archivo Excel que se va a actualizar (el resultado del script anterior).\n",
    "ruta_excel_matriz = r\"C:\\Users\\nacho\\Documents\\Github\\GIZ\\informe\\matriz_v2.xlsx\"\n",
    "\n",
    "# Ruta de salida para el nuevo archivo Excel con la columna añadida.\n",
    "ruta_excel_salida = r\"C:\\Users\\nacho\\Documents\\Github\\GIZ\\informe\\matriz_v3.xlsx\"\n",
    "# ==============================================================================\n",
    "\n",
    "# --- PASO 1: Calcular el área de cada shapefile y crear una tabla de referencia ---\n",
    "print(f\"Calculando áreas desde la carpeta: {ruta_areas_estudio}\")\n",
    "\n",
    "# Diccionario para guardar las áreas: {'NOMBRE_AREA': area_en_hectareas}\n",
    "areas_referenciales = {}\n",
    "\n",
    "if not os.path.isdir(ruta_areas_estudio):\n",
    "    print(f\"¡ERROR! No se encontró la carpeta de áreas de estudio. Revisa la ruta.\")\n",
    "    exit()\n",
    "\n",
    "for nombre_archivo in os.listdir(ruta_areas_estudio):\n",
    "    if nombre_archivo.endswith('.shp'):\n",
    "        try:\n",
    "            # Formatear el nombre del archivo para que coincida con la columna \"NOMBRE\"\n",
    "            # ej: \"6_junio_influencia.shp\" -> \"6 JUNIO\"\n",
    "            nombre_base = os.path.splitext(nombre_archivo)[0]\n",
    "            nombre_formateado = nombre_base.replace('_influencia', '').replace('_', ' ').upper()\n",
    "\n",
    "            # Cargar el shapefile\n",
    "            ruta_completa_shp = os.path.join(ruta_areas_estudio, nombre_archivo)\n",
    "            gdf = gpd.read_file(ruta_completa_shp)\n",
    "            \n",
    "            # Disolver todos los polígonos en uno solo para asegurar un cálculo de área total\n",
    "            gdf_disuelto = gdf.dissolve()\n",
    "            \n",
    "            # Calcular el área en hectáreas (área en m² / 10000)\n",
    "            # .iloc[0] se usa para obtener el valor del primer (y único) polígono disuelto\n",
    "            area_ha = gdf_disuelto.geometry.area.iloc[0] / 10000\n",
    "            \n",
    "            # Guardar en el diccionario\n",
    "            areas_referenciales[nombre_formateado] = area_ha\n",
    "            print(f\"  -> Área '{nombre_formateado}': {area_ha:.2f} ha\")\n",
    "\n",
    "        except Exception as e:\n",
    "            print(f\"    -> Error al procesar el archivo '{nombre_archivo}': {e}\")\n",
    "\n",
    "\n",
    "# --- PASO 2: Cargar la matriz de Excel y añadir la nueva columna ---\n",
    "print(f\"\\nCargando la matriz base desde: {ruta_excel_matriz}\")\n",
    "try:\n",
    "    df_matriz = pd.read_excel(ruta_excel_matriz)\n",
    "except FileNotFoundError:\n",
    "    print(f\"¡ERROR! No se encontró el archivo Excel en la ruta especificada.\")\n",
    "    exit()\n",
    "\n",
    "print(\"Añadiendo la nueva columna 'ha_REFERENCIAL'...\")\n",
    "\n",
    "# Usar el método .map() para crear la nueva columna.\n",
    "# Este método usa el diccionario 'areas_referenciales' para asignar el área\n",
    "# correcta a cada fila basándose en el valor de la columna \"NOMBRE\".\n",
    "df_matriz['ha_REFERENCIAL'] = df_matriz['NOMBRE'].map(areas_referenciales)\n",
    "\n",
    "# Rellenar con 0 si algún nombre no se encontró (opcional, pero buena práctica)\n",
    "df_matriz['ha_REFERENCIAL'].fillna(0, inplace=True)\n",
    "\n",
    "\n",
    "# --- PASO 3: Guardar el resultado final ---\n",
    "try:\n",
    "    df_matriz.to_excel(ruta_excel_salida, index=False)\n",
    "    print(f\"\\n--- PROCESO COMPLETADO ---\")\n",
    "    print(f\"Matriz final con área referencial guardada en: {ruta_excel_salida} ✅\")\n",
    "except Exception as e:\n",
    "    print(f\"\\n¡ERROR! No se pudo guardar el archivo Excel final: {e}\")"
   ]
  }
 ],
 "metadata": {
  "kernelspec": {
   "display_name": "geo_env",
   "language": "python",
   "name": "python3"
  },
  "language_info": {
   "codemirror_mode": {
    "name": "ipython",
    "version": 3
   },
   "file_extension": ".py",
   "mimetype": "text/x-python",
   "name": "python",
   "nbconvert_exporter": "python",
   "pygments_lexer": "ipython3",
   "version": "3.13.7"
  }
 },
 "nbformat": 4,
 "nbformat_minor": 5
}
